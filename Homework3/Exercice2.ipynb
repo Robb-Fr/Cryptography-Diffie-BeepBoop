{
 "cells": [
  {
   "cell_type": "markdown",
   "metadata": {},
   "source": [
    "# Exercice 2 - It's Paillier Time"
   ]
  },
  {
   "cell_type": "code",
   "execution_count": 37,
   "metadata": {},
   "outputs": [],
   "source": [
    "import socket\n",
    "import random"
   ]
  },
  {
   "cell_type": "markdown",
   "metadata": {},
   "source": [
    "## Parameters"
   ]
  },
  {
   "cell_type": "code",
   "execution_count": 38,
   "metadata": {},
   "outputs": [],
   "source": [
    "# used to avoid that commented lines print out in cells\n",
    "dummy_variable=1"
   ]
  },
  {
   "cell_type": "markdown",
   "metadata": {},
   "source": [
    "### Manon"
   ]
  },
  {
   "cell_type": "code",
   "execution_count": 39,
   "metadata": {
    "scrolled": true
   },
   "outputs": [],
   "source": [
    "\n",
    "Q2_pk = (23126225317574533564685763567784805112422422802528044375991530232878046816626972654359312569409613815024110233516767583579704504273876641493923956000444486521828792693719670448805733757021151019156348963104229101509521424758703722409522602080492481556374407627186919068769149189324866103557839626500220665277076365739359284239284517261149057477106704471051809071604198685598866964373125282233860265341936527017243254947315401206335072290537822529339058270860055033113863527352845050121636790279126730748019088004659399576147097558081756878140215014600916056701555145823420355075159563160687725825693936477724973639113, 184868950599190175250307593515811744631199639614868444611418388642948936969996552838987407578824318847543389373954833304092950086998147081642028191833675897729095455110340368603355688976710923539979239643906120812696239716992844640441728318852587508885138404731166830137210468980690728269661377455309326896011827959236195542970633331707480817062330079688393363867656418499948763865610081056503515761974212414619347215963116278949326814257360694315743678461613055673847760802022440668608053948380043420232050788215062819694890902758751122811988950774994695363632363386072614863423047134528800660823424222150308603662955979430753907275129564049571250361125919942234060190920339486876977612537752009626390999615242445318372896914202226514870266097824304128115815563867665682347309346166270830580928088906052741526973897931083684639363481524576326820989998965216304305728930249779109306642447643831106629569127205844379028741721356981869386092318015592689112167890144902887964484439402828681258697801654745590065491350907602535167048826969433130889218594691324972541001504608286118039939932439384675792765328051928301219255588362221627639975278553226863690602207642367405433135392883124711007471534501621911465006339316412219448565535103)\n",
    "Q2_c = 0x8148d71877a0eb6f79fb538d221df31159c4676a7d1fc02209f3b1ed81d908bcd64487b638cd232876559756587b65d4fae8151cbb23350e8d200a06adcfbb2d01c0ddddc5fefa359d82f61a6b46fd2bd40b88a05f09d883a558449ad40ac96bc21f9491621396322ebe7ed09066127bb8ad3fa8dbd75b67115e1297506479b90edeb73b9c37977dcd6ce9f5c5402de3f4202455f75d28973eed71b4be287a74109e82977ef92811085a6ed677f662a5fabd610e703122791dd9ac3e37ea69677ff33b17d46ba9ef41245f3121f999240fcedf0c7737ded7269b49c35e88e9aae210659fc36e1c3b497252dcd6fcb25379142c9fe6117d83736ad342f7c4bee03dbc57ff6a4498129b73ee8dae9cf202d1154f2c5b57df7588f20f6f7abf7eae82ce1eeb863c2b869c5b9906008575c9f8ce558c3247aa581d20f737bae349d8c3e2caccaf97c9535a3b80cd304ddd9d8996868b5e16a77cc03ec7adc535eff8c86544a364ec2e135d3e6ba2826ef3f1f38d010f8853ea95ad2ee8737454b162241f118218c0698eda56a0fd47f685519f97e7025957229cfe8efa0af2572be6f12a7414e75647b23e49ccc6d5f51a557ae626a025b91b719d77f312431c3e48bd90f9280e1548de3f85a720a0cdc3302d759c203848fcc067fa87021e566bbd1ba1d8cbae6917523e4aee4320644e855f411da67de804d29407cd331c22de5c\n",
    "SCIPER=288305\n",
    "\n",
    "dummy_variable=1"
   ]
  },
  {
   "cell_type": "markdown",
   "metadata": {},
   "source": [
    "### Tom"
   ]
  },
  {
   "cell_type": "code",
   "execution_count": 40,
   "metadata": {},
   "outputs": [],
   "source": [
    "\"\"\"\n",
    "Q2_pk = (14740391575866176413846988260310771689833978482573619455651505775055208289525744341743480880251244118157007624907450728534745863994728218219203298520136583741345417010657921317323179332710986276874473379034549503325282494539132293210830155136977425262573539704130682364245484381788166154843033793461495161309132869339074748478731702988572073565501951771840283835795334977822823069754860134202597998202062377265557051178219150936709048486660457621665142372739938338760308612605045246256187981069484526477173231664044483125950561913440785721051710428667758169780061569980985529881011261959210330607938251279233189906223, 40042890213391118704325728159925060857459682142003357106302425947797433673768569186694817066909625408543100705883539162304307230542430073684035856086867896689284470607302464783518459225083005225460719133109517505697207905560026357105821488395854937239269094816336985122226826029070267013062369112804299063537342828922017772561255470178268017633465053277359508859255366110642281015517999443747888016746117829453507319103401641146949409965300109497676992579442875333435641275063340361984711880727041442998137499987495212993718261939045715023324614351069115292486969987142797643395298411530755884561040086690202445706736963102973223736635452908462665771064133554104594328356310400222908164861632646075047678124640034361414266398718727831921681889189423299567871873614852211597532144972000083354644595430244643597304022778444187075081745305327091884956541419958859756829524782417971671162206029768931004475094968301712958104091279217199859435031424352718557716946928032277422580997837253023432856921227628753476119774511853911355370690134527229126717375232178405103893969251181634526226699177744995411858663707181604175426924157233526905970108500221178230589776433896563640545404334387472004745148992045061595301979205245490972742347235)\n",
    "Q2_c = 0x19e2ccf34607f65e0a10816faf55ac4ddc72a9f69119477f80508058589f7699fca65b43b57e7c32c0e4c129de7f7a38fc1554efd8eb50979010e3c862fde79a5802fa4c9ad2e34641de8a0ecca86025827a1e6b536364fd7b5a64fca05fa40a1f7d8188c5d0b80160a90cb778d07dddc0b02d2d14311d7c7e92d54040aefc71265e8f7a1516dbe8f17e10830daa0a342b18be21025af81879b8cd1072ed4ab022bf18d965918d0ef874d2009d42143b691d7344e047cb06bbf73f312894990c5ac95efe9fdb3ddf14f5e131ab403bcc503c084303400ba3804b5ad28e1a79594e7858f3517ee9d25a190b9438f726cf5a902e0c70ac839cd035195ea56bb8d70fbf9c98cd6dd73911ff7f7c90b09971c33e81607f1bfc03f3cacedcc2901587e054e6ddae59270d7f428dea40c79a39b0f0d4940a609160d4fe2b6def1d2c983745e0ac6db4bb8971cc52a602672977860da8f8da3e6b8c00339e97d6390c204aa938a8074dc41911bc4b1398370353320121234cb9a077a500323f4dc03a6b554d8d3a8ac94ed2766a06b748ebc1b93a2a962d60776a2366dfdfccf72c0cc7a064901137ba41c92f603ee8c512be816257a9068170ce45318b6754a66de98be369e8cc722bd374b7b2c4fa9fc46a777a6b5ea15a55214f4e9d7a5c0c3980a5d835dc5c8c333d0a72bab1e687be919702ddbd41fa0981aca654646359cf3fbd\n",
    "SCIPER=299879\n",
    "\"\"\"\n",
    "dummy_variable=1"
   ]
  },
  {
   "cell_type": "markdown",
   "metadata": {},
   "source": [
    "## Key Generation\n",
    "Gets the parameters of the public key available, $g$ and $n$."
   ]
  },
  {
   "cell_type": "code",
   "execution_count": 41,
   "metadata": {},
   "outputs": [],
   "source": [
    "n = Q2_pk[0]\n",
    "g = Q2_pk[1]"
   ]
  },
  {
   "cell_type": "markdown",
   "metadata": {},
   "source": [
    "## Encryption"
   ]
  },
  {
   "cell_type": "markdown",
   "metadata": {},
   "source": [
    "Computes $c=g^mr^n\\ mod\\ n^2$ with $r\\in Z_n^*$."
   ]
  },
  {
   "cell_type": "code",
   "execution_count": 42,
   "metadata": {},
   "outputs": [],
   "source": [
    "# as n=pq, it's very likely to have an element that does not divides n and is then invertible mod n\n",
    "# we just bruteforce to find an element of Z_n^* (way easier than computing units group)\n",
    "def select_elem_Zn_star():\n",
    "    r = Zmod(n).random_element()\n",
    "    while gcd(r,n)!=1:\n",
    "        r = Zmod(n).random_element()\n",
    "    return r"
   ]
  },
  {
   "cell_type": "code",
   "execution_count": 43,
   "metadata": {},
   "outputs": [],
   "source": [
    "# assumes to receive a lifted integer (not modulo)\n",
    "def encrypt(m):\n",
    "    assert m >=0 and m < n\n",
    "    n_square=pow(n,2)\n",
    "    r = Mod(select_elem_Zn_star(),n_square) # have to cast to the right group for next operations to resolve\n",
    "    g_m=power_mod(g,m,n_square)\n",
    "    r_n=power_mod(r,n,n_square)\n",
    "    c = Mod(g_m*r_n,n_square)\n",
    "    return c"
   ]
  },
  {
   "cell_type": "markdown",
   "metadata": {},
   "source": [
    "## Oracle Communication"
   ]
  },
  {
   "cell_type": "markdown",
   "metadata": {},
   "source": [
    "Sends the $c=Enc(m)$ to the oracle. Returns a string `\"0\"` or `\"1\"` depending on the oracle answer"
   ]
  },
  {
   "cell_type": "code",
   "execution_count": 44,
   "metadata": {},
   "outputs": [],
   "source": [
    "def get_lsb(c):\n",
    "    b=\"\"\n",
    "    with socket.socket(socket.AF_INET, socket.SOCK_STREAM) as csock:\n",
    "        csock.connect(('lasecpi1.epfl.ch', 5555)) # connect to the oracle\n",
    "        data = str(SCIPER) + \" \" + str(int(c)) + \"\\n\"\n",
    "        csock.send(data.encode()) # call the oracle\n",
    "        b = str(csock.recv(1).decode()) # read the result\n",
    "    assert b in [\"0\",\"1\"] # check we returned a bit\n",
    "    return b"
   ]
  },
  {
   "cell_type": "code",
   "execution_count": 45,
   "metadata": {
    "scrolled": false
   },
   "outputs": [],
   "source": [
    "# Tests the oracle gives coherent results for some known encrypted plaintexts\n",
    "assert get_lsb(encrypt(10082916))==\"0\" and get_lsb(encrypt(1015463728018103))==\"1\"\n",
    "assert get_lsb(encrypt(1234432187654389))==\"1\" and get_lsb(encrypt(93042987348290019283349))==\"1\"\n",
    "# Checks the Pallier property for some values Dec(Enc(a)*Enc(b))==a+b (only on the LSB ofc)\n",
    "assert get_lsb(encrypt(52738110)*encrypt(0))==get_lsb(encrypt(52738110))\n",
    "assert get_lsb(encrypt(1267)*encrypt(779))==get_lsb(encrypt(1267+779))\n",
    "assert get_lsb(encrypt(563271831)*encrypt(98271637839))==get_lsb(encrypt(563271831+98271637839))\n",
    "assert get_lsb(encrypt(72381903985789)*encrypt(7628913837328490))==get_lsb(encrypt(72381903985789+7628913837328490))\n",
    "assert get_lsb(encrypt(9821276789)*encrypt(928192030))==get_lsb(encrypt(9821276789+928192030))\n",
    "assert get_lsb(encrypt(9821276789)*encrypt(Mod(-9821276789,n).lift()))==get_lsb(encrypt(9821276789-9821276789))\n",
    "assert get_lsb(encrypt(657218903827)*encrypt(Mod(-657218903827,n).lift()))==get_lsb(encrypt(0))\n",
    "assert get_lsb(encrypt(627381903834920)*encrypt(Mod(-627381903834920,n).lift()))==get_lsb(encrypt(0))\n",
    "assert get_lsb(encrypt(987654567890192847132831)*encrypt(Mod(-987654567890192847132831,n).lift()))==get_lsb(encrypt(0))"
   ]
  },
  {
   "cell_type": "markdown",
   "metadata": {},
   "source": [
    "## Break Plaintext"
   ]
  },
  {
   "cell_type": "markdown",
   "metadata": {},
   "source": [
    "We will use the Paillier property that $Dec(Enc(m_1)^{m_2}\\ mod\\ n^2)=m_1\\times m_2$. [See there](https://en.wikipedia.org/wiki/Paillier_cryptosystem#Homomorphic_properties)\n",
    "\n",
    "We have $c=Enc(m)$ for our unkown message m. We can write m as $m=b_0*1+b_1*2+b_2*2^2+...+b_k*2^k$. The oracle $O$ gives $O(c)=LSB(m)=b_0$.\n",
    "\n",
    "We use a variable $c'$ that keeps track of $Enc(m-m')$ where $m'$ is the increasingly reconstructed message $m$.\n",
    "* $O(c)=LSB(m)=b_0$, \n",
    "  * if $b_0=1$ then $c'=c*Enc(-1)$, we remove the bit $b_0$ from the encrypted value\n",
    "  * $c'=c'^{1/2}$ so that $c'=Enc(\\frac{m-b_0}{2})$, the LSB of the message is now $b_1$\n",
    "* $O(c'^{1/2}mod\\ n^2)=LSB(\\frac{m-m'}{2})=b_1$\n",
    "  * if $b_1=1$ then $c'=c'*Enc(-1)$, we remove the bit $b_1$ from the encrypted value\n",
    "  * $c'=c'^{1/2}$ so that $c'=Enc(\\frac{m-b_0-b_1*2}{4})$, the LSB of the message is now $b_2$\n",
    "* ...\n",
    "* $O(c'^{1/2}mod\\ n^2)=LSB(\\frac{m-m'}{2^k})=b_k$\n",
    "  * if $b_k=1$ then $c'=c'*Enc(-1)$, we remove the bit $b_k$ from the encrypted value\n",
    "  * $c'=c'^{1/2}$ so that $c'=Enc(\\frac{m-b_0-b_1*2-...-b_k*2^k}{2^{k+1}})$, the LSB of the message is now $b_{k+1}$\n",
    "\n",
    "Where inverses are defined $mod\\ n$ to be as valid plaintexts.\n",
    "\n",
    "This will help us retrieve successively every bit of the plaintext m."
   ]
  },
  {
   "cell_type": "markdown",
   "metadata": {},
   "source": [
    "We evaluate the number of bits that compose n:"
   ]
  },
  {
   "cell_type": "code",
   "execution_count": 46,
   "metadata": {
    "scrolled": true
   },
   "outputs": [
    {
     "name": "stdout",
     "output_type": "stream",
     "text": [
      "n > 2^2046? True\n",
      "n > 2^2047? True\n",
      "n > 2^2048? False\n"
     ]
    }
   ],
   "source": [
    "# n is between 2^2046 and 2^2047\n",
    "print(\"n > 2^2046?\",pow(2,2046)<n)\n",
    "print(\"n > 2^2047?\",pow(2,2047)<n)\n",
    "print(\"n > 2^2048?\",pow(2,2048)<n)\n",
    "NB_BITS = 2047"
   ]
  },
  {
   "cell_type": "code",
   "execution_count": 47,
   "metadata": {
    "scrolled": false
   },
   "outputs": [],
   "source": [
    "def break_plaintext(c):\n",
    "    n_square = pow(n,2)\n",
    "    two_to_k = 1 # the successive power of 2 from 1 to 2^{log_2(n)}\n",
    "    k = 0 # useful to keep track of progress\n",
    "    m_prime = 0 # this is the accumulated m' computation (b_0*1 then (b_0*1+b_1*2) and so on)\n",
    "    enc_min_1 = encrypt(Mod(-1,n).lift()) # Enc(-1)\n",
    "    c_prime = Mod(c,n_square) # the accumulated c' value\n",
    "    checkpoints = [0.10, 0.20, 0.30, 0.40, 0.50, 0.60, 0.70, 0.80, 0.90, 1.]\n",
    "    while two_to_k<=n:\n",
    "        b_k = int(get_lsb(c_prime),2)\n",
    "        m_prime += two_to_k*b_k\n",
    "        two_to_k *= 2\n",
    "        k += 1\n",
    "        \n",
    "        if b_k == 0b1:\n",
    "            c_prime *= enc_min_1\n",
    "        c_prime = power_mod(c_prime, inverse_mod(2,n),n_square)\n",
    "        \n",
    "        if len(checkpoints) > 0 and float(k)/NB_BITS >= checkpoints[0]:\n",
    "            print(\"--\"+str(int(checkpoints[0]*100))+\"% done--\")\n",
    "            checkpoints = checkpoints[1:]\n",
    "    return m_prime"
   ]
  },
  {
   "cell_type": "code",
   "execution_count": 48,
   "metadata": {
    "scrolled": true
   },
   "outputs": [
    {
     "name": "stdout",
     "output_type": "stream",
     "text": [
      "--10% done--\n",
      "--20% done--\n",
      "--30% done--\n",
      "--40% done--\n",
      "--50% done--\n",
      "--60% done--\n",
      "--70% done--\n",
      "--80% done--\n",
      "--90% done--\n",
      "--100% done--\n"
     ]
    }
   ],
   "source": [
    "ptext = break_plaintext(Q2_c)"
   ]
  },
  {
   "cell_type": "markdown",
   "metadata": {},
   "source": [
    "The decrypted plaintext has following integer representation:"
   ]
  },
  {
   "cell_type": "markdown",
   "metadata": {},
   "source": [
    "ptext Manon"
   ]
  },
  {
   "cell_type": "code",
   "execution_count": 49,
   "metadata": {},
   "outputs": [
    {
     "data": {
      "text/plain": [
       "2482766846704803818299398259088433922854033953495273216592649657274036207481193381288536826781476069709069404177958991668601511345917794317231810866463992969312554539962021331964667123082542526079173045475657687150780489166864221512846484425991352179033659809116718358197867683175021250233010856663296155952270837011718299594062795042175753551276351977991506712240297420361634246834902047278813291214299955863064586076390092317230760491901220778547693812352078345829443112436769169099339578308144956675096168738217896963575766893938843955244234934686702178363480903122633791391742696057570890463250364746345455970735"
      ]
     },
     "execution_count": 49,
     "metadata": {},
     "output_type": "execute_result"
    }
   ],
   "source": [
    "ptext"
   ]
  },
  {
   "cell_type": "markdown",
   "metadata": {},
   "source": [
    "ptext Tom"
   ]
  },
  {
   "cell_type": "code",
   "execution_count": 59,
   "metadata": {
    "scrolled": true
   },
   "outputs": [
    {
     "data": {
      "text/plain": [
       "11961114139120452804956471029497848194162870451350424567712582438631909185790471446729623044858931063875470455503854444322994075133102322769953485599631407108904167514450733888089250853077584301799589408163717110469321845435802858736131418342819655327711926019689020288736141976891677745570724196624949370746431843539233577622428067681669033576013365746510349562696415304878649497935078389129007434990745109985054623842089579319850857853540927236589984814456192047586304315594068776782395959206967353700222138879230205921976044405441707547087019136428565118995068866443537545568020091882345129371505510031014916523776"
      ]
     },
     "execution_count": 59,
     "metadata": {},
     "output_type": "execute_result"
    }
   ],
   "source": [
    "ptext"
   ]
  },
  {
   "cell_type": "markdown",
   "metadata": {},
   "source": [
    "### Plaintext verification"
   ]
  },
  {
   "cell_type": "markdown",
   "metadata": {},
   "source": [
    "We'll verify that $m-m'=0$ with $m$ the true (unknown) used plaintext and $m'$ what we found.\n",
    "\n",
    "To do this we'll use that $Dec(Enc(m)*Enc(-m'))=m-m'$ with the same method as above, replacing $c$ by $c*Enc(-m')$."
   ]
  },
  {
   "cell_type": "code",
   "execution_count": 51,
   "metadata": {},
   "outputs": [],
   "source": [
    "def verify_c_m_prime(c,m_prime):\n",
    "    n_square = pow(n,2)\n",
    "    k = 0 # useful to keep track of progress\n",
    "    two_to_k = 1\n",
    "    enc_min_m_prime = encrypt(Mod(-m_prime,n).lift())\n",
    "    c_prime = Mod(c*enc_min_m_prime,n_square) # the accumulated c' value\n",
    "    checkpoints = [0.10, 0.20, 0.30, 0.40, 0.50, 0.60, 0.70, 0.80, 0.90, 1.]\n",
    "    while two_to_k<=n:\n",
    "        b_k = int(get_lsb(c_prime),2)\n",
    "        two_to_k *= 2\n",
    "        k += 1\n",
    "        \n",
    "        if b_k == 0b1:\n",
    "            print(\"Error on bit \"+str(k))\n",
    "            return False\n",
    "        c_prime = power_mod(c_prime, inverse_mod(2,n),n_square)\n",
    "        \n",
    "        if len(checkpoints) > 0 and float(k)/NB_BITS >= checkpoints[0]:\n",
    "            print(\"--\"+str(int(checkpoints[0]*100))+\"% done--\")\n",
    "            checkpoints = checkpoints[1:]\n",
    "    return True"
   ]
  },
  {
   "cell_type": "code",
   "execution_count": 56,
   "metadata": {
    "scrolled": false
   },
   "outputs": [
    {
     "name": "stdout",
     "output_type": "stream",
     "text": [
      "--10% done--\n",
      "--20% done--\n",
      "--30% done--\n",
      "--40% done--\n",
      "--50% done--\n",
      "--60% done--\n",
      "--70% done--\n",
      "--80% done--\n",
      "--90% done--\n",
      "--100% done--\n"
     ]
    }
   ],
   "source": [
    "assert verify_c_m_prime(Q2_c,ptext)"
   ]
  },
  {
   "cell_type": "code",
   "execution_count": null,
   "metadata": {},
   "outputs": [],
   "source": []
  },
  {
   "cell_type": "code",
   "execution_count": null,
   "metadata": {},
   "outputs": [],
   "source": []
  }
 ],
 "metadata": {
  "kernelspec": {
   "display_name": "SageMath 9.4",
   "language": "sage",
   "name": "sagemath-9.4"
  },
  "language_info": {
   "codemirror_mode": {
    "name": "ipython",
    "version": 3
   },
   "file_extension": ".py",
   "mimetype": "text/x-python",
   "name": "python",
   "nbconvert_exporter": "python",
   "pygments_lexer": "ipython3",
   "version": "3.9.5"
  },
  "toc": {
   "base_numbering": 1,
   "nav_menu": {},
   "number_sections": true,
   "sideBar": true,
   "skip_h1_title": false,
   "title_cell": "Table of Contents",
   "title_sidebar": "Contents",
   "toc_cell": false,
   "toc_position": {},
   "toc_section_display": true,
   "toc_window_display": false
  }
 },
 "nbformat": 4,
 "nbformat_minor": 4
}
