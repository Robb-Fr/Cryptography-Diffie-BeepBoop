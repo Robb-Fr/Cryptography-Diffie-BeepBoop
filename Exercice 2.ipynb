{
 "cells": [
  {
   "cell_type": "markdown",
   "metadata": {},
   "source": [
    "# Exercice 2"
   ]
  },
  {
   "cell_type": "code",
   "execution_count": 1,
   "metadata": {},
   "outputs": [],
   "source": [
    "n = 10"
   ]
  },
  {
   "cell_type": "markdown",
   "metadata": {},
   "source": [
    "## Question 1"
   ]
  },
  {
   "cell_type": "code",
   "execution_count": 2,
   "metadata": {},
   "outputs": [],
   "source": [
    "def detect_message(p,q,g,msg_list):\n",
    "    m_prime=1\n",
    "    for c_i in msg_list:\n",
    "        m_prime=Mod(m_prime*c_i,p) #elements of G are mod p\n",
    "    if m_prime == 1:\n",
    "        return \"NONE\"\n",
    "    else:\n",
    "        return m_prime"
   ]
  },
  {
   "cell_type": "markdown",
   "metadata": {},
   "source": [
    "### Q2_p, Q2_q, Q2_g, Q2_i"
   ]
  },
  {
   "cell_type": "code",
   "execution_count": 3,
   "metadata": {},
   "outputs": [],
   "source": [
    "Q2_p_tom = 179769313486231590770839156793787453197860296048756011706444423684197180216158519368947833795864925541502180565485980503646440548199239100050792877003355816639229553136239076508735759914822574862575007425302077447712589550957937778424442426617334727629299387668709205606050270810842907692932019128194467627007\n",
    "Q2_q_tom = 89884656743115795385419578396893726598930148024378005853222211842098590108079259684473916897932462770751090282742990251823220274099619550025396438501677908319614776568119538254367879957411287431287503712651038723856294775478968889212221213308667363814649693834354602803025135405421453846466009564097233813503\n",
    "Q2_g_tom = 2\n",
    "Q2_c1_tom = 66024907645497825368257405808413916250742590771848102961035354020355465467704540549988378994770218820392825550577822815607581672939158039277480465735141744972028113510062911619708573509187159171833817898280570597791059054318483776445571427287580892940411415825974890727042742366946504883603755863694281186647\n",
    "Q2_c2_tom = 56911667214992619110581301383660894853178685770408973196232407080212761163616785137988635988252239462706433808132681553749099871198536384574818911155748065276047923848871216126049813524951458960899206994445162110262835231324769815648451716935215067228015007649307402981703411252257437621674138165790971637456\n",
    "Q2_c3_tom = 169278911717937518126062662263979463875920067151348701361591406892719324981672238619230985552270875479593385104227887170367580324796968151581491642269626218488631098515407177384030704460904198601897369584841068594043554970226566048587562949823812962466056476208611107925937498587383143283769636612239916934674\n",
    "Q2_c4_tom = 67512463800093928815068356809999053743058450639570140979522654228192329362430881502160936158032644582199654684712754004663130634676938966258231341952922088881946353945129555383516219681956160738871301202597174414049738281430127077058385323228920485507194719875221169580056094097742305896964805207610831225961\n",
    "Q2_c5_tom = 142423198545041392791908396173433486894682831208640624932815379581494779335803337200627045688309343763645851028423250965031590409289745533438988790675782044506433431605729160240011873764859105328618250801228812284962716793486123443768870104407749595421100450341334512729145564772251440074290854538551885505071\n",
    "Q2_c6_tom = 45002407390048937625848840633351800382030611490524552592489990545945076583806717310319339327871475038134753153618746872537418144260450785938746804379614293739450012566727833787062632835694254086590421596381548470074816796802225665247753134771663701780018568824543160644126385875847642121602805211103039099269\n",
    "Q2_c7_tom = 75313737181400235399540719734226311477753865982761999965082122761594908942889684100348383372895167166967408918162761426166374938420489113414762459811197094502639970296021159578277847202092111070231961352591915106810147600921564068926928739766288892066768545505826875667884960568439950235868104772972840587228\n",
    "Q2_c8_tom = 80334238851707288616665833047891318228405920894142174326237513300859976953207046984082253953678199228414443248751828341662370721671004747443718254772634508603160304397430817185131985440550660838040900752015204932056234603675345723679250173111007284456883335218483994125948029641445492983180086700139094422908\n",
    "Q2_c9_tom = 4076108641477525924869834166217127890202171022261191478934461212933557118492657244750076120166340501935765787925394439085666908689161848412921243869464074905579011739927849991941068354393246668787631955807969625269690419870225456240384182481050649881426692064616156763247726509428989602195788965723398288113\n",
    "Q2_c10_tom = 38986288062209700410454178699642493948361389000613011381726243230695579993071478288987193887748407287024595204095829001285066293012981967756810654370540551845101263869117089028550390119188799548367163382527547906521688457839149591471315032878604767881216872210045936443464437715237510113875830486327844280548"
   ]
  },
  {
   "cell_type": "code",
   "execution_count": 4,
   "metadata": {},
   "outputs": [],
   "source": [
    "msg_list_tom=[Q2_c1_tom,Q2_c2_tom, Q2_c3_tom, Q2_c4_tom, Q2_c5_tom,Q2_c6_tom,Q2_c7_tom, Q2_c8_tom, Q2_c9_tom, Q2_c10_tom]"
   ]
  },
  {
   "cell_type": "markdown",
   "metadata": {},
   "source": [
    "### Q2_msg"
   ]
  },
  {
   "cell_type": "code",
   "execution_count": 18,
   "metadata": {},
   "outputs": [
    {
     "data": {
      "text/plain": [
       "('Tom Q2_msg:', 'NONE')"
      ]
     },
     "execution_count": 18,
     "metadata": {},
     "output_type": "execute_result"
    }
   ],
   "source": [
    "\"Tom Q2_msg:\",detect_message(Q2_p_tom, Q2_q_tom, Q2_g_tom, msg_list_tom)"
   ]
  },
  {
   "cell_type": "markdown",
   "metadata": {},
   "source": [
    "## Question 2"
   ]
  },
  {
   "cell_type": "markdown",
   "metadata": {},
   "source": [
    "We know that there will be less than $2^{32}$ sent messages.\n",
    "\n",
    "The output `m'` is $\\Pi_{i=0}^{n}g^{2^{k}}$ for some set of $k \\in \\{0,...,20\\}$ and $g$ the generator of $G$. \n",
    "\n",
    "As $G$ has order $q$ prime, the exponent of $g$ can be considered$\\mod q$. The maximum exponent in this exchange of message will then be $g^{2^{20}\\times 2^{32}}$, we can check that this will not go beyond $q-1$ and we can then, by evaluating the exponent value, determine the number of messages sent:"
   ]
  },
  {
   "cell_type": "code",
   "execution_count": 6,
   "metadata": {},
   "outputs": [],
   "source": [
    "assert pow(2, 52) < Q2_q_tom-1"
   ]
  },
  {
   "cell_type": "markdown",
   "metadata": {},
   "source": [
    "We can solve the DL problem there because the message space is very spare and small compared to the size of $q$."
   ]
  },
  {
   "cell_type": "markdown",
   "metadata": {},
   "source": [
    "Every message's exponent can be considered$\\mod q-1$ as we seen above."
   ]
  },
  {
   "cell_type": "code",
   "execution_count": 7,
   "metadata": {},
   "outputs": [],
   "source": [
    "def message_log(p,q,g,mdash):\n",
    "    # we compute the log of the message using Sage BSGS algo\n",
    "    return discrete_log(Mod(mdash,p), g, ord=q, operation='*')"
   ]
  },
  {
   "cell_type": "markdown",
   "metadata": {},
   "source": [
    "To find the maximum number of messages, we consider the expoment that `dl`would be everyone were sending the smallest message `g`.\n",
    "\n",
    "There could not be more messages than max number of sender then we cap the number of messages to $2^{32}$"
   ]
  },
  {
   "cell_type": "code",
   "execution_count": 8,
   "metadata": {},
   "outputs": [],
   "source": [
    "def max_nb_messages(dl):\n",
    "    return min(pow(2,32), dl)"
   ]
  },
  {
   "cell_type": "markdown",
   "metadata": {},
   "source": [
    "If we consider the exponent, each participant sending a message can be considered as senfing $g$ to the power a certain integer which as **one bit set**.\n",
    "\n",
    "The minimum number of messages sent is the number of set bits in the exponent, considering each member sent a message with a different bit set in the exponent."
   ]
  },
  {
   "cell_type": "code",
   "execution_count": 9,
   "metadata": {},
   "outputs": [],
   "source": [
    "def min_nb_messages(dl):\n",
    "    count=0\n",
    "    power=20\n",
    "    while power >= 0:\n",
    "        if dl-pow(2,power)>=0:\n",
    "            dl=dl-pow(2,power)\n",
    "            count+=1\n",
    "        power-=1\n",
    "    return count"
   ]
  },
  {
   "cell_type": "markdown",
   "metadata": {},
   "source": [
    "### Q2_msgdash"
   ]
  },
  {
   "cell_type": "code",
   "execution_count": 10,
   "metadata": {},
   "outputs": [],
   "source": [
    "Q2_mdash_tom = 15580789010957742608353332983370318698959718984761717433444135449946501088888402939944956243045499012628198202952017905015455320458493330865475741223361097386833976000126895402481560953878934553485000445276788813061193205371844538509954328395029521110425323688948897884721629153272994515865792392266590617269"
   ]
  },
  {
   "cell_type": "markdown",
   "metadata": {},
   "source": [
    "### Q2_min, Q2_max"
   ]
  },
  {
   "cell_type": "code",
   "execution_count": 11,
   "metadata": {
    "scrolled": false
   },
   "outputs": [],
   "source": [
    "dl_tom=message_log(Q2_p_tom, Q2_q_tom, Q2_g_tom, Q2_mdash_tom)"
   ]
  },
  {
   "cell_type": "code",
   "execution_count": 12,
   "metadata": {},
   "outputs": [],
   "source": [
    "# ensure we solved the DL\n",
    "assert power_mod(Q2_g_tom, dl_tom, Q2_p_tom)==Q2_mdash_tom"
   ]
  },
  {
   "cell_type": "code",
   "execution_count": 17,
   "metadata": {
    "scrolled": false
   },
   "outputs": [
    {
     "data": {
      "text/plain": [
       "('Tom Q2_min: ', 1933175)"
      ]
     },
     "execution_count": 17,
     "metadata": {},
     "output_type": "execute_result"
    }
   ],
   "source": [
    "\"Tom Q2_min:\",max_nb_messages(dl_tom)"
   ]
  },
  {
   "cell_type": "code",
   "execution_count": 16,
   "metadata": {
    "scrolled": true
   },
   "outputs": [
    {
     "data": {
      "text/plain": [
       "('Tom Q2_max: ', 17)"
      ]
     },
     "execution_count": 16,
     "metadata": {},
     "output_type": "execute_result"
    }
   ],
   "source": [
    "\"Tom Q2_max:\",min_nb_messages(dl_tom)"
   ]
  },
  {
   "cell_type": "code",
   "execution_count": null,
   "metadata": {},
   "outputs": [],
   "source": []
  }
 ],
 "metadata": {
  "kernelspec": {
   "display_name": "SageMath 9.4",
   "language": "sage",
   "name": "sagemath-9.4"
  },
  "language_info": {
   "codemirror_mode": {
    "name": "ipython",
    "version": 3
   },
   "file_extension": ".py",
   "mimetype": "text/x-python",
   "name": "python",
   "nbconvert_exporter": "python",
   "pygments_lexer": "ipython3",
   "version": "3.9.5"
  }
 },
 "nbformat": 4,
 "nbformat_minor": 4
}
