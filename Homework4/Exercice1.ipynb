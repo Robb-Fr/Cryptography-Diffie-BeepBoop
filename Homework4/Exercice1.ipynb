{
 "cells": [
  {
   "cell_type": "markdown",
   "metadata": {},
   "source": [
    "# Exercice 1: I think they’re sending us Signals"
   ]
  },
  {
   "cell_type": "code",
   "execution_count": null,
   "metadata": {},
   "outputs": [],
   "source": []
  },
  {
   "cell_type": "markdown",
   "metadata": {},
   "source": [
    "## Parameters"
   ]
  },
  {
   "cell_type": "markdown",
   "metadata": {},
   "source": [
    "### Tom"
   ]
  },
  {
   "cell_type": "code",
   "execution_count": 36,
   "metadata": {},
   "outputs": [],
   "source": [
    "Q1_ops = ['send', 'send', 'send', 'send', 'send', 'send', 'send', 'send', 'send', 'send', 'send', 'send', 'send', 'send', 'send', 'send', 'send', 'send', 'send', 'send', 'send', 15, 13, 4, 8, 21, 6, 12, 2, 10]\n",
    "Q1_k = 31"
   ]
  },
  {
   "cell_type": "markdown",
   "metadata": {},
   "source": [
    "### Manon"
   ]
  },
  {
   "cell_type": "code",
   "execution_count": 48,
   "metadata": {},
   "outputs": [],
   "source": [
    "Q1_ops = ['send', 'send', 'send', 'send', 'send', 'send', 'send', 'send', 'send', 'send', 'send', 'send', 'send', 'send', 'send', 'send', 'send', 'send', 'send', 'send', 'send', 'send', 'send', 16, 17, 8, 10, 1, 22, 21]\n",
    "Q1_k = 32"
   ]
  },
  {
   "cell_type": "markdown",
   "metadata": {},
   "source": [
    "## Ratchet"
   ]
  },
  {
   "cell_type": "markdown",
   "metadata": {},
   "source": [
    "### Ratchet behaviour\n",
    "\n",
    "We'll try to implement the behaviour of the ratchet to see the state known after the sequence of operations for both Alice and Bob."
   ]
  },
  {
   "cell_type": "code",
   "execution_count": 49,
   "metadata": {},
   "outputs": [],
   "source": [
    "def send(i,state,vv=False):\n",
    "    assert i >= 1 and i <= 70\n",
    "    # when A sends a message, they create and immediately\n",
    "    # delete MK_i-1. CK_i-1 is deleted and\n",
    "    # CK_i is the only kept key.\n",
    "    new_CK = 'CK_{}'.format(i)\n",
    "    state[i-1]=(None,None)\n",
    "    state[i]=(new_CK,None)\n",
    "    if vv:\n",
    "        print(\"Sending message {}|state[{}]={}|state[{}]={}\".format(i,i-1,state[i-1],i,state[i]))\n",
    "    return state,i+1"
   ]
  },
  {
   "cell_type": "code",
   "execution_count": 50,
   "metadata": {},
   "outputs": [],
   "source": [
    "def recv(i,max_val,state,vv=False):\n",
    "    assert i >= 1 and i <= 70\n",
    "    if i < max_val: # we know we already computed the MK_i\n",
    "        # we can just consume it\n",
    "        state[i-1]=(None,None)\n",
    "        if vv:\n",
    "            print(\"Receiving message {} (i<max)|state[{}]={}|max was {}\".format(i,i-1,state[i-1],max_val))\n",
    "    elif i > max_val:\n",
    "        # we'll compute all and delete all CK_j, j in {0,...,i-1}\n",
    "        # while keeping the MK_j but for j=i-1\n",
    "        # we take care of the first call when max_val=-1\n",
    "        log_string=\"Receiving message {} (i>max)|\\n\".format(i)\n",
    "        for j in range(max(0,max_val),i): # exclusive upper bound\n",
    "            MK_j = 'MK_{}'.format(j)\n",
    "            state[j]=(None,MK_j)\n",
    "            log_string+=\"\\tstate[{}]={}\\n\".format(j,state[j])\n",
    "        # we delete MK_i-1 and CK_i-1 as MK_i-1 is consumed\n",
    "        state[i-1]=(None,None)\n",
    "        log_string+=\"\\tstate[{}]={}\\n\".format(i-1,state[i-1])\n",
    "        new_CK = 'CK_{}'.format(i)\n",
    "        # we keep CK_i for next time\n",
    "        state[i]=(new_CK,None)\n",
    "        log_string+=\"\\tstate[{}]={}\\n\\tmax was {}\".format(i,state[i],max_val)\n",
    "        if vv:\n",
    "            print(log_string)\n",
    "    else:\n",
    "        print(\"Unexpected arguments, i:{}==max:{}\".format(i,max_val))\n",
    "        return None,None,None\n",
    "    return state,max(max_val,i) # returns new state and max index seen"
   ]
  },
  {
   "cell_type": "code",
   "execution_count": 51,
   "metadata": {},
   "outputs": [],
   "source": [
    "def ratchet_from_ops(ops,vv=False):\n",
    "    # we recall that we can maximally send 70 messages\n",
    "    # (sending message i requires using MK from state i-1)\n",
    "    A_state = [(None,None) for i in range(71)] # initialize null state\n",
    "    A_i = 1\n",
    "    B_state = [(None,None) for i in range(71)]\n",
    "    B_max = -1\n",
    "    for opi in ops:\n",
    "        if opi=='send': # we track Alice's state\n",
    "            A_state,A_i = send(A_i,A_state,vv)\n",
    "        else: # we track Bob's state\n",
    "            assert opi >= 0\n",
    "            B_state,B_max = recv(opi,B_max,B_state,vv)\n",
    "    return {\"Alice\":A_state,\"Bob\":B_state}"
   ]
  },
  {
   "cell_type": "markdown",
   "metadata": {},
   "source": [
    "From those we can take a look at the state of A and B after the operations sequence. Alice's sequence is first and Bob's second."
   ]
  },
  {
   "cell_type": "code",
   "execution_count": 52,
   "metadata": {
    "scrolled": true
   },
   "outputs": [
    {
     "name": "stdout",
     "output_type": "stream",
     "text": [
      "{'Alice': [(None, None), (None, None), (None, None), (None, None), (None, None), (None, None), (None, None), (None, None), (None, None), (None, None), (None, None), (None, None), (None, None), (None, None), (None, None), (None, None), (None, None), (None, None), (None, None), (None, None), (None, None), (None, None), (None, None), ('CK_23', None), (None, None), (None, None), (None, None), (None, None), (None, None), (None, None), (None, None), (None, None), (None, None), (None, None), (None, None), (None, None), (None, None), (None, None), (None, None), (None, None), (None, None), (None, None), (None, None), (None, None), (None, None), (None, None), (None, None), (None, None), (None, None), (None, None), (None, None), (None, None), (None, None), (None, None), (None, None), (None, None), (None, None), (None, None), (None, None), (None, None), (None, None), (None, None), (None, None), (None, None), (None, None), (None, None), (None, None), (None, None), (None, None), (None, None), (None, None)], 'Bob': [(None, None), (None, 'MK_1'), (None, 'MK_2'), (None, 'MK_3'), (None, 'MK_4'), (None, 'MK_5'), (None, 'MK_6'), (None, None), (None, 'MK_8'), (None, None), (None, 'MK_10'), (None, 'MK_11'), (None, 'MK_12'), (None, 'MK_13'), (None, 'MK_14'), (None, None), (None, None), (None, 'MK_17'), (None, 'MK_18'), (None, 'MK_19'), (None, None), (None, None), ('CK_22', None), (None, None), (None, None), (None, None), (None, None), (None, None), (None, None), (None, None), (None, None), (None, None), (None, None), (None, None), (None, None), (None, None), (None, None), (None, None), (None, None), (None, None), (None, None), (None, None), (None, None), (None, None), (None, None), (None, None), (None, None), (None, None), (None, None), (None, None), (None, None), (None, None), (None, None), (None, None), (None, None), (None, None), (None, None), (None, None), (None, None), (None, None), (None, None), (None, None), (None, None), (None, None), (None, None), (None, None), (None, None), (None, None), (None, None), (None, None), (None, None)]}\n"
     ]
    }
   ],
   "source": [
    "states=ratchet_from_ops(Q1_ops,vv=False) \n",
    "print(states)"
   ]
  },
  {
   "cell_type": "markdown",
   "metadata": {},
   "source": [
    "## Q1_1 - derive messages"
   ]
  },
  {
   "cell_type": "markdown",
   "metadata": {},
   "source": [
    "### Alice state's exposure\n",
    "From Alice's state exposure, we can see from the ratchet behaviour that only the last $CK$ is exposed and no $MK$. The ratchet purpose is fulfilled here, there's no way to go back if Alice correctly deleted $RK_{init}$ which is the only piece missing to regenerate a previous $CK$ (With $KDF_{RK}(RK_{init},DH_{new})$ as $DH_{new}$ is leaked).\n",
    "\n",
    "Indeed, we can see how many messages an attacker could derive by observing the amount of leaked $MK$ as those are used to decrypt the messages."
   ]
  },
  {
   "cell_type": "code",
   "execution_count": 53,
   "metadata": {},
   "outputs": [
    {
     "name": "stdout",
     "output_type": "stream",
     "text": [
      "{}\n"
     ]
    }
   ],
   "source": [
    "Q1a_1 = set()\n",
    "for index,state in enumerate(states[\"Alice\"]):\n",
    "    if state[1] is not None:\n",
    "        Q1a_1.add(index+1)\n",
    "print(\"{}\" if len(Q1a_1) == 0 else Q1_a1)"
   ]
  },
  {
   "cell_type": "markdown",
   "metadata": {},
   "source": [
    "### Bob's state exposure\n",
    "From Bob's state exposure, the ratchet state of Bob shows that all messages that have not yet been decrypted but have index $<max$ have a stored key by Bob $MK$ ! Therefore, all messages sent by Alice but not yet received by Bob can be decrypted with the information leaked by Bob's state.\n",
    "\n",
    "Noting that $MK_i$ can be used to decrypt message $i+1$, we could decrypt all messages $m_{i+1}$ for which the $MK_i$ hasn't been computed yet.\n",
    "\n",
    "We here observe a consequence of the tradeoff between functionnality (random access to decryption) and security (strict ratchet principle)"
   ]
  },
  {
   "cell_type": "code",
   "execution_count": 54,
   "metadata": {
    "scrolled": true
   },
   "outputs": [
    {
     "name": "stdout",
     "output_type": "stream",
     "text": [
      "{2, 3, 4, 5, 6, 7, 9, 11, 12, 13, 14, 15, 18, 19, 20}\n"
     ]
    }
   ],
   "source": [
    "Q1b_1 = set()\n",
    "for index,state in enumerate(states[\"Bob\"]):\n",
    "    if state[1] is not None:\n",
    "        Q1b_1.add(index+1)\n",
    "print(\"{}\" if len(Q1b_1) == 0 else Q1b_1)"
   ]
  },
  {
   "cell_type": "markdown",
   "metadata": {},
   "source": [
    "## Q1_2 - forge messages"
   ]
  },
  {
   "cell_type": "markdown",
   "metadata": {},
   "source": [
    "### Alice's state exposure\n",
    "In this setting, Alice's state exposure yields $CK_{max}$ which can be used to generate $MK_{max},...,MK_{69}$ that are the key values used to decrypt messages $m_{max+1},...,m_{70}$ !\n",
    "\n",
    "Therefore, all those subsequent messages can be easily forged by an attacker without Bob being able to distinguish who sent it. Bob will just advance their ratchet correspondingly to their $recv$ calls."
   ]
  },
  {
   "cell_type": "code",
   "execution_count": 55,
   "metadata": {
    "scrolled": true
   },
   "outputs": [
    {
     "name": "stdout",
     "output_type": "stream",
     "text": [
      "{24, 25, 26, 27, 28, 29, 30, 31, 32, 33, 34, 35, 36, 37, 38, 39, 40, 41, 42, 43, 44, 45, 46, 47, 48, 49, 50, 51, 52, 53, 54, 55, 56, 57, 58, 59, 60, 61, 62, 63, 64, 65, 66, 67, 68, 69, 70}\n"
     ]
    }
   ],
   "source": [
    "Q1a_2 = set()\n",
    "can_forge = False\n",
    "for index,state in enumerate(states[\"Alice\"]):\n",
    "    if can_forge:\n",
    "        Q1a_2.add(index)\n",
    "    if state[0] is not None:\n",
    "        # order of instruction important:\n",
    "        # can forge only messages that has not yet been received\n",
    "        # namely message i+1 when we have CK_i (used to generate MK_i that decrypts msg i+1)\n",
    "        can_forge = True\n",
    "print(\"{}\" if len(Q1a_2) == 0 else Q1a_2)"
   ]
  },
  {
   "cell_type": "markdown",
   "metadata": {},
   "source": [
    "### Bob's state exposure\n",
    "In this setting, we have the same exposure of $CK_{max}$ which allows us to decrypt at least as many messages as in Alice's state exposure. Moreover, as Bob built some unused $MK_i$ messages keys but not used it yet as not having yet called `recv(i)` for those, an attacker could use those keys to spoof the messages $i$ sent by Alice and make Bob believe that the true messages Alice sent is the attacker's.\n",
    "\n",
    "Therefore, all messages after $max$ **and** messages not yet received can be forged."
   ]
  },
  {
   "cell_type": "code",
   "execution_count": 56,
   "metadata": {},
   "outputs": [
    {
     "name": "stdout",
     "output_type": "stream",
     "text": [
      "{2, 3, 4, 5, 6, 7, 9, 11, 12, 13, 14, 15, 18, 19, 20, 23, 24, 25, 26, 27, 28, 29, 30, 31, 32, 33, 34, 35, 36, 37, 38, 39, 40, 41, 42, 43, 44, 45, 46, 47, 48, 49, 50, 51, 52, 53, 54, 55, 56, 57, 58, 59, 60, 61, 62, 63, 64, 65, 66, 67, 68, 69, 70}\n"
     ]
    }
   ],
   "source": [
    "Q1b_2 = set()\n",
    "can_forge = False\n",
    "for index,state in enumerate(states[\"Bob\"]):\n",
    "    if can_forge:\n",
    "        Q1b_2.add(index)\n",
    "    if state[0] is not None:\n",
    "        # order of instruction important:\n",
    "        # can forge only messages that has not yet been received\n",
    "        # namely message i+1 when we have CK_i (used to generate MK_i that decrypts msg i+1)\n",
    "        can_forge = True\n",
    "    if state[1] is not None:\n",
    "        # has access to a not yet used MK_i, making us able to forge msg i+1\n",
    "        Q1b_2.add(index+1)\n",
    "print(\"{}\" if len(Q1b_2) == 0 else Q1b_2)"
   ]
  },
  {
   "cell_type": "markdown",
   "metadata": {},
   "source": [
    "## Q1_3 - forge with signatures"
   ]
  },
  {
   "cell_type": "markdown",
   "metadata": {},
   "source": [
    "### Alice's state exposure\n",
    "In this setting, Alice's state being exposed allow us to forge exactly the same messages as the scheme without signature. Indeed, the signing key being also exposed does not increase the complexity of the attack."
   ]
  },
  {
   "cell_type": "code",
   "execution_count": 57,
   "metadata": {},
   "outputs": [
    {
     "name": "stdout",
     "output_type": "stream",
     "text": [
      "{24, 25, 26, 27, 28, 29, 30, 31, 32, 33, 34, 35, 36, 37, 38, 39, 40, 41, 42, 43, 44, 45, 46, 47, 48, 49, 50, 51, 52, 53, 54, 55, 56, 57, 58, 59, 60, 61, 62, 63, 64, 65, 66, 67, 68, 69, 70}\n"
     ]
    }
   ],
   "source": [
    "Q1a_3 = set()\n",
    "can_forge = False\n",
    "for index,state in enumerate(states[\"Alice\"]):\n",
    "    if can_forge:\n",
    "        Q1a_3.add(index)\n",
    "    if state[0] is not None:\n",
    "        # order of instruction important:\n",
    "        # can forge only messages that has not yet been received\n",
    "        # namely message i+1 when we have CK_i (used to generate MK_i that decrypts msg i+1)\n",
    "        can_forge = True\n",
    "print(\"{}\" if len(Q1a_3) == 0 else Q1a_3)"
   ]
  },
  {
   "cell_type": "markdown",
   "metadata": {},
   "source": [
    "### Bob's state exposure\n",
    "However here, as the attacker does not have access to Alice's signing key, there's no way to forge any message that will be accepted by Bob's receive method."
   ]
  },
  {
   "cell_type": "code",
   "execution_count": 58,
   "metadata": {
    "scrolled": true
   },
   "outputs": [
    {
     "name": "stdout",
     "output_type": "stream",
     "text": [
      "{}\n"
     ]
    }
   ],
   "source": [
    "Q1b_3 = set()\n",
    "print(\"{}\" if len(Q1b_3) == 0 else Q1_b3)"
   ]
  },
  {
   "cell_type": "markdown",
   "metadata": {},
   "source": [
    "## Q1_4 - maximize state"
   ]
  },
  {
   "cell_type": "code",
   "execution_count": 59,
   "metadata": {},
   "outputs": [
    {
     "data": {
      "text/plain": [
       "[32]"
      ]
     },
     "execution_count": 59,
     "metadata": {},
     "output_type": "execute_result"
    }
   ],
   "source": [
    "Q1_B = [Q1_k]\n",
    "Q1_B"
   ]
  },
  {
   "cell_type": "code",
   "execution_count": null,
   "metadata": {},
   "outputs": [],
   "source": []
  }
 ],
 "metadata": {
  "kernelspec": {
   "display_name": "SageMath 9.4",
   "language": "sage",
   "name": "sagemath-9.4"
  },
  "language_info": {
   "codemirror_mode": {
    "name": "ipython",
    "version": 3
   },
   "file_extension": ".py",
   "mimetype": "text/x-python",
   "name": "python",
   "nbconvert_exporter": "python",
   "pygments_lexer": "ipython3",
   "version": "3.9.5"
  },
  "toc": {
   "base_numbering": 1,
   "nav_menu": {},
   "number_sections": true,
   "sideBar": true,
   "skip_h1_title": false,
   "title_cell": "Table of Contents",
   "title_sidebar": "Contents",
   "toc_cell": false,
   "toc_position": {},
   "toc_section_display": true,
   "toc_window_display": false
  }
 },
 "nbformat": 4,
 "nbformat_minor": 4
}
