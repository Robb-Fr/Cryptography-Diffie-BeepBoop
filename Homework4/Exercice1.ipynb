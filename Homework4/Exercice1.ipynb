{
 "cells": [
  {
   "cell_type": "markdown",
   "metadata": {},
   "source": [
    "# Exercice 1: I think they’re sending us Signals"
   ]
  },
  {
   "cell_type": "code",
   "execution_count": null,
   "metadata": {},
   "outputs": [],
   "source": []
  },
  {
   "cell_type": "markdown",
   "metadata": {},
   "source": [
    "## Parameters"
   ]
  },
  {
   "cell_type": "markdown",
   "metadata": {},
   "source": [
    "### Tom"
   ]
  },
  {
   "cell_type": "code",
   "execution_count": 1,
   "metadata": {},
   "outputs": [],
   "source": [
    "Q1_ops = ['send', 'send', 'send', 'send', 'send', 'send', 'send', 'send', 'send', 'send', 'send', 'send', 'send', 'send', 'send', 'send', 'send', 'send', 'send', 'send', 'send', 15, 13, 4, 8, 21, 6, 12, 2, 10]\n",
    "Q1_k = 31"
   ]
  },
  {
   "cell_type": "markdown",
   "metadata": {},
   "source": [
    "### Manon"
   ]
  },
  {
   "cell_type": "code",
   "execution_count": null,
   "metadata": {},
   "outputs": [],
   "source": []
  },
  {
   "cell_type": "markdown",
   "metadata": {},
   "source": [
    "## Ratchet"
   ]
  },
  {
   "cell_type": "markdown",
   "metadata": {},
   "source": [
    "### Ratchet behaviour\n",
    "\n",
    "We'll try to implement the behaviour of the ratchet to see the state known after the sequence of operations for both Alice and Bob."
   ]
  },
  {
   "cell_type": "code",
   "execution_count": 39,
   "metadata": {},
   "outputs": [],
   "source": [
    "def send(i,state):\n",
    "    assert i>=0 and i <= 70\n",
    "    # when A sends a message, they create and immediately\n",
    "    # delete MK_i-1 from CK_i-1. CK_i-1 is deleted and\n",
    "    # CK_i is the only kept key.\n",
    "    new_CK = 'CK_{}'.format(i+1)\n",
    "    if i==0: # special case on first receive\n",
    "        state[i]=(None,None)\n",
    "        state[i+1]=(new_CK,None)\n",
    "    else:\n",
    "        state[i-1]=(None,None)\n",
    "        state[i]=(new_CK,None)\n",
    "    return state,i+1"
   ]
  },
  {
   "cell_type": "code",
   "execution_count": 40,
   "metadata": {},
   "outputs": [],
   "source": [
    "def recv(i,max_val,state):\n",
    "    if i<max_val: # we know we already computed the MK_i\n",
    "        state[i]=(None,None)\n",
    "    elif i>max_val:\n",
    "        # we'll compute all and delete all CK_j, j in {0,...,i-1}\n",
    "        # while keeping the MK_j\n",
    "        for j in range(0,max(i-1,1)): # we take care of the first receive call with the max\n",
    "            MK_j = 'MK_{}'.format(j)\n",
    "            state[j]=(None,MK_j)\n",
    "        # we delete MK_i-1 and CK_i-1 as MK_i-1 is consumed\n",
    "        state[max(i-1,0)]=(None,None) # also takes care of first receive\n",
    "        new_CK = 'CK_{}'.format(i)\n",
    "        # we keep CK_i for next time\n",
    "        state[i]=(new_CK,None)\n",
    "    else:\n",
    "        print(\"Unexpected arguments, i:{}==max:{}\".format(i,max_val))\n",
    "        return None,None,None\n",
    "    return state,max(max_val,i)"
   ]
  },
  {
   "cell_type": "code",
   "execution_count": 41,
   "metadata": {},
   "outputs": [],
   "source": [
    "def ratchet_from_ops(ops):\n",
    "    A_state = dict()\n",
    "    A_i = 0\n",
    "    B_state = dict()\n",
    "    B_max = -1\n",
    "    for opi in ops:\n",
    "        if opi=='send': # we track Alice's state\n",
    "            A_state,A_i = send(A_i,A_state)\n",
    "        else: # we track Bob's state\n",
    "            assert opi >= 0\n",
    "            B_state,B_max = recv(opi,B_max,B_state)\n",
    "    return A_state,B_state"
   ]
  },
  {
   "cell_type": "markdown",
   "metadata": {},
   "source": [
    "From those we can take a look at the state of A and B after the operations sequence. Alice's sequence is first and Bob's second."
   ]
  },
  {
   "cell_type": "code",
   "execution_count": 42,
   "metadata": {},
   "outputs": [
    {
     "data": {
      "text/plain": [
       "({0: (None, None),\n",
       "  1: (None, None),\n",
       "  2: (None, None),\n",
       "  3: (None, None),\n",
       "  4: (None, None),\n",
       "  5: (None, None),\n",
       "  6: (None, None),\n",
       "  7: (None, None),\n",
       "  8: (None, None),\n",
       "  9: (None, None),\n",
       "  10: (None, None),\n",
       "  11: (None, None),\n",
       "  12: (None, None),\n",
       "  13: (None, None),\n",
       "  14: (None, None),\n",
       "  15: (None, None),\n",
       "  16: (None, None),\n",
       "  17: (None, None),\n",
       "  18: (None, None),\n",
       "  19: (None, None),\n",
       "  20: ('CK_21', None)},\n",
       " {0: (None, 'MK_0'),\n",
       "  1: (None, 'MK_1'),\n",
       "  2: (None, None),\n",
       "  3: (None, 'MK_3'),\n",
       "  4: (None, 'MK_4'),\n",
       "  5: (None, 'MK_5'),\n",
       "  6: (None, None),\n",
       "  7: (None, 'MK_7'),\n",
       "  8: (None, 'MK_8'),\n",
       "  9: (None, 'MK_9'),\n",
       "  10: (None, None),\n",
       "  11: (None, 'MK_11'),\n",
       "  12: (None, None),\n",
       "  13: (None, 'MK_13'),\n",
       "  14: (None, 'MK_14'),\n",
       "  15: (None, 'MK_15'),\n",
       "  16: (None, 'MK_16'),\n",
       "  17: (None, 'MK_17'),\n",
       "  18: (None, 'MK_18'),\n",
       "  19: (None, 'MK_19'),\n",
       "  20: (None, None),\n",
       "  21: ('CK_21', None)})"
      ]
     },
     "execution_count": 42,
     "metadata": {},
     "output_type": "execute_result"
    }
   ],
   "source": [
    "states=ratchet_from_ops(Q1_ops); states"
   ]
  },
  {
   "cell_type": "markdown",
   "metadata": {},
   "source": [
    "## Q1_1"
   ]
  },
  {
   "cell_type": "markdown",
   "metadata": {},
   "source": [
    "## Q1_2"
   ]
  },
  {
   "cell_type": "markdown",
   "metadata": {},
   "source": [
    "## Q1_3"
   ]
  },
  {
   "cell_type": "markdown",
   "metadata": {},
   "source": [
    "## Q1_4"
   ]
  },
  {
   "cell_type": "code",
   "execution_count": null,
   "metadata": {},
   "outputs": [],
   "source": []
  }
 ],
 "metadata": {
  "kernelspec": {
   "display_name": "SageMath 9.4",
   "language": "sage",
   "name": "sagemath-9.4"
  },
  "language_info": {
   "codemirror_mode": {
    "name": "ipython",
    "version": 3
   },
   "file_extension": ".py",
   "mimetype": "text/x-python",
   "name": "python",
   "nbconvert_exporter": "python",
   "pygments_lexer": "ipython3",
   "version": "3.9.5"
  }
 },
 "nbformat": 4,
 "nbformat_minor": 4
}
