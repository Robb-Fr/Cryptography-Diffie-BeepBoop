{
 "cells": [
  {
   "cell_type": "markdown",
   "metadata": {},
   "source": [
    "# Exercice 1: I think they’re sending us Signals"
   ]
  },
  {
   "cell_type": "code",
   "execution_count": null,
   "metadata": {},
   "outputs": [],
   "source": []
  },
  {
   "cell_type": "markdown",
   "metadata": {},
   "source": [
    "## Parameters"
   ]
  },
  {
   "cell_type": "markdown",
   "metadata": {},
   "source": [
    "### Tom"
   ]
  },
  {
   "cell_type": "code",
   "execution_count": 1,
   "metadata": {},
   "outputs": [],
   "source": [
    "Q1_ops = ['send', 'send', 'send', 'send', 'send', 'send', 'send', 'send', 'send', 'send', 'send', 'send', 'send', 'send', 'send', 'send', 'send', 'send', 'send', 'send', 'send', 15, 13, 4, 8, 21, 6, 12, 2, 10]\n",
    "Q1_k = 31"
   ]
  },
  {
   "cell_type": "markdown",
   "metadata": {},
   "source": [
    "### Manon"
   ]
  },
  {
   "cell_type": "code",
   "execution_count": null,
   "metadata": {},
   "outputs": [],
   "source": []
  },
  {
   "cell_type": "markdown",
   "metadata": {},
   "source": [
    "## Ratchet"
   ]
  },
  {
   "cell_type": "markdown",
   "metadata": {},
   "source": [
    "### Ratchet behaviour\n",
    "\n",
    "We'll try to implement the behaviour of the ratchet to see the state known after the sequence of operations for both Alice and Bob."
   ]
  },
  {
   "cell_type": "code",
   "execution_count": 93,
   "metadata": {},
   "outputs": [],
   "source": [
    "def send(i,state):\n",
    "    assert i >= 1 and i <= 70\n",
    "    # when A sends a message, they create and immediately\n",
    "    # delete MK_i-1. CK_i-1 is deleted and\n",
    "    # CK_i is the only kept key.\n",
    "    new_CK = 'CK_{}'.format(i)\n",
    "    state[i-1]=(None,None)\n",
    "    state[i]=(new_CK,None)\n",
    "    return state,i+1"
   ]
  },
  {
   "cell_type": "code",
   "execution_count": 110,
   "metadata": {},
   "outputs": [],
   "source": [
    "def recv(i,max_val,state):\n",
    "    assert i >= 1 and i <= 70\n",
    "    if i < max_val: # we know we already computed the MK_i\n",
    "        # we can just consume it\n",
    "        state[i-1]=(None,None)\n",
    "    elif i > max_val:\n",
    "        # we'll compute all and delete all CK_j, j in {0,...,i-1}\n",
    "        # while keeping the MK_j but for j=i-1\n",
    "        # we take care of the first call when max_val=-1\n",
    "        for j in range(max(0,max_val),i): # exclusive upper bound\n",
    "            MK_j = 'MK_{}'.format(j)\n",
    "            state[j]=(None,MK_j)\n",
    "        # we delete MK_i-1 and CK_i-1 as MK_i-1 is consumed\n",
    "        state[i-1]=(None,None)\n",
    "        new_CK = 'CK_{}'.format(i)\n",
    "        # we keep CK_i for next time\n",
    "        state[i]=(new_CK,None)\n",
    "    else:\n",
    "        print(\"Unexpected arguments, i:{}==max:{}\".format(i,max_val))\n",
    "        return None,None,None\n",
    "    return state,max(max_val,i) # returns new state and max index seen"
   ]
  },
  {
   "cell_type": "code",
   "execution_count": 111,
   "metadata": {},
   "outputs": [],
   "source": [
    "def ratchet_from_ops(ops):\n",
    "    # we recall that we can maximally send 70 messages\n",
    "    # (sending message i requires using MK from state i-1)\n",
    "    A_state = [(None,None) for i in range(71)] # initialize null state\n",
    "    A_i = 1\n",
    "    B_state = [(None,None) for i in range(71)]\n",
    "    B_max = -1\n",
    "    for opi in ops:\n",
    "        if opi=='send': # we track Alice's state\n",
    "            A_state,A_i = send(A_i,A_state)\n",
    "        else: # we track Bob's state\n",
    "            assert opi >= 0\n",
    "            B_state,B_max = recv(opi,B_max,B_state)\n",
    "    return {\"Alice\":A_state,\"Bob\":B_state}"
   ]
  },
  {
   "cell_type": "markdown",
   "metadata": {},
   "source": [
    "From those we can take a look at the state of A and B after the operations sequence. Alice's sequence is first and Bob's second."
   ]
  },
  {
   "cell_type": "code",
   "execution_count": 112,
   "metadata": {
    "scrolled": false
   },
   "outputs": [
    {
     "data": {
      "text/plain": [
       "{'Alice': [(None, None),\n",
       "  (None, None),\n",
       "  (None, None),\n",
       "  (None, None),\n",
       "  (None, None),\n",
       "  (None, None),\n",
       "  (None, None),\n",
       "  (None, None),\n",
       "  (None, None),\n",
       "  (None, None),\n",
       "  (None, None),\n",
       "  (None, None),\n",
       "  (None, None),\n",
       "  (None, None),\n",
       "  (None, None),\n",
       "  (None, None),\n",
       "  (None, None),\n",
       "  (None, None),\n",
       "  (None, None),\n",
       "  (None, None),\n",
       "  (None, None),\n",
       "  ('CK_21', None),\n",
       "  (None, None),\n",
       "  (None, None),\n",
       "  (None, None),\n",
       "  (None, None),\n",
       "  (None, None),\n",
       "  (None, None),\n",
       "  (None, None),\n",
       "  (None, None),\n",
       "  (None, None),\n",
       "  (None, None),\n",
       "  (None, None),\n",
       "  (None, None),\n",
       "  (None, None),\n",
       "  (None, None),\n",
       "  (None, None),\n",
       "  (None, None),\n",
       "  (None, None),\n",
       "  (None, None),\n",
       "  (None, None),\n",
       "  (None, None),\n",
       "  (None, None),\n",
       "  (None, None),\n",
       "  (None, None),\n",
       "  (None, None),\n",
       "  (None, None),\n",
       "  (None, None),\n",
       "  (None, None),\n",
       "  (None, None),\n",
       "  (None, None),\n",
       "  (None, None),\n",
       "  (None, None),\n",
       "  (None, None),\n",
       "  (None, None),\n",
       "  (None, None),\n",
       "  (None, None),\n",
       "  (None, None),\n",
       "  (None, None),\n",
       "  (None, None),\n",
       "  (None, None),\n",
       "  (None, None),\n",
       "  (None, None),\n",
       "  (None, None),\n",
       "  (None, None),\n",
       "  (None, None),\n",
       "  (None, None),\n",
       "  (None, None),\n",
       "  (None, None),\n",
       "  (None, None),\n",
       "  (None, None)],\n",
       " 'Bob': [(None, 'MK_0'),\n",
       "  (None, None),\n",
       "  (None, 'MK_2'),\n",
       "  (None, None),\n",
       "  (None, 'MK_4'),\n",
       "  (None, None),\n",
       "  (None, 'MK_6'),\n",
       "  (None, None),\n",
       "  (None, 'MK_8'),\n",
       "  (None, None),\n",
       "  (None, 'MK_10'),\n",
       "  (None, None),\n",
       "  (None, None),\n",
       "  (None, 'MK_13'),\n",
       "  (None, None),\n",
       "  (None, 'MK_15'),\n",
       "  (None, 'MK_16'),\n",
       "  (None, 'MK_17'),\n",
       "  (None, 'MK_18'),\n",
       "  (None, 'MK_19'),\n",
       "  (None, None),\n",
       "  ('CK_21', None),\n",
       "  (None, None),\n",
       "  (None, None),\n",
       "  (None, None),\n",
       "  (None, None),\n",
       "  (None, None),\n",
       "  (None, None),\n",
       "  (None, None),\n",
       "  (None, None),\n",
       "  (None, None),\n",
       "  (None, None),\n",
       "  (None, None),\n",
       "  (None, None),\n",
       "  (None, None),\n",
       "  (None, None),\n",
       "  (None, None),\n",
       "  (None, None),\n",
       "  (None, None),\n",
       "  (None, None),\n",
       "  (None, None),\n",
       "  (None, None),\n",
       "  (None, None),\n",
       "  (None, None),\n",
       "  (None, None),\n",
       "  (None, None),\n",
       "  (None, None),\n",
       "  (None, None),\n",
       "  (None, None),\n",
       "  (None, None),\n",
       "  (None, None),\n",
       "  (None, None),\n",
       "  (None, None),\n",
       "  (None, None),\n",
       "  (None, None),\n",
       "  (None, None),\n",
       "  (None, None),\n",
       "  (None, None),\n",
       "  (None, None),\n",
       "  (None, None),\n",
       "  (None, None),\n",
       "  (None, None),\n",
       "  (None, None),\n",
       "  (None, None),\n",
       "  (None, None),\n",
       "  (None, None),\n",
       "  (None, None),\n",
       "  (None, None),\n",
       "  (None, None),\n",
       "  (None, None),\n",
       "  (None, None)]}"
      ]
     },
     "execution_count": 112,
     "metadata": {},
     "output_type": "execute_result"
    }
   ],
   "source": [
    "states=ratchet_from_ops(Q1_ops); states"
   ]
  },
  {
   "cell_type": "markdown",
   "metadata": {},
   "source": [
    "## Q1_1 - derive messages"
   ]
  },
  {
   "cell_type": "markdown",
   "metadata": {},
   "source": [
    "### Alice state's exposure\n",
    "From Alice's state exposure, we can see from the ratchet behaviour that only the last $CK$ is exposed and no $MK$. The ratchet purpose is fulfilled here, there's no way to go back if Alice correctly deleted $RK_{init}$ which is the only piece missing to regenerate a previous $CK$ (With $KDF_{RK}(RK_{init},DH_{new})$ as $DH_{new}$ is leaked).\n",
    "\n",
    "Indeed, we can see how many messages an attacker could derive by observing the amount of leaked $MK$ as those are used to decrypt the messages."
   ]
  },
  {
   "cell_type": "code",
   "execution_count": 113,
   "metadata": {},
   "outputs": [
    {
     "name": "stdout",
     "output_type": "stream",
     "text": [
      "{}\n"
     ]
    }
   ],
   "source": [
    "Q1a_1 = set()\n",
    "for index,state in enumerate(states[\"Alice\"]):\n",
    "    if state[1] is not None:\n",
    "        Q1b_1.add(index+1)\n",
    "print(\"{}\" if len(Q1a_1) == 0 else Q1_a1)"
   ]
  },
  {
   "cell_type": "markdown",
   "metadata": {},
   "source": [
    "### Bob's state exposure\n",
    "From Bob's state exposure, the ratchet state of Bob shows that all messages that have not yet been decrypted but have index $<max$ have a stored key by Bob $MK$ ! Therefore, all messages sent by Alice but not yet received by Bob can be decrypted with the information leaked by Bob's state.\n",
    "\n",
    "Noting that $MK_i$ can be used to decrypt message $i+1$, we could decrypt all messages $m_{i+1}$ for which the $MK_i$ hasn't been computed yet.\n",
    "\n",
    "We here observe a consequence of the tradeoff between functionnality (random access to decryption) and security (strict ratchet principle)"
   ]
  },
  {
   "cell_type": "code",
   "execution_count": 114,
   "metadata": {},
   "outputs": [
    {
     "name": "stdout",
     "output_type": "stream",
     "text": [
      "{1, 3, 5, 7, 9, 11, 14, 16, 17, 18, 19, 20}\n"
     ]
    }
   ],
   "source": [
    "Q1b_1 = set()\n",
    "for index,state in enumerate(states[\"Bob\"]):\n",
    "    if state[1] is not None:\n",
    "        Q1b_1.add(index+1)\n",
    "print(\"{}\" if len(Q1b_1) == 0 else Q1b_1)"
   ]
  },
  {
   "cell_type": "markdown",
   "metadata": {},
   "source": [
    "## Q1_2 - forge messages"
   ]
  },
  {
   "cell_type": "markdown",
   "metadata": {},
   "source": [
    "### Alice's state exposure\n",
    "In this setting, Alice's state exposure yields $CK_{max}$ which can be used to generate $MK_{max},...,MK_{69}$ that are the key values used to decrypt messages $m_{max+1},...,m_{70}$ !\n",
    "\n",
    "Therefore, all those subsequent messages can be easily forged by an attacker without Bob being able to distinguish who sent it. Bob will just advance their ratchet correspondingly to their $recv$ calls."
   ]
  },
  {
   "cell_type": "code",
   "execution_count": 115,
   "metadata": {},
   "outputs": [
    {
     "name": "stdout",
     "output_type": "stream",
     "text": [
      "{21, 22, 23, 24, 25, 26, 27, 28, 29, 30, 31, 32, 33, 34, 35, 36, 37, 38, 39, 40, 41, 42, 43, 44, 45, 46, 47, 48, 49, 50, 51, 52, 53, 54, 55, 56, 57, 58, 59, 60, 61, 62, 63, 64, 65, 66, 67, 68, 69, 70}\n"
     ]
    }
   ],
   "source": [
    "Q1a_2 = set()\n",
    "can_forge = False\n",
    "for index,state in enumerate(states[\"Alice\"]):\n",
    "    if can_forge:\n",
    "        Q1a_2.add(index)\n",
    "    if state[0] is not None:\n",
    "        # order of instruction important:\n",
    "        # can forge only messages that has not yet been received\n",
    "        # namely message i+1 when we have CK_i (used to generate MK_i that decrypts msg i+1)\n",
    "        can_forge = True\n",
    "print(\"{}\" if len(Q1a_2) == 0 else Q1a_2)"
   ]
  },
  {
   "cell_type": "markdown",
   "metadata": {},
   "source": [
    "### Bob's state exposure"
   ]
  },
  {
   "cell_type": "markdown",
   "metadata": {},
   "source": [
    "## Q1_3 - forge with signatures"
   ]
  },
  {
   "cell_type": "markdown",
   "metadata": {},
   "source": [
    "## Q1_4 - maximize state"
   ]
  },
  {
   "cell_type": "code",
   "execution_count": null,
   "metadata": {},
   "outputs": [],
   "source": []
  }
 ],
 "metadata": {
  "kernelspec": {
   "display_name": "SageMath 9.4",
   "language": "sage",
   "name": "sagemath-9.4"
  },
  "language_info": {
   "codemirror_mode": {
    "name": "ipython",
    "version": 3
   },
   "file_extension": ".py",
   "mimetype": "text/x-python",
   "name": "python",
   "nbconvert_exporter": "python",
   "pygments_lexer": "ipython3",
   "version": "3.9.5"
  }
 },
 "nbformat": 4,
 "nbformat_minor": 4
}
