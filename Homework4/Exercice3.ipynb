{
 "cells": [
  {
   "cell_type": "markdown",
   "id": "8cd5c8e5",
   "metadata": {},
   "source": [
    "# Exercice 3 - Merry Christmhash\n",
    "⚠️ Run this with an ipython kernel, not sage"
   ]
  },
  {
   "cell_type": "code",
   "execution_count": 51,
   "id": "3a5b758a",
   "metadata": {},
   "outputs": [],
   "source": [
    "import binascii\n",
    "import struct\n",
    "import operator\n",
    "import random"
   ]
  },
  {
   "cell_type": "markdown",
   "id": "7ce23841",
   "metadata": {},
   "source": [
    "## Parameters"
   ]
  },
  {
   "cell_type": "code",
   "execution_count": 3,
   "id": "e675db78",
   "metadata": {},
   "outputs": [],
   "source": [
    "# avoids undesired parameters printing when commented\n",
    "dummy_variable=1"
   ]
  },
  {
   "cell_type": "markdown",
   "id": "002aee6d",
   "metadata": {},
   "source": [
    "### Tom"
   ]
  },
  {
   "cell_type": "code",
   "execution_count": 1,
   "id": "e29941ea",
   "metadata": {},
   "outputs": [],
   "source": [
    "\n",
    "Q3a_M=\"If you are crying, fight against it! If you're regretting, walk forward! Only complaining on your misfortune, you're nothing but a common pig! (Ciel Phantomhive, Kuroshitsuji)\"\n",
    "Q3a_H=[1712935222, 2277794147, 2376157840, 3916784640, 1346939745, 2708679518, 85473800, 3788905359]\n",
    "Q3a_K=[1943621227, 886196854, 2945353417, 208223340, 1212883955, 2473679821, 3054683082, 2029524489, 3963858188, 3339906788, 2823505815, 3350944332, 312194943, 3986347121, 2144670729, 741633462, 3663151569, 3544144315, 2690702324, 1848842070, 811599001, 510224092, 4281468752, 752009382, 1104123092, 3497858695, 2695667604, 1727413627, 3050579566, 510494887, 4285911224, 952491461, 4237080290, 10651148, 4015126669, 154644693, 1282241408, 2068274028, 2010214286, 3416638395, 2453720085, 3229980118, 2094058516, 1197555596, 922344893, 2154715712, 3908004108, 481673144, 1957904962, 3050061601, 541865778, 1006059256, 585392047, 1178853390, 2805354064, 972068900, 3754759061, 1435964078, 398864381, 2460187893, 1385904313, 3634606251, 2462881886, 3619520975]\n",
    "Q3a_S=[[22, 16, 27], [21, 4, 23]]\n",
    "Q3b_t=\"011e9faabb4e5381\"\n",
    "Q3b_d=\"384bba4b1dbd84001ccb55791cfcb7ac4da9f6f67174102751830195e3ca5fa6\"\n",
    "Q3b_H=[1410008662, 3165996059, 4265820587, 3228924364, 2876772144, 502571215, 1296440626, 3528054622]\n",
    "Q3b_K2=[1660732939, 2978614430, 479083038, 4039110515, 503760146, 2160178725, 3371169074, 3023444970, 1832019271, 1110792947, 4275626369, 1675250051, 2784406696, 4257265674, 517985909, 3086983861, 3409296999, 1504386796, 374146206, 4055850561, 2556892257, 2255194630, 2066495719, 259846162, 593904479, 2868322264, 3146981800, 3913516318, 625630895, 1491933359, 1856807117, 3795630429, 3035508049, 3725788811, 2587675021, 4081590610, 1694559383, 2421525974, 2954023209, 3274021365, 556994319, 3840950079, 2748231069, 4293925912, 1934082025, 683379336, 3605902893, 3811110963, 3312404527, 562459431, 3079990482, 4161695928, 1789332738, 3133889965, 94188891, 1773848693]\n",
    "Q3b_S=[[8, 1, 2], [9, 5, 13]]\n",
    "\n",
    "dummy_variable=1"
   ]
  },
  {
   "cell_type": "markdown",
   "id": "a5b232ff",
   "metadata": {},
   "source": [
    "### Manon"
   ]
  },
  {
   "cell_type": "code",
   "execution_count": null,
   "id": "139ebe83",
   "metadata": {},
   "outputs": [],
   "source": []
  },
  {
   "cell_type": "markdown",
   "id": "fbcb5670",
   "metadata": {},
   "source": [
    "## $H(m,H,K,S)$ implementation"
   ]
  },
  {
   "cell_type": "code",
   "execution_count": 62,
   "id": "0f4f3454",
   "metadata": {},
   "outputs": [],
   "source": [
    "# https://200ok.ch/posts/2018-12-09_unhexlify.html\n",
    "def xxd(s):\n",
    "    return binascii.hexlify(s).decode()"
   ]
  },
  {
   "cell_type": "code",
   "execution_count": 63,
   "id": "670af6a5",
   "metadata": {},
   "outputs": [],
   "source": [
    "def pack(k,n):\n",
    "    if k==32:\n",
    "        return list(struct.pack('>L',n))\n",
    "    elif k==64:\n",
    "        return list(struct.pack('>Q',n))\n",
    "    else:\n",
    "        print(\"Error, k should be 32 or 64, here it's {}\".format(k))\n",
    "        return None"
   ]
  },
  {
   "cell_type": "code",
   "execution_count": 64,
   "id": "91fc8d8a",
   "metadata": {},
   "outputs": [],
   "source": [
    "assert pack(32,1)==[0,0,0,1]\n",
    "assert pack(64,1)==[0,0,0,0,0,0,0,1]"
   ]
  },
  {
   "cell_type": "code",
   "execution_count": 69,
   "id": "fcbc5fca",
   "metadata": {},
   "outputs": [],
   "source": [
    "# we must make sure ^ and ~ operators are well defined as used later\n",
    "for i in range(4096):\n",
    "    r1 = random.randint(0,2**64)\n",
    "    r2 = random.randint(0,2**64)\n",
    "    assert r1^r2 == operator.xor(r1,r2)\n",
    "    assert ~r1 == operator.invert(r1)"
   ]
  },
  {
   "cell_type": "code",
   "execution_count": 66,
   "id": "2eb82f46",
   "metadata": {},
   "outputs": [],
   "source": [
    "def compress(x,W,K,S):\n",
    "    y = x\n",
    "    for i in range(64):\n",
    "        s0=0\n",
    "        for j in range(0,3):\n",
    "            # we make all our ops modulo 2^32 as y elements are expected to be\n",
    "            s0 = (s0 ^ ((y[0]>>(S[0][j])) | (y[0]<<(32-S[0][j]))))%2**32\n",
    "        s1=0\n",
    "        for j in range(0,3):\n",
    "            s1 = (s1 ^ ((y[4]>>(S[1][j])) | (y[4]<<(32-S[1][j]))))%2**32\n",
    "        t1 = (y[4] & y[5] ^ (~y[4]) & y[6])%2**32\n",
    "        t2 = (s1 + t1 + y[7] + K[i] + W[i])%2**32\n",
    "        t3 = (y[0] & y[1] ^ y[0] & y[2] ^ y[1] & y[2])%2**32\n",
    "        y = [(s0+t2+t3)%2**32,y[0],y[1],y[2],(y[3]+t2)%2**32,y[4],y[5],y[6]]\n",
    "    return y"
   ]
  },
  {
   "cell_type": "code",
   "execution_count": 67,
   "id": "7be6c1fd",
   "metadata": {},
   "outputs": [],
   "source": [
    "def extend(M):\n",
    "    W = [0 for i in range(64)]\n",
    "    for i in range(0,16):\n",
    "        W[i] = M[i]\n",
    "    for i in range(16,64):\n",
    "        t1 = ((((W[i-15])>>7) | ((W[i-15])<<25)) ^ (((W[i-15])>>18) | ((W[i-15])<<14)) ^ (((W[i-15])>>3)))%2**32\n",
    "        t2 = ((((W[i-2])>>17) | ((W[i-2])<<15)) ^ (((W[i-2])>>19) | ((W[i-2])<<13)) ^ (((W[i-2])>>10)))%2**32\n",
    "        W[i] = (W[i-16]+W[i-7]+t1+t2)%2**32\n",
    "    return W"
   ]
  },
  {
   "cell_type": "code",
   "execution_count": null,
   "id": "548b303b",
   "metadata": {},
   "outputs": [],
   "source": [
    "def H(m,H,K,S):\n",
    "    "
   ]
  }
 ],
 "metadata": {
  "kernelspec": {
   "display_name": "Python 3 (ipykernel)",
   "language": "python",
   "name": "python3"
  },
  "language_info": {
   "codemirror_mode": {
    "name": "ipython",
    "version": 3
   },
   "file_extension": ".py",
   "mimetype": "text/x-python",
   "name": "python",
   "nbconvert_exporter": "python",
   "pygments_lexer": "ipython3",
   "version": "3.10.1"
  }
 },
 "nbformat": 4,
 "nbformat_minor": 5
}
