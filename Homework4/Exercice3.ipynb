{
 "cells": [
  {
   "cell_type": "markdown",
   "id": "8cd5c8e5",
   "metadata": {},
   "source": [
    "# Exercice 3 - Merry Christmhash\n",
    "⚠️ Run this with an ipython kernel, not sage"
   ]
  },
  {
   "cell_type": "code",
   "execution_count": 1,
   "id": "3a5b758a",
   "metadata": {},
   "outputs": [],
   "source": [
    "import binascii\n",
    "import struct\n",
    "import operator\n",
    "import random\n",
    "import math"
   ]
  },
  {
   "cell_type": "markdown",
   "id": "7ce23841",
   "metadata": {},
   "source": [
    "## Parameters"
   ]
  },
  {
   "cell_type": "code",
   "execution_count": 2,
   "id": "e675db78",
   "metadata": {},
   "outputs": [],
   "source": [
    "# avoids undesired parameters printing when commented\n",
    "dummy_variable=1"
   ]
  },
  {
   "cell_type": "markdown",
   "id": "002aee6d",
   "metadata": {},
   "source": [
    "### Tom"
   ]
  },
  {
   "cell_type": "code",
   "execution_count": 3,
   "id": "e29941ea",
   "metadata": {},
   "outputs": [],
   "source": [
    "\n",
    "Q3a_M=\"If you are crying, fight against it! If you're regretting, walk forward! Only complaining on your misfortune, you're nothing but a common pig! (Ciel Phantomhive, Kuroshitsuji)\"\n",
    "Q3a_H=[1712935222, 2277794147, 2376157840, 3916784640, 1346939745, 2708679518, 85473800, 3788905359]\n",
    "Q3a_K=[1943621227, 886196854, 2945353417, 208223340, 1212883955, 2473679821, 3054683082, 2029524489, 3963858188, 3339906788, 2823505815, 3350944332, 312194943, 3986347121, 2144670729, 741633462, 3663151569, 3544144315, 2690702324, 1848842070, 811599001, 510224092, 4281468752, 752009382, 1104123092, 3497858695, 2695667604, 1727413627, 3050579566, 510494887, 4285911224, 952491461, 4237080290, 10651148, 4015126669, 154644693, 1282241408, 2068274028, 2010214286, 3416638395, 2453720085, 3229980118, 2094058516, 1197555596, 922344893, 2154715712, 3908004108, 481673144, 1957904962, 3050061601, 541865778, 1006059256, 585392047, 1178853390, 2805354064, 972068900, 3754759061, 1435964078, 398864381, 2460187893, 1385904313, 3634606251, 2462881886, 3619520975]\n",
    "Q3a_S=[[22, 16, 27], [21, 4, 23]]\n",
    "Q3b_t=\"011e9faabb4e5381\"\n",
    "Q3b_d=\"384bba4b1dbd84001ccb55791cfcb7ac4da9f6f67174102751830195e3ca5fa6\"\n",
    "Q3b_H=[1410008662, 3165996059, 4265820587, 3228924364, 2876772144, 502571215, 1296440626, 3528054622]\n",
    "Q3b_K2=[1660732939, 2978614430, 479083038, 4039110515, 503760146, 2160178725, 3371169074, 3023444970, 1832019271, 1110792947, 4275626369, 1675250051, 2784406696, 4257265674, 517985909, 3086983861, 3409296999, 1504386796, 374146206, 4055850561, 2556892257, 2255194630, 2066495719, 259846162, 593904479, 2868322264, 3146981800, 3913516318, 625630895, 1491933359, 1856807117, 3795630429, 3035508049, 3725788811, 2587675021, 4081590610, 1694559383, 2421525974, 2954023209, 3274021365, 556994319, 3840950079, 2748231069, 4293925912, 1934082025, 683379336, 3605902893, 3811110963, 3312404527, 562459431, 3079990482, 4161695928, 1789332738, 3133889965, 94188891, 1773848693]\n",
    "Q3b_S=[[8, 1, 2], [9, 5, 13]]\n",
    "\n",
    "dummy_variable=1"
   ]
  },
  {
   "cell_type": "markdown",
   "id": "a5b232ff",
   "metadata": {},
   "source": [
    "### Manon"
   ]
  },
  {
   "cell_type": "code",
   "execution_count": null,
   "id": "139ebe83",
   "metadata": {},
   "outputs": [],
   "source": []
  },
  {
   "cell_type": "markdown",
   "id": "fbcb5670",
   "metadata": {},
   "source": [
    "## $H(m,H,K,S)$ implementation"
   ]
  },
  {
   "cell_type": "code",
   "execution_count": 4,
   "id": "0f4f3454",
   "metadata": {},
   "outputs": [],
   "source": [
    "# https://200ok.ch/posts/2018-12-09_unhexlify.html\n",
    "def xxd(s):\n",
    "    return binascii.hexlify(s).decode()"
   ]
  },
  {
   "cell_type": "code",
   "execution_count": 395,
   "id": "intellectual-sister",
   "metadata": {},
   "outputs": [],
   "source": [
    "def unxxd(s):\n",
    "    return binascii.unhexlify(s)"
   ]
  },
  {
   "cell_type": "code",
   "execution_count": 115,
   "id": "670af6a5",
   "metadata": {},
   "outputs": [],
   "source": [
    "def pack(k,n):\n",
    "    if k==32:\n",
    "        return struct.pack('>L',n)\n",
    "    elif k==64:\n",
    "        return struct.pack('>Q',n)\n",
    "    else:\n",
    "        print(\"Error, k should be 32 or 64, here it's {}\".format(k))\n",
    "        return None"
   ]
  },
  {
   "cell_type": "code",
   "execution_count": 6,
   "id": "91fc8d8a",
   "metadata": {},
   "outputs": [],
   "source": [
    "assert list(pack(32,1))==[0,0,0,1]\n",
    "assert list(pack(64,1))==[0,0,0,0,0,0,0,1]"
   ]
  },
  {
   "cell_type": "code",
   "execution_count": 7,
   "id": "fcbc5fca",
   "metadata": {},
   "outputs": [],
   "source": [
    "# we must make sure ^ and ~ operators are well defined as used later\n",
    "for i in range(4096):\n",
    "    r1 = random.randint(0,2**64)\n",
    "    r2 = random.randint(0,2**64)\n",
    "    assert r1^r2 == operator.xor(r1,r2)\n",
    "    assert ~r1 == operator.invert(r1)"
   ]
  },
  {
   "cell_type": "code",
   "execution_count": 188,
   "id": "illegal-ethics",
   "metadata": {
    "code_folding": [
     0
    ]
   },
   "outputs": [],
   "source": [
    " def compress2(x, W, K, S):\n",
    "    mod = 2^32\n",
    "    y = x.copy()\n",
    "    for i in range(64):\n",
    "        s0 = ((y[0] >> S[0][0]) % mod) | ((y[0] << (32 - S[0][0])) % mod)\n",
    "        s0 = operator.xor(s0, ((y[0] >> S[0][1]) % mod) | ((y[0] << (32 - S[0][1])) % mod))\n",
    "        s0 = operator.xor(s0, ((y[0] >> S[0][2]) % mod) | ((y[0] << (32 - S[0][2])) % mod))\n",
    "        \n",
    "        s1 = ((y[4] >> S[1][0]) % mod) | ((y[4] << (32 - S[1][0])) % mod)\n",
    "        s1 = operator.xor(s1, ((y[4] >> S[1][1]) % mod) | ((y[4] << (32 - S[1][1])) % mod))\n",
    "        s1 = operator.xor(s1, ((y[4] >> S[1][2]) % mod) | ((y[4] << (32 - S[1][2])) % mod))\n",
    "        \n",
    "        t1 = operator.xor(y[4] & y[5], ((~y[4])& y[6]))\n",
    "        t2 = (s1 + t1 + y[7] + K[i] + W[i]) % mod\n",
    "        t3 = operator.xor(operator.xor(y[0] & y[1], y[0] & y[2]), y[1] & y[2])\n",
    "        y = [(s0 + t2 + t3) % mod , y[0], y[1], y[2], (y[3] + t2) % mod, y[4], y[5], y[6]]\n",
    "    return y "
   ]
  },
  {
   "cell_type": "code",
   "execution_count": 198,
   "id": "saving-cleaning",
   "metadata": {
    "code_folding": [
     0
    ]
   },
   "outputs": [],
   "source": [
    "def compression_step(state, k_i, w_i):\n",
    "    a, b, c, d, e, f, g, h = state\n",
    "    s1 = rotate_right(e, 6) ^ rotate_right(e, 11) ^ rotate_right(e, 25)\n",
    "    ch = (e & f) ^ (~e & g)\n",
    "    tmp1 = (h + s1 + ch + k_i + w_i) & 0xffffffff\n",
    "    s0 = rotate_right(a, 2) ^ rotate_right(a, 13) ^ rotate_right(a, 22)\n",
    "    maj = (a & b) ^ (a & c) ^ (b & c)\n",
    "    tmp2 = (tmp1 + s0 + maj) & 0xffffffff\n",
    "    tmp3 = (d + tmp1) & 0xffffffff\n",
    "    return (tmp2, a, b, c, tmp3, e, f, g)\n",
    "\n",
    "def compression(state, w, round_keys = None):\n",
    "    if round_keys is None:\n",
    "      round_keys = self.k\n",
    "    for i in range(64):\n",
    "      state = compression_step(state, round_keys[i], w[i])\n",
    "    return state"
   ]
  },
  {
   "cell_type": "code",
   "execution_count": 191,
   "id": "twelve-title",
   "metadata": {
    "code_folding": [
     0
    ]
   },
   "outputs": [],
   "source": [
    "def extend2(M):\n",
    "    print(\"M: \" + str(list(M)))\n",
    "    W = [0 for i in range(64)]\n",
    "    for i in range(0,16):\n",
    "        W[i] = M[i]\n",
    "    for i in range(16,64):\n",
    "        a, b = W[i-15], W[i-2]\n",
    "        s0 = rotate_right(a, 7) ^ rotate_right(a, 18) ^ (a >> 3)\n",
    "        s1 = rotate_right(b, 17) ^ rotate_right(b, 19) ^ (b >> 10)\n",
    "        #t1 = (((a>>7) | (a<<25)) ^ (((W[i-15])>>18) | ((W[i-15])<<14)) ^ (((W[i-15])>>3)))%2**32\n",
    "        #t2 = ((((W[i-2])>>17) | ((W[i-2])<<15)) ^ (((W[i-2])>>19) | ((W[i-2])<<13)) ^ (((W[i-2])>>10)))%2**32\n",
    "        W[i] = (W[i-16]+W[i-7]+s0+s1) & 0xffffffff\n",
    "    print(\"W: \" + str(W))\n",
    "    return W"
   ]
  },
  {
   "cell_type": "code",
   "execution_count": 213,
   "id": "arctic-aquatic",
   "metadata": {
    "code_folding": [
     0
    ]
   },
   "outputs": [],
   "source": [
    "def oldH(m,H,K,S):\n",
    "    m = list(m)\n",
    "    m_numberofbytes = len(m)\n",
    "    l = (-m_numberofbytes-9)%64\n",
    "    m = m + [0x80] + [0]*l + list(pack(64,8*m_numberofbytes))\n",
    "    print(\"m: \" + str(bytes(m)))\n",
    "    M = list(chunks(m,64))\n",
    "    d = H\n",
    "    L = len(M)\n",
    "    for i in range(L):\n",
    "        W = extend(M[i])\n",
    "        y = compress(d,W,K,S)\n",
    "        #print(\"d: \" + str(d))\n",
    "        #d = (d+y)\n",
    "        d = [(di + yi) % 2**32 for di,yi in zip(d,y)]\n",
    "        #print(\"y: \" + str(y))\n",
    "        \n",
    "    d_reduced = d[:8]\n",
    "    d_out = []\n",
    "    for di in d_reduced:\n",
    "         d_out += pack(32,di)\n",
    "    return d_out"
   ]
  },
  {
   "cell_type": "code",
   "execution_count": 318,
   "id": "7be6c1fd",
   "metadata": {},
   "outputs": [],
   "source": [
    "def extend(M):\n",
    "    mis = list(chunks(bytes(M),4))\n",
    "    W = [0 for i in range(64)]\n",
    "    for i in range(0,16):\n",
    "        W[i] = mis[i][0]<<24|mis[i][1]<<16|mis[i][2]<<8|mis[i][3]\n",
    "    for i in range(16,64):\n",
    "        t1 = ((((W[i-15])>>7) | ((W[i-15])<<25)) ^ (((W[i-15])>>18) | ((W[i-15])<<14)) ^ (((W[i-15])>>3)))%2**32\n",
    "        t2 = ((((W[i-2])>>17) | ((W[i-2])<<15)) ^ (((W[i-2])>>19) | ((W[i-2])<<13)) ^ (((W[i-2])>>10)))%2**32\n",
    "        W[i] = (W[i-16]+W[i-7]+t1+t2)%2**32\n",
    "    return W"
   ]
  },
  {
   "cell_type": "code",
   "execution_count": 246,
   "id": "terminal-infection",
   "metadata": {},
   "outputs": [],
   "source": [
    "def compress(x,W,K,S):\n",
    "    y = x\n",
    "    for i in range(64):\n",
    "        s0=0\n",
    "        for j in range(0,3):\n",
    "            # we make all our ops modulo 2^32 as y elements are expected to be\n",
    "            s0 = (s0 ^ ((y[0]>>(S[0][j])) | (y[0]<<(32-S[0][j]))))%2**32\n",
    "        s1=0\n",
    "        for j in range(0,3):\n",
    "            s1 = (s1 ^ ((y[4]>>(S[1][j])) | (y[4]<<(32-S[1][j]))))%2**32\n",
    "        t1 = (y[4] & y[5] ^ (~y[4]) & y[6])%2**32\n",
    "        t2 = (s1 + t1 + y[7] + K[i] + W[i])%2**32\n",
    "        t3 = (y[0] & y[1] ^ y[0] & y[2] ^ y[1] & y[2])%2**32\n",
    "        \n",
    "        tmp0 = (s0+t2+t3)%2**32\n",
    "        tmp4 = (y[3]+t2)%2**32\n",
    "        y = [tmp0,y[0],y[1],y[2],tmp4,y[4],y[5],y[6]]\n",
    "    return y"
   ]
  },
  {
   "cell_type": "code",
   "execution_count": 190,
   "id": "norman-situation",
   "metadata": {},
   "outputs": [],
   "source": [
    "def rotate_right(v, n):\n",
    "    w = (v >> n) | (v << (32 - n))\n",
    "    return w & 0xffffffff"
   ]
  },
  {
   "cell_type": "code",
   "execution_count": 192,
   "id": "romance-guarantee",
   "metadata": {},
   "outputs": [],
   "source": [
    "def chunks(lis, n):\n",
    "    \"\"\"Yield successive n-sized chunks from list.\"\"\"\n",
    "    for i in range(0, len(lis), n):\n",
    "        yield lis[i:i + n]"
   ]
  },
  {
   "cell_type": "code",
   "execution_count": 241,
   "id": "white-darwin",
   "metadata": {},
   "outputs": [],
   "source": [
    "def H(m,H,K,S):\n",
    "    m_numberofbytes = len(m)\n",
    "    l = (-m_numberofbytes-9)%64\n",
    "    m = bytes(m) + b'\\x80'  + b'\\x00' *l + pack(64,8*m_numberofbytes)\n",
    "    M = list(chunks(m,64))\n",
    "    d = H\n",
    "    L = len(M)\n",
    "    for i in range(L):\n",
    "        W = extend(M[i])\n",
    "        y = compress(d,W,K,S)\n",
    "        #print(\"d: \" + str(d))\n",
    "        #d = (d+y)\n",
    "        d = [(di + yi) % 2**32 for di,yi in zip(d,y)]\n",
    "        #print(\"y: \" + str(y))\n",
    "        \n",
    "    d_reduced = d[:8]\n",
    "    d_out = []\n",
    "    for di in d_reduced:\n",
    "         d_out += pack(32,di)\n",
    "    return d_out"
   ]
  },
  {
   "cell_type": "code",
   "execution_count": 285,
   "id": "african-jones",
   "metadata": {},
   "outputs": [
    {
     "name": "stdout",
     "output_type": "stream",
     "text": [
      "M: b\"If you are crying, fight against it! If you're regretting, walk \"\n",
      "W: [1231429753, 1869946977, 1919230051, 1920559470, 1730945126, 1768384628, 543254369, 1768846196, 543781921, 541681184, 2037347623, 1919230066, 1701278309, 1953786222, 1730945143, 1634495264, 2231644325, 578924510, 203536228, 2184156885, 148984660, 2847484380, 2125633676, 3149400112, 2146760258, 3459428418, 2219478028, 2757795882, 4010104114, 563488275, 2031116743, 279503366, 1675540125, 3092878061, 2633830211, 1779651646, 922319119, 2488545741, 2534645383, 1965233490, 626001823, 4258324992, 1533116074, 1984645744, 3219482221, 515333783, 1153290782, 364043848, 1573801416, 538587960, 2804713259, 3504135578, 2933624647, 3368663638, 3527527148, 4165753813, 1212883169, 1276917076, 1568071280, 1448250415, 937352231, 1226461067, 397669295, 3566521527]\n",
      "M: b\"forward! Only complaining on your misfortune, you're nothing but\"\n",
      "W: [1718579831, 1634886689, 542076524, 2032165743, 1836084321, 1768843630, 1730178926, 544829301, 1914727785, 1936093042, 1953853029, 740325743, 1965519461, 544108404, 1751740007, 543323508, 1285559643, 1373035048, 496198271, 2029642563, 3069866268, 1805752811, 3012947790, 887474065, 2142261309, 2351985053, 3573404345, 852583406, 2878870800, 164556598, 375480078, 82709951, 1229404967, 324310073, 3163026498, 2972126903, 2200515430, 3647642431, 3449067278, 4261512513, 2740178095, 1485298509, 2832454830, 4264810087, 3973261344, 2991030069, 59645983, 2181469285, 3407747116, 3300964366, 1153976725, 2062325357, 631921557, 3637013782, 3015234699, 3158727083, 1082091865, 1115706407, 2734417393, 3669103457, 4142595738, 1750853355, 1591072774, 423074703]\n",
      "M: b' a common pig! (Ciel Phantomhive, Kuroshitsuji)\\x80\\x00\\x00\\x00\\x00\\x00\\x00\\x00\\x00\\x00\\x00\\x00\\x00\\x00\\x00\\x05x'\n",
      "W: [543236195, 1869442415, 1847619689, 1730224168, 1130980716, 542140513, 1853124461, 1751742053, 740313973, 1919906664, 1769239413, 1785276800, 0, 0, 0, 1400, 456736887, 2650207818, 1960688161, 2526900189, 2315644623, 122324437, 1398132824, 2465573817, 515794051, 1123922092, 1189221468, 1656893084, 1342085373, 2782584330, 600219140, 284718876, 907602359, 1027412011, 864737077, 111350748, 1826893373, 3850327192, 44410102, 2797551403, 4291967720, 606611267, 1725339155, 1011275586, 2244124340, 92610859, 254638688, 2554271393, 2190996881, 3885079237, 4032440655, 120812686, 3160313209, 1324375576, 3195152850, 2398331977, 3296593878, 1252278587, 1733003305, 2137833836, 2829891968, 1541385435, 4288381964, 1322320370]\n"
     ]
    }
   ],
   "source": [
    "digest = H(Q3a_M.encode(), Q3a_H, Q3a_K, Q3a_S)\n",
    "print(digest,)"
   ]
  },
  {
   "cell_type": "code",
   "execution_count": 239,
   "id": "funky-series",
   "metadata": {},
   "outputs": [
    {
     "data": {
      "text/plain": [
       "'9daa416bfe8241565468cf90dc043b37990ee22acd68569851aa7e9b7dcea627'"
      ]
     },
     "execution_count": 239,
     "metadata": {},
     "output_type": "execute_result"
    }
   ],
   "source": [
    "Q3a_d = binascii.hexlify(bytes(digest)).decode()\n",
    "Q3a_d"
   ]
  },
  {
   "cell_type": "code",
   "execution_count": 293,
   "id": "illegal-studio",
   "metadata": {},
   "outputs": [
    {
     "data": {
      "text/plain": [
       "[157,\n",
       " 170,\n",
       " 65,\n",
       " 107,\n",
       " 254,\n",
       " 130,\n",
       " 65,\n",
       " 86,\n",
       " 84,\n",
       " 104,\n",
       " 207,\n",
       " 144,\n",
       " 220,\n",
       " 4,\n",
       " 59,\n",
       " 55,\n",
       " 153,\n",
       " 14,\n",
       " 226,\n",
       " 42,\n",
       " 205,\n",
       " 104,\n",
       " 86,\n",
       " 152,\n",
       " 81,\n",
       " 170,\n",
       " 126,\n",
       " 155,\n",
       " 125,\n",
       " 206,\n",
       " 166,\n",
       " 39]"
      ]
     },
     "execution_count": 293,
     "metadata": {},
     "output_type": "execute_result"
    }
   ],
   "source": [
    "digest"
   ]
  },
  {
   "cell_type": "code",
   "execution_count": 243,
   "id": "detailed-intelligence",
   "metadata": {},
   "outputs": [
    {
     "name": "stdout",
     "output_type": "stream",
     "text": [
      "M: b'Encoded with random keys\\x80\\x00\\x00\\x00\\x00\\x00\\x00\\x00\\x00\\x00\\x00\\x00\\x00\\x00\\x00\\x00\\x00\\x00\\x00\\x00\\x00\\x00\\x00\\x00\\x00\\x00\\x00\\x00\\x00\\x00\\x00\\x00\\x00\\x00\\x00\\x00\\x00\\x00\\x00\\xc0'\n",
      "W: [1164862319, 1684366368, 2003399784, 544366958, 1685024032, 1801812339, 2147483648, 0, 0, 0, 0, 0, 0, 0, 0, 192, 1522197188, 3891742175, 3836386829, 32341671, 928288908, 2364323079, 1515866404, 649785226, 1435989715, 250124094, 1469326411, 2429553944, 598071608, 1634056085, 4271828083, 4262132921, 2272436470, 39791740, 2337714294, 3555435891, 1519859327, 57013755, 2177157937, 1679613557, 2900649386, 612096658, 172526146, 2214036567, 3330460486, 1490972443, 1925782519, 4215628757, 2379791427, 2058888203, 1834962275, 3917548225, 2375084030, 1546202149, 3188006334, 4280719833, 726047027, 3650106516, 4058756591, 1443098026, 1972312730, 1218108430, 3428722156, 366022263]\n",
      "[151, 26, 88, 10, 144, 240, 17, 167, 107, 126, 133, 20, 207, 23, 153, 249, 53, 200, 15, 35, 133, 51, 192, 102, 171, 246, 100, 178, 94, 204, 190, 21]\n",
      "971a580a90f011a76b7e8514cf1799f935c80f238533c066abf664b25eccbe15\n"
     ]
    }
   ],
   "source": [
    "test_msg = 'Encoded with random keys'\n",
    "tdigest = H(test_msg.encode(), Q3a_H, Q3a_K, Q3a_S)\n",
    "print(tdigest,)\n",
    "print(binascii.hexlify(bytes(tdigest)).decode())"
   ]
  },
  {
   "cell_type": "code",
   "execution_count": 121,
   "id": "superb-folder",
   "metadata": {},
   "outputs": [
    {
     "data": {
      "text/plain": [
       "b'Encoded with random keys\\x80\\x00\\x00\\x00\\x00\\x00\\x00\\x00\\x00\\x00\\x00\\x00\\x00\\x00\\x00\\x00\\x00\\x00\\x00\\x00\\x00\\x00\\x00\\x00\\x00\\x00\\x00\\x00\\x00\\x00\\x00\\x00\\x00\\x00\\x00\\x00\\x00\\x00\\x00\\xc0'"
      ]
     },
     "execution_count": 121,
     "metadata": {},
     "output_type": "execute_result"
    }
   ],
   "source": [
    "m = Q3a_M.encode()\n",
    "m = 'Encoded with random keys'.encode()\n",
    "m_numberofbytes = len(m)\n",
    "l = (-m_numberofbytes-9)%64\n",
    "m = bytes(m) + b'\\x80'  + b'\\x00' *l + pack(64,8*m_numberofbytes)\n",
    "m"
   ]
  },
  {
   "cell_type": "markdown",
   "id": "forced-surgery",
   "metadata": {},
   "source": [
    "## Key recovery"
   ]
  },
  {
   "cell_type": "markdown",
   "id": "imported-organic",
   "metadata": {},
   "source": [
    "### Invert Compression"
   ]
  },
  {
   "cell_type": "markdown",
   "id": "tender-illustration",
   "metadata": {},
   "source": [
    "our notation <=> ctf notation\n",
    "tmp0 = tmp2\n",
    "tmp4 = tmp3 \n",
    "t1 = ch \n",
    "t2 = tmp1 \n",
    "t3 = maj"
   ]
  },
  {
   "cell_type": "markdown",
   "id": "industrial-sponsorship",
   "metadata": {},
   "source": [
    "The compression step goes as follows:\n",
    "\n",
    "```\n",
    "y = x\n",
    "[computation]\n",
    "return  (tmp_0, y_0, y_1, y_2, tmp_4, y_4, y_5, y_6)\n",
    "```\n",
    "\n",
    "So we need to recover $y_3$ and $y_7$.\n",
    "\n",
    "We know that :\n",
    "$tmp_0 = (s_0+t_2+t_3)\\ mod\\ 2^{32}\n",
    "\\\\tmp_4 = (y_3+t_2)\\ mod\\ 2^{32}$\n",
    "\n",
    "So we can find $y_3$: \n",
    "$t_2 = (tmp_0 - (s_0 + t_3))\\ mod\\ 2^{32}\n",
    "\\\\y_3 = (tmp_4-tmp_0)\\ mod\\ 2^{32}$\n",
    "\n",
    "And finally $y_7$:\n",
    "$t_2 = (s_1 + t_1 + y_7 + k_i + w_i)\\ mod\\ 2^{32}\n",
    "\\\\t_2 = (tmp_0 - (s_0 + t_3)) \\ mod\\ 2^{32}\n",
    "\\\\y_7 = (t_2 - (k_i + s_1 + t_1 + w_i))\\ mod\\ 2^{32} $"
   ]
  },
  {
   "cell_type": "markdown",
   "id": "dense-romance",
   "metadata": {},
   "source": [
    "All of these values are based on parameters we know, expect for recovering $y_7$ which requires us to know $k_i$ (which is fine for the upper rounds but an issue for the first 8 $k_i$ values which we are trying to uncover). "
   ]
  },
  {
   "cell_type": "markdown",
   "id": "sought-impact",
   "metadata": {},
   "source": [
    "Let's first invert the upper rounds:"
   ]
  },
  {
   "cell_type": "code",
   "execution_count": 372,
   "id": "limited-greece",
   "metadata": {
    "code_folding": []
   },
   "outputs": [],
   "source": [
    "def invert_compression_step(y,wi,ki,S):\n",
    "    tmp0,y0,y1,y2,tmp4,y4,y5,y6 = y\n",
    "    \n",
    "    t3 = (y0 & y1 ^ y0 & y2 ^ y1 & y2)%2**32\n",
    "    \n",
    "    s0=0\n",
    "    for j in range(0,3):\n",
    "        # we make all our ops modulo 2^32 as y elements are expected to be\n",
    "        s0 = (s0 ^ ((y0>>(S[0][j])) | (y0<<(32-S[0][j]))))%2**32\n",
    "    s1=0\n",
    "    for j in range(0,3):\n",
    "        s1 = (s1 ^ ((y4>>(S[1][j])) | (y4<<(32-S[1][j]))))%2**32\n",
    "        \n",
    "    t2 = (tmp0 - (s0 + t3))%2**32\n",
    "    \n",
    "    y3 = (tmp4 - t2) %2**32\n",
    "    \n",
    "    t1 = (y4 & y5 ^ (~y4) & y6)%2**32\n",
    "    \n",
    "    y7 = (t2 - (ki + s1 + t1 + wi))%2**32\n",
    "           \n",
    "    og_y = y0, y1, y2, y3, y4, y5, y6, y7\n",
    "    \n",
    "    #print(og_y)\n",
    "          \n",
    "    return og_y"
   ]
  },
  {
   "cell_type": "markdown",
   "id": "regulation-murray",
   "metadata": {},
   "source": [
    "### Recover keys "
   ]
  },
  {
   "cell_type": "code",
   "execution_count": 412,
   "id": "swiss-negative",
   "metadata": {},
   "outputs": [],
   "source": [
    "def recover_keys(digest, t, K2, H, S):\n",
    "    chunksofdigest = list(chunks(digest,8))\n",
    "    digest_as_int_array = [int.from_bytes(binascii.unhexlify(d), \"big\") for d in chunksofdigest]\n",
    "    print(digest_as_int_array)\n",
    "    \n",
    "    raw_state = [(d - y)  %2**32 for d, y in zip(digest_as_int_array, H)]\n",
    "    \n",
    "    # Padding\n",
    "    t_numberofbytes = len(t)\n",
    "    l = (-t_numberofbytes-9)%64\n",
    "    t = bytes(t) + b'\\x80'  + b'\\x00' *l + pack(64,8*t_numberofbytes)\n",
    "    w = extend(t)\n",
    "    \n",
    "    secret_keys = 8\n",
    "    keys = []\n",
    "    state = raw_state\n",
    "    original_keys = K2\n",
    "    for i in range(1, 65 - secret_keys):\n",
    "        state = invert_compression_step(state, w[-i], original_keys[-i], S)\n",
    "\n",
    "    print(state)\n",
    "    f_state = state\n",
    "    for i in range(7, -1, -1):\n",
    "        for j in range(i + 1):\n",
    "            state = invert_compression_step(state, 0, w[i - j], S)\n",
    "        real_key = state[7 - i] - H[7 - i]\n",
    "        keys.append(real_key & 0xffffffff)\n",
    "\n",
    "        state = f_state\n",
    "        for idx, k in enumerate(keys):\n",
    "            state = invert_compression_step(state, k, w[7 - idx], S)\n",
    "    return keys[::-1]"
   ]
  },
  {
   "cell_type": "code",
   "execution_count": 413,
   "id": "provincial-jefferson",
   "metadata": {
    "scrolled": true
   },
   "outputs": [
    {
     "name": "stdout",
     "output_type": "stream",
     "text": [
      "[944486987, 498959360, 483087737, 486324140, 1302984438, 1903431719, 1367540117, 3821690790]\n",
      "(3996966641, 305766026, 1972540380, 2017243241, 3885947749, 2692629861, 984687947, 851447517)\n"
     ]
    }
   ],
   "source": [
    "secret = recover_keys(Q3b_d.encode(),unxxd(Q3b_t),Q3b_K2, Q3b_H,Q3b_S)"
   ]
  },
  {
   "cell_type": "code",
   "execution_count": 414,
   "id": "advance-newsletter",
   "metadata": {},
   "outputs": [
    {
     "data": {
      "text/plain": [
       "[2593449878,\n",
       " 957238634,\n",
       " 3764295242,\n",
       " 3223161263,\n",
       " 435540614,\n",
       " 603796397,\n",
       " 2724912648,\n",
       " 884172017]"
      ]
     },
     "execution_count": 414,
     "metadata": {},
     "output_type": "execute_result"
    }
   ],
   "source": [
    "secret"
   ]
  },
  {
   "cell_type": "code",
   "execution_count": 415,
   "id": "private-peoples",
   "metadata": {},
   "outputs": [],
   "source": [
    "Q3b_t=\"011e9faabb4e5381\"\n",
    "Q3b_d=\"384bba4b1dbd84001ccb55791cfcb7ac4da9f6f67174102751830195e3ca5fa6\"\n",
    "Q3b_H=[1410008662, 3165996059, 4265820587, 3228924364, 2876772144, 502571215, 1296440626, 3528054622]\n",
    "Q3b_K2=[1660732939, 2978614430, 479083038, 4039110515, 503760146, 2160178725, 3371169074, 3023444970, 1832019271, 1110792947, 4275626369, 1675250051, 2784406696, 4257265674, 517985909, 3086983861, 3409296999, 1504386796, 374146206, 4055850561, 2556892257, 2255194630, 2066495719, 259846162, 593904479, 2868322264, 3146981800, 3913516318, 625630895, 1491933359, 1856807117, 3795630429, 3035508049, 3725788811, 2587675021, 4081590610, 1694559383, 2421525974, 2954023209, 3274021365, 556994319, 3840950079, 2748231069, 4293925912, 1934082025, 683379336, 3605902893, 3811110963, 3312404527, 562459431, 3079990482, 4161695928, 1789332738, 3133889965, 94188891, 1773848693]\n",
    "Q3b_S=[[8, 1, 2], [9, 5, 13]]"
   ]
  },
  {
   "cell_type": "code",
   "execution_count": 416,
   "id": "swedish-inquiry",
   "metadata": {},
   "outputs": [
    {
     "data": {
      "text/plain": [
       "64"
      ]
     },
     "execution_count": 416,
     "metadata": {},
     "output_type": "execute_result"
    }
   ],
   "source": [
    "AllKeys = secret + Q3b_K2\n",
    "len(AllKeys)"
   ]
  },
  {
   "cell_type": "code",
   "execution_count": 417,
   "id": "finite-anderson",
   "metadata": {},
   "outputs": [
    {
     "name": "stdout",
     "output_type": "stream",
     "text": [
      "[56, 75, 186, 75, 29, 189, 132, 0, 28, 203, 85, 121, 28, 252, 183, 172, 77, 169, 246, 246, 113, 116, 16, 39, 81, 131, 1, 149, 227, 202, 95, 166]\n"
     ]
    }
   ],
   "source": [
    "recoverdigest = H(unxxd(Q3b_t), Q3b_H, AllKeys, Q3b_S)\n",
    "print(recoverdigest,)"
   ]
  },
  {
   "cell_type": "code",
   "execution_count": 418,
   "id": "published-mixture",
   "metadata": {},
   "outputs": [
    {
     "data": {
      "text/plain": [
       "'384bba4b1dbd84001ccb55791cfcb7ac4da9f6f67174102751830195e3ca5fa6'"
      ]
     },
     "execution_count": 418,
     "metadata": {},
     "output_type": "execute_result"
    }
   ],
   "source": [
    "shouldbed = binascii.hexlify(bytes(recoverdigest)).decode()\n",
    "shouldbed"
   ]
  },
  {
   "cell_type": "code",
   "execution_count": 388,
   "id": "impaired-martial",
   "metadata": {},
   "outputs": [],
   "source": [
    "assert(shouldbed == Q3b_d)"
   ]
  },
  {
   "cell_type": "code",
   "execution_count": null,
   "id": "mineral-border",
   "metadata": {},
   "outputs": [],
   "source": []
  }
 ],
 "metadata": {
  "kernelspec": {
   "display_name": "Python 3",
   "language": "python",
   "name": "python3"
  },
  "language_info": {
   "codemirror_mode": {
    "name": "ipython",
    "version": 3
   },
   "file_extension": ".py",
   "mimetype": "text/x-python",
   "name": "python",
   "nbconvert_exporter": "python",
   "pygments_lexer": "ipython3",
   "version": "3.7.10"
  },
  "toc": {
   "base_numbering": 1,
   "nav_menu": {},
   "number_sections": true,
   "sideBar": true,
   "skip_h1_title": false,
   "title_cell": "Table of Contents",
   "title_sidebar": "Contents",
   "toc_cell": false,
   "toc_position": {},
   "toc_section_display": true,
   "toc_window_display": false
  }
 },
 "nbformat": 4,
 "nbformat_minor": 5
}
