{
 "cells": [
  {
   "cell_type": "markdown",
   "metadata": {},
   "source": [
    "# Exercice 1"
   ]
  },
  {
   "cell_type": "code",
   "execution_count": 1,
   "metadata": {},
   "outputs": [],
   "source": [
    "import string\n",
    "import base64"
   ]
  },
  {
   "cell_type": "code",
   "execution_count": 9,
   "metadata": {},
   "outputs": [],
   "source": [
    "# alphabet size for the exercice\n",
    "N = 95"
   ]
  },
  {
   "cell_type": "markdown",
   "metadata": {},
   "source": [
    "## Indexation function"
   ]
  },
  {
   "cell_type": "code",
   "execution_count": 10,
   "metadata": {},
   "outputs": [],
   "source": [
    "# A = ’abcdefghijklmnopqrstuvwxyz’\n",
    "# A += ’ABCDEFGHIJKLMNOPQRSTUVWXYZ0123456789’\n",
    "# A += ’!\"#$%&\\’()*+,-./:;<=>?@[\\\\]^_‘{|}~’\n",
    "# A += ’ \\t\\n\\r\\v\\f’\n",
    "A = string.printable\n",
    "f = lambda c: A.index(c) # indexation function\n",
    "g = lambda n: A[n] # reverse indexation\n",
    "assert [g(n) for n in [f(c) for c in A]] == list(A)"
   ]
  },
  {
   "cell_type": "markdown",
   "metadata": {},
   "source": [
    "## Affine cipher encryption algorithm"
   ]
  },
  {
   "cell_type": "code",
   "execution_count": 11,
   "metadata": {},
   "outputs": [],
   "source": [
    "def affine_cipher_enc_char(c, K):\n",
    "    x=f(c)\n",
    "    y= Mod(K[0]*x+K[1],N)\n",
    "    c=g(y)\n",
    "    return c"
   ]
  },
  {
   "cell_type": "code",
   "execution_count": 16,
   "metadata": {},
   "outputs": [],
   "source": [
    "def affine_cipher_enc_string(m, K):\n",
    "    c=\"\"\n",
    "    for ch in m:\n",
    "        c+=affine_cipher_enc_char(ch, K)\n",
    "    return c"
   ]
  },
  {
   "cell_type": "code",
   "execution_count": 39,
   "metadata": {},
   "outputs": [],
   "source": [
    "'''\n",
    "Takes base64 encoded string and returns base64 encoded string\n",
    "'''\n",
    "def affine_cipher_enc_b64(b, K):\n",
    "    m=base64.b64decode(b).decode()\n",
    "    c=affine_cipher_enc_string(m, K)\n",
    "    c=base64.b64encode(c.encode()).decode()\n",
    "    return c"
   ]
  },
  {
   "cell_type": "markdown",
   "metadata": {},
   "source": [
    "### Question 1"
   ]
  },
  {
   "cell_type": "code",
   "execution_count": 40,
   "metadata": {},
   "outputs": [],
   "source": [
    "Q1a_M_tom=\"SSBhbSBhIHJlbGljIHRoZXkgd2FudCB0byBnZXQgcmlkIG9mLCBzbyB3aHkgZG8gSSBleGlzdCBhbmQgbGl2ZT8gSW4gb3JkZXIgdG8gZXhpc3QgeW91IG5lZWQgYSBwdXJwb3NlLCB0byBleGlzdCBmb3Igbm8gcmVhc29uIGlzIHRoZSBzYW1lIGFzIGJlaW5nIGRlYWQuLi4gSSB3b3VsZCBsb3ZlIG9ubHkgbXlzZWxmIGFuZCBmaWdodCBmb3Igb25seSBteXNlbGYuIElmIGFsbCBvdGhlciBwZW9wbGUgZXhpc3QgdG8gbWFnbmlmeSB0aGF0IGxvdmUsIHRoZW4gdGhlcmUgaXMgbm8gbW9yZSBhIHNwbGVuZGlkIHVuaXZlcnNlIHRoYW4gdGhpcyBvbmUuLi4gKEdhYXJhLCBOYXJ1dG8p\"\n",
    "Q1a_K_tom=(51, 42)"
   ]
  },
  {
   "cell_type": "code",
   "execution_count": 41,
   "metadata": {
    "scrolled": true
   },
   "outputs": [
    {
     "name": "stdout",
     "output_type": "stream",
     "text": [
      "I am a relic they want to get rid of, so why do I exist and live? In order to exist you need a purpose, to exist for no reason is the same as being dead... I would love only myself and fight for only myself. If all other people exist to magnify that love, then there is no more a splendid universe than this one... (Gaara, Naruto)\n",
      "6]:o]:]`|'a[]1S|%]X:.1]1v]3|1]`aE]vLY]Jv]XS%]Ev]6]|faJ1]:.E]'a8|I]6.]v`E|`]1v]|faJ1]%vQ].||E]:]?Q`?vJ|Y]1v]|faJ1]Lv`].v]`|:Jv.]aJ]1S|]J:o|]:J]x|a.3]E|:E&&&]6]XvQ'E]'v8|]v.'%]o%J|'L]:.E]La3S1]Lv`]v.'%]o%J|'L&]6L]:'']v1S|`]?|v?'|]|faJ1]1v]o:3.aL%]1S:1]'v8|Y]1S|.]1S|`|]aJ].v]ov`|]:]J?'|.EaE]Q.a8|`J|]1S:.]1SaJ]v.|&&&]K ::`:Y]*:`Q1v2\n"
     ]
    },
    {
     "data": {
      "text/plain": [
       "'Nl06b106XWB8J2FbXTFTfCVdWDouMV0xdl0zfDFdYGFFXXZMWV1Kdl1YUyVdRXZdNl18ZmFKMV06LkVdJ2E4fEldNi5ddmBFfGBdMXZdfGZhSjFdJXZRXS58fEVdOl0/UWA/dkp8WV0xdl18ZmFKMV1MdmBdLnZdYHw6SnYuXWFKXTFTfF1KOm98XTpKXXh8YS4zXUV8OkUmJiZdNl1YdlEnRV0ndjh8XXYuJyVdbyVKfCdMXTouRV1MYTNTMV1MdmBddi4nJV1vJUp8J0wmXTZMXTonJ112MVN8YF0/fHY/J3xdfGZhSjFdMXZdbzozLmFMJV0xUzoxXSd2OHxZXTFTfC5dMVN8YHxdYUpdLnZdb3ZgfF06XUo/J3wuRWFFXVEuYTh8YEp8XTFTOi5dMVNhSl12LnwmJiZdSyA6OmA6WV0qOmBRMXYy'"
      ]
     },
     "execution_count": 41,
     "metadata": {},
     "output_type": "execute_result"
    }
   ],
   "source": [
    "affine_cipher_enc_b64(Q1a_M_tom, Q1a_K_tom)"
   ]
  },
  {
   "cell_type": "code",
   "execution_count": null,
   "metadata": {},
   "outputs": [],
   "source": []
  },
  {
   "cell_type": "markdown",
   "metadata": {},
   "source": [
    "### Question 2"
   ]
  },
  {
   "cell_type": "code",
   "execution_count": 8,
   "metadata": {},
   "outputs": [],
   "source": [
    "Q1b_C_tom=\"WFRkJ3A6LGRnbFRULFRFZCdjLGRZbHhkN3AjI2RMMzosZDdjLHtkLCAsR3gnY3B7DGQ3cCMjZF1sWSxkJzNkOiw6M0dwLFQlZCs+J0VkJ2MzVCxkOnBHbEw+IzM+VGRZbHhURWQ3Yyx7ZHgzPmRse1lkImRsIzN7DGQ3cCdjZCwgLEd4M3ssZCwjVCxFZFQsbEdMYyxZZCczDCwnYyxHZF0zR2RDPlQnZDN7LGQnY3B7DCUlJWQ3cCMjZEwzeydwez4sZEcsIDMjIHB7DGRdM0csICxHJWR+MzosN2MsRyxkWSwsZ2Rwe2Q6eGRjLGxHJ2RsVGQ6eGR5cCcnLEdUNywsJ2Q6LDozR3glZF8qPj4nbGQ2bFAsOjMnM0VkTzN7LHhkbHtZZFwjMyAsRzE=\"\n",
    "Q1b_K_tom=(13, 91)"
   ]
  },
  {
   "cell_type": "code",
   "execution_count": null,
   "metadata": {},
   "outputs": [],
   "source": []
  }
 ],
 "metadata": {
  "interpreter": {
   "hash": "b0fa6594d8f4cbf19f97940f81e996739fb7646882a419484c72d19e05852a7e"
  },
  "kernelspec": {
   "display_name": "SageMath 9.4",
   "language": "sage",
   "name": "sagemath-9.4"
  },
  "language_info": {
   "codemirror_mode": {
    "name": "ipython",
    "version": 3
   },
   "file_extension": ".py",
   "mimetype": "text/x-python",
   "name": "python",
   "nbconvert_exporter": "python",
   "pygments_lexer": "ipython3",
   "version": "3.9.5"
  }
 },
 "nbformat": 4,
 "nbformat_minor": 4
}
