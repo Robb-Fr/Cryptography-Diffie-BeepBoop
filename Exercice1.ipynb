{
 "cells": [
  {
   "cell_type": "markdown",
   "metadata": {},
   "source": [
    "# Exercice 1"
   ]
  },
  {
   "cell_type": "code",
   "execution_count": 391,
   "metadata": {},
   "outputs": [],
   "source": [
    "import string\n",
    "import base64"
   ]
  },
  {
   "cell_type": "code",
   "execution_count": 392,
   "metadata": {},
   "outputs": [],
   "source": [
    "# alphabet size for the exercice\n",
    "N = 100 #https://moodle.epfl.ch/mod/forum/discuss.php?d=65675#p131727"
   ]
  },
  {
   "cell_type": "markdown",
   "metadata": {},
   "source": [
    "### Indexation function"
   ]
  },
  {
   "cell_type": "code",
   "execution_count": 393,
   "metadata": {},
   "outputs": [],
   "source": [
    "# A = ’abcdefghijklmnopqrstuvwxyz’\n",
    "# A += ’ABCDEFGHIJKLMNOPQRSTUVWXYZ0123456789’\n",
    "# A += ’!\"#$%&\\’()*+,-./:;<=>?@[\\\\]^_‘{|}~’\n",
    "# A += ’ \\t\\n\\r\\v\\f’\n",
    "A = string.printable\n",
    "f = lambda c: A.index(c) # indexation function\n",
    "g = lambda n: A[n] # reverse indexation\n",
    "assert [g(n) for n in [f(c) for c in A]] == list(A)\n",
    "assert len(A) == 100"
   ]
  },
  {
   "cell_type": "markdown",
   "metadata": {},
   "source": [
    "## Question 1"
   ]
  },
  {
   "cell_type": "markdown",
   "metadata": {},
   "source": [
    "### Affine cipher encryption algorithm"
   ]
  },
  {
   "cell_type": "code",
   "execution_count": 394,
   "metadata": {},
   "outputs": [],
   "source": [
    "def affine_cipher_enc_char(c, K):\n",
    "    x=f(c)\n",
    "    y= Mod(K[0]*x+K[1],N)\n",
    "    c=g(y)\n",
    "    return c"
   ]
  },
  {
   "cell_type": "code",
   "execution_count": 395,
   "metadata": {},
   "outputs": [],
   "source": [
    "def affine_cipher_enc_string(m, K):\n",
    "    c=\"\"\n",
    "    for ch in m:\n",
    "        c+=affine_cipher_enc_char(ch, K)\n",
    "    return c"
   ]
  },
  {
   "cell_type": "code",
   "execution_count": 396,
   "metadata": {},
   "outputs": [],
   "source": [
    "'''\n",
    "Takes base64 encoded string and returns base64 encoded string\n",
    "'''\n",
    "def affine_cipher_enc_b64(b, K):\n",
    "    m=base64.b64decode(b).decode()\n",
    "    c=affine_cipher_enc_string(m, K)\n",
    "    c=base64.b64encode(c.encode()).decode()\n",
    "    return c"
   ]
  },
  {
   "cell_type": "code",
   "execution_count": 397,
   "metadata": {},
   "outputs": [],
   "source": [
    "'''\n",
    "Takes base64 encoded string and returns base64 encoded string\n",
    "'''\n",
    "def affine_cipher_enc_b64_tostring(b, K):\n",
    "    m=base64.b64decode(b).decode()\n",
    "    c=affine_cipher_enc_string(m, K)\n",
    "    return c"
   ]
  },
  {
   "cell_type": "markdown",
   "metadata": {},
   "source": [
    "### Q1a_M, Q1a_K"
   ]
  },
  {
   "cell_type": "code",
   "execution_count": 398,
   "metadata": {},
   "outputs": [],
   "source": [
    "Q1a_M_tom=\"SSBhbSBhIHJlbGljIHRoZXkgd2FudCB0byBnZXQgcmlkIG9mLCBzbyB3aHkgZG8gSSBleGlzdCBhbmQgbGl2ZT8gSW4gb3JkZXIgdG8gZXhpc3QgeW91IG5lZWQgYSBwdXJwb3NlLCB0byBleGlzdCBmb3Igbm8gcmVhc29uIGlzIHRoZSBzYW1lIGFzIGJlaW5nIGRlYWQuLi4gSSB3b3VsZCBsb3ZlIG9ubHkgbXlzZWxmIGFuZCBmaWdodCBmb3Igb25seSBteXNlbGYuIElmIGFsbCBvdGhlciBwZW9wbGUgZXhpc3QgdG8gbWFnbmlmeSB0aGF0IGxvdmUsIHRoZW4gdGhlcmUgaXMgbm8gbW9yZSBhIHNwbGVuZGlkIHVuaXZlcnNlIHRoYW4gdGhpcyBvbmUuLi4gKEdhYXJhLCBOYXJ1dG8p\"\n",
    "Q1a_K_tom=(51, 42)"
   ]
  },
  {
   "cell_type": "code",
   "execution_count": 399,
   "metadata": {},
   "outputs": [],
   "source": [
    "Q1a_M_manon=\"SSBoYXRlIG5pY2UgZ2lybHMuIEp1c3QgZXhjaGFuZ2luZyBncmVldGluZ3Mgd2l0aCB0aGVtIHdpbGwgZ2V0IHRoZW0gb24geW91ciBtaW5kLiBTdGFydCB0ZXh0aW5nIGVhY2ggb3RoZXIsIGFuZCB5b3VyIGhlYXJ0IHdpbGwgYmUgc2V0IGEgZmx1dHRlci4gSWYgdGhleSBjYWxsIHlvdSwgeW91J3JlIGRvbmUgZm9yLiBFbmpveSBzdGFyaW5nIGF0IHlvdXIgbG9ncyBhbmQgZ3Jpbm5pbmcgbGlrZSBhIGZvb2wuIEhvd2V2ZXIsIEkgd29uJ3QgZ2V0IGZvb2xlZCBhZ2Fpbi4gVGhhdCdzIHdoYXQgeW91ciBraW5kIGNhbGxzIGtpbmRuZXNzLiBJZiB5b3UncmUgbmljZSB0byBtZSwgeW91J3JlIG5pY2UgdG8gb3RoZXJzLiBJIGFsd2F5cyBlbmQgdXAgbmVhcmx5IGZvcmdldHRpbmcgdGhhdC4gUmVhbGl0eSBpcyBjcnVlbCwgc28gSSdtIHN1cmUgbGllcyBhcmUgYSBmb3JtIG9mIGtpbmRuZXNzLiBUaHVzLCBJIHNheSBraW5kbmVzcyBpdHNlbGYgaXMgYWxzbyBhIGxpZS4gSSBhbHdheXMgZW5kZWQgdXAgd2l0aCB0aGVzZSBleHBlY3RhdGlvbnMuIEFuZCBJIGFsd2F5cyBlbmRlZCB1cCB3aXRoIHRoZXNlIG1pc3VuZGVyc3RhbmRpbmdzLiBBbmQgYmVmb3JlIEkga25ldyBpdCwgSSBzdG9wcGVkIGhvcGluZy4gQSBoaWdobHkgdHJhaW5lZCBsb25lciBpcyBvbmNlIGJpdHRlbiwgdHdpY2Ugc2h5LiBBcyBhIHZldGVyYW4gb24gdGhpcyBiYXR0bGVmaWVsZCBvZiBsaWZlLCBJJ3ZlIGdvdHRlbiB1c2VkIHRvIGxvc2luZy4gVGhhdCdzIHdoeSBJIGFsd2F5cyBoYXRlIG5pY2UgZ2lybHMuIChIYWNoaW1hbiBIaWtpZ2F5YSwgWWFoYXJpIE9yZSBObyBTZWlzaHVuIExvdmUgQ29tZSBXYSBNYWNoaWdhdHRlaXJ1KQ==\"\n",
    "Q1a_K_manon=(49, 89)"
   ]
  },
  {
   "cell_type": "markdown",
   "metadata": {},
   "source": [
    "### Q1a_C"
   ]
  },
  {
   "cell_type": "code",
   "execution_count": 400,
   "metadata": {
    "scrolled": false
   },
   "outputs": [
    {
     "data": {
      "text/plain": [
       "'XUFRI0FRQWpVZFlTQWw5VS9BLVFmbEFsJUFXVWxBalk1QSU3JEEpJUEtOS9BNSVBXUFVcFkpbEFRZjVBZFluVW9BXWZBJWo1VWpBbCVBVXBZKWxBLyUrQWZVVTVBUUFoK2poJSlVJEFsJUFVcFkpbEE3JWpBZiVBalVRKSVmQVkpQWw5VUEpUSNVQVEpQTNVWWZXQTVVUTUmJiZBXUEtJStkNUFkJW5VQSVmZC9BIy8pVWQ3QVFmNUE3WVc5bEE3JWpBJWZkL0EjLylVZDcmQV03QVFkZEElbDlVakFoVSVoZFVBVXBZKWxBbCVBI1FXZlk3L0FsOVFsQWQlblUkQWw5VWZBbDlValVBWSlBZiVBIyVqVUFRQSloZFVmNVk1QStmWW5VailVQWw5UWZBbDlZKUElZlUmJiZBWltRUWpRJEFGUWorbCVj'"
      ]
     },
     "execution_count": 400,
     "metadata": {},
     "output_type": "execute_result"
    }
   ],
   "source": [
    "affine_cipher_enc_b64(Q1a_M_tom, Q1a_K_tom)"
   ]
  },
  {
   "cell_type": "code",
   "execution_count": 401,
   "metadata": {
    "scrolled": true
   },
   "outputs": [
    {
     "data": {
      "text/plain": [
       "'SgltPGEuCWcqOi4JLCpjaVojCSBYWmEJLjY6bTxnLCpnLAksYy4uYSpnLFoJViphbQlhbS4mCVYqaWkJLC5hCWFtLiYJJGcJVCRYYwkmKmdxIwl6YTxjYQlhLjZhKmcsCS48Om0JJGFtLmMlCTxncQlUJFhjCW0uPGNhCVYqaWkJcy4JWi5hCTwJb2lYYWEuYyMJSm8JYW0uVAk6PGlpCVQkWCUJVCRYbGMuCXEkZy4JbyRjIwlOZ2skVAlaYTxjKmcsCTxhCVQkWGMJaSQsWgk8Z3EJLGMqZ2cqZywJaSooLgk8CW8kJGkjCQokVi44LmMlCUoJViRnbGEJLC5hCW8kJGkucQk8LDwqZyMJW208YWxaCVZtPGEJVCRYYwkoKmdxCTo8aWlaCSgqZ3FnLlpaIwlKbwlUJFhsYy4JZyo6LglhJAkmLiUJVCRYbGMuCWcqOi4JYSQJJGFtLmNaIwlKCTxpVjxUWgkuZ3EJWGUJZy48Y2lUCW8kYywuYWEqZywJYW08YSMJXS48aSphVAkqWgk6Y1guaSUJWiQJSmwmCVpYYy4JaSouWgk8Yy4JPAlvJGMmCSRvCSgqZ3FnLlpaIwlbbVhaJQlKCVo8VAkoKmdxZy5aWgkqYVouaW8JKloJPGlaJAk8CWkqLiMJSgk8aVY8VFoJLmdxLnEJWGUJViphbQlhbS5aLgkuNmUuOmE8YSokZ1ojCVJncQlKCTxpVjxUWgkuZ3EucQlYZQlWKmFtCWFtLlouCSYqWlhncS5jWmE8Z3EqZyxaIwlSZ3EJcy5vJGMuCUoJKGcuVgkqYSUJSglaYSRlZS5xCW0kZSpnLCMJUgltKixtaVQJYWM8KmcucQlpJGcuYwkqWgkkZzouCXMqYWEuZyUJYVYqOi4JWm1UIwlSWgk8CTguYS5jPGcJJGcJYW0qWglzPGFhaS5vKi5pcQkkbwlpKm8uJQlKbDguCSwkYWEuZwlYWi5xCWEkCWkkWipnLCMJW208YWxaCVZtVAlKCTxpVjxUWgltPGEuCWcqOi4JLCpjaVojCSkKPDptKiY8ZwkKKigqLDxUPCUJdDxtPGMqCURjLgl7JAl6LipabVhnCX0kOC4JUCQmLgl2PAlGPDptKiw8YWEuKmNYag=='"
      ]
     },
     "execution_count": 401,
     "metadata": {},
     "output_type": "execute_result"
    }
   ],
   "source": [
    "affine_cipher_enc_b64(Q1a_M_manon, Q1a_K_manon)"
   ]
  },
  {
   "cell_type": "markdown",
   "metadata": {},
   "source": [
    "## Question 2"
   ]
  },
  {
   "cell_type": "markdown",
   "metadata": {},
   "source": [
    "### Affine cipher decryption algorithm "
   ]
  },
  {
   "cell_type": "code",
   "execution_count": 402,
   "metadata": {},
   "outputs": [],
   "source": [
    "def affine_cipher_dec_char(c, K):\n",
    "    y=f(c)\n",
    "    x= Mod(y-K[1], N)/K[0]\n",
    "    c=g(x)\n",
    "    return c"
   ]
  },
  {
   "cell_type": "code",
   "execution_count": 403,
   "metadata": {},
   "outputs": [],
   "source": [
    "def affine_cipher_dec_string(m, K):\n",
    "    c=\"\"\n",
    "    for ch in m:\n",
    "        c+=affine_cipher_dec_char(ch, K)\n",
    "    return c"
   ]
  },
  {
   "cell_type": "code",
   "execution_count": 404,
   "metadata": {},
   "outputs": [],
   "source": [
    "'''\n",
    "Takes base64 encoded string and returns base64 encoded string\n",
    "'''\n",
    "def affine_cipher_dec_b64(b, K):\n",
    "    m=base64.b64decode(b).decode()\n",
    "    c=affine_cipher_dec_string(m, K)\n",
    "    c=base64.b64encode(c.encode()).decode()\n",
    "    return c"
   ]
  },
  {
   "cell_type": "code",
   "execution_count": 405,
   "metadata": {},
   "outputs": [],
   "source": [
    "'''\n",
    "Takes base64 encoded string and returns string (plaintext)\n",
    "'''\n",
    "def affine_cipher_dec_b64_tostring(b, K):\n",
    "    m=base64.b64decode(b).decode()\n",
    "    c=affine_cipher_dec_string(m, K)\n",
    "    return c"
   ]
  },
  {
   "cell_type": "code",
   "execution_count": 406,
   "metadata": {
    "scrolled": true
   },
   "outputs": [
    {
     "data": {
      "text/plain": [
       "True"
      ]
     },
     "execution_count": 406,
     "metadata": {},
     "output_type": "execute_result"
    }
   ],
   "source": [
    "# test if function decodes correctly\n",
    "affine_cipher_dec_b64_tostring(affine_cipher_enc_b64(Q1a_M_manon, Q1a_K_manon), Q1a_K_manon)==base64.b64decode(Q1a_M_manon).decode()"
   ]
  },
  {
   "cell_type": "markdown",
   "metadata": {},
   "source": [
    "### Q1b_C, Q1b_K"
   ]
  },
  {
   "cell_type": "code",
   "execution_count": 407,
   "metadata": {},
   "outputs": [],
   "source": [
    "Q1b_C_tom=\"WFRkJ3A6LGRnbFRULFRFZCdjLGRZbHhkN3AjI2RMMzosZDdjLHtkLCAsR3gnY3B7DGQ3cCMjZF1sWSxkJzNkOiw6M0dwLFQlZCs+J0VkJ2MzVCxkOnBHbEw+IzM+VGRZbHhURWQ3Yyx7ZHgzPmRse1lkImRsIzN7DGQ3cCdjZCwgLEd4M3ssZCwjVCxFZFQsbEdMYyxZZCczDCwnYyxHZF0zR2RDPlQnZDN7LGQnY3B7DCUlJWQ3cCMjZEwzeydwez4sZEcsIDMjIHB7DGRdM0csICxHJWR+MzosN2MsRyxkWSwsZ2Rwe2Q6eGRjLGxHJ2RsVGQ6eGR5cCcnLEdUNywsJ2Q6LDozR3glZF8qPj4nbGQ2bFAsOjMnM0VkTzN7LHhkbHtZZFwjMyAsRzE=\"\n",
    "Q1b_K_tom=(13, 91)"
   ]
  },
  {
   "cell_type": "code",
   "execution_count": 408,
   "metadata": {},
   "outputs": [],
   "source": [
    "Q1b_C_manon=\"QkY0NCtaYlp3dm1yL1ovJzptCVozRlpuNW1ad0ZtbFovJ0ZadzomLzptbi9aRXYmJjplOjQ6L2xaLyc1L1ovJ0ZaM3ZXNHdaM0ZaNVdGWjptWm12M1ozNSZaT1dGJic0bFpuV0Y1L0Z3K1plbFoyRlcrWjQ1Ji9abTpYJy8sWmJtWjVtbFpuNSZGK1o6L3ImWjVtWid2bXZXWi92WmRGRi9abHZcWjVtd1pMOiYmWjFcdVxkOmw1WjVYNTpte1pTNDVcWCc6bVhaJnZPLzRsU1pNRlomRkY6bVhabHZcWjVPL0ZXWm40NSYmLFpBYi8mXAk6WnR2OnVcZDorWmEnRlpMRjQ1bW4ndjRsWnZPWjI1V1wnOloxXHVcZDpsNUo=\"\n",
    "Q1b_K_manon=(9, 15)"
   ]
  },
  {
   "cell_type": "markdown",
   "metadata": {},
   "source": [
    "### Q1b_M"
   ]
  },
  {
   "cell_type": "code",
   "execution_count": 409,
   "metadata": {
    "scrolled": false
   },
   "outputs": [
    {
     "data": {
      "text/plain": [
       "'V2VsbCwgSSBkb24ndCB0aGluayB3ZSBjYW4gZGVueSB0aGUgZGlzdGluY3QgcG9zc2liaWxpdHkgdGhhdCB0aGUgd29ybGQgd2UgYXJlIGluIG5vdyB3YXMgZnJlc2hseSBjcmVhdGVkLCBieSBIZXIsIGxhc3QgbmlnaHQhIEluIGFueSBjYXNlLCBpdCdzIGFuIGhvbm9yIHRvIG1lZXQgeW91IGFuZCBNaXNzIFN1enVtaXlhIGFnYWluLiAqbGF1Z2hpbmcgc29mdGx5KiBCZSBzZWVpbmcgeW91IGFmdGVyIGNsYXNzISAoSXRzdWtpIEtvaXp1bWksIFRoZSBNZWxhbmNob2x5IG9mIEhhcnVoaSBTdXp1bWl5YSk='"
      ]
     },
     "execution_count": 409,
     "metadata": {},
     "output_type": "execute_result"
    }
   ],
   "source": [
    "affine_cipher_dec_b64(Q1b_C_manon, Q1b_K_manon)"
   ]
  },
  {
   "cell_type": "code",
   "execution_count": 410,
   "metadata": {
    "scrolled": false
   },
   "outputs": [
    {
     "data": {
      "text/plain": [
       "'QXMgdGltZSBwYXNzZXMsIHRoZSBkYXkgd2lsbCBjb21lIHdoZW4gZXZlcnl0aGluZyB3aWxsIGZhZGUgdG8gbWVtb3JpZXMuIEJ1dCwgdGhvc2UgbWlyYWN1bG91cyBkYXlzLCB3aGVuIHlvdSBhbmQgSSBhbG9uZyB3aXRoIGV2ZXJ5b25lIGVsc2UsIHNlYXJjaGVkIHRvZ2V0aGVyIGZvciBqdXN0IG9uZSB0aGluZy4uLiB3aWxsIGNvbnRpbnVlIHJldm9sdmluZyBmb3JldmVyLiBTb21ld2hlcmUgZGVlcCBpbiBteSBoZWFydCBhcyBteSBiaXR0ZXJzd2VldCBtZW1vcnkuIChZdXV0YSBUYWtlbW90bywgSG9uZXkgYW5kIENsb3Zlcik='"
      ]
     },
     "execution_count": 410,
     "metadata": {},
     "output_type": "execute_result"
    }
   ],
   "source": [
    "affine_cipher_dec_b64(Q1b_C_tom, Q1b_K_tom)"
   ]
  },
  {
   "cell_type": "markdown",
   "metadata": {},
   "source": [
    "## Question 3"
   ]
  },
  {
   "cell_type": "markdown",
   "metadata": {},
   "source": [
    "### Key breaking"
   ]
  },
  {
   "cell_type": "code",
   "execution_count": 411,
   "metadata": {},
   "outputs": [],
   "source": [
    "'''\n",
    "Returns the top 3 most frequent characters \n",
    "(from most to least frequent) in a cipher text string encoded b64\n",
    "'''\n",
    "def top_3_char_cipher(cipher):\n",
    "    cipher=base64.b64decode(cipher.encode()).decode()\n",
    "    all_freq={}\n",
    "    for c in cipher:\n",
    "        if c in all_freq:\n",
    "            all_freq[c]+=1\n",
    "        else:\n",
    "            all_freq[c]=1\n",
    "    return sorted(all_freq, key=all_freq.__getitem__, reverse=True)[:3]"
   ]
  },
  {
   "cell_type": "code",
   "execution_count": 412,
   "metadata": {
    "scrolled": true
   },
   "outputs": [
    {
     "data": {
      "text/plain": [
       "['d', 'a', 'b']"
      ]
     },
     "execution_count": 412,
     "metadata": {},
     "output_type": "execute_result"
    }
   ],
   "source": [
    "# Tests identification of the most frequent elements\n",
    "top_3_char_cipher(base64.b64encode(\"aaaaabbacdddddddddddddaa\".encode()).decode())"
   ]
  },
  {
   "cell_type": "code",
   "execution_count": 413,
   "metadata": {},
   "outputs": [],
   "source": [
    "'''\n",
    "Lists possible K=(a,b) such that Enc_K(plain_char)=cipher_char\n",
    "'''\n",
    "def list_possible_param_char_match(cipher_char, plain_char):\n",
    "    params=list()\n",
    "    for a in Zmod(N).list_of_elements_of_multiplicative_group():\n",
    "        for b in Zmod(N):\n",
    "            if affine_cipher_dec_char(cipher_char, (a,b))==plain_char:\n",
    "                params.append((a,b))\n",
    "    return params"
   ]
  },
  {
   "cell_type": "code",
   "execution_count": 414,
   "metadata": {},
   "outputs": [],
   "source": [
    "'''\n",
    "Finds K=(a,b) such that Enc_K(plain_most_freq)=cipher_most_freq\n",
    "Finds those parameters such that there's a match for every char in list\n",
    "'''\n",
    "def brut_force_key_to_match(cipher_most_freq, plain_most_freq):\n",
    "    # initially contains all possible pairs of elements\n",
    "    params=[(a,b) for a in Zmod(N).list_of_elements_of_multiplicative_group() for b in Zmod(N)]\n",
    "    for i in range(3): #for each character we want to match\n",
    "        new_possibles=list_possible_param_char_match(cipher_most_freq[i], plain_most_freq[i])\n",
    "        params=sorted(list(set(params) & set(new_possibles)))\n",
    "    return params #there shouldn't be many possibilities, take one"
   ]
  },
  {
   "cell_type": "code",
   "execution_count": 415,
   "metadata": {
    "scrolled": false
   },
   "outputs": [
    {
     "name": "stdout",
     "output_type": "stream",
     "text": [
      "[' ', 'e', 'o']\n",
      "['A', 'U', '%']\n",
      "[(1, 42), (11, 2), (21, 62), (31, 22), (41, 82), (51, 42), (61, 2), (71, 62), (81, 22), (91, 82)]\n"
     ]
    }
   ],
   "source": [
    "# test with known values of plain and cipher to find key\n",
    "text='XUFRI0FRQWpVZFlTQWw5VS9BLVFmbEFsJUFXVWxBalk1QSU3JEEpJUEtOS9BNSVBXUFVcFkpbEFRZjVBZFluVW9BXWZBJWo1VWpBbCVBVXBZKWxBLyUrQWZVVTVBUUFoK2poJSlVJEFsJUFVcFkpbEE3JWpBZiVBalVRKSVmQVkpQWw5VUEpUSNVQVEpQTNVWWZXQTVVUTUmJiZBXUEtJStkNUFkJW5VQSVmZC9BIy8pVWQ3QVFmNUE3WVc5bEE3JWpBJWZkL0EjLylVZDcmQV03QVFkZEElbDlVakFoVSVoZFVBVXBZKWxBbCVBI1FXZlk3L0FsOVFsQWQlblUkQWw5VWZBbDlValVBWSlBZiVBIyVqVUFRQSloZFVmNVk1QStmWW5VailVQWw5UWZBbDlZKUElZlUmJiZBWltRUWpRJEFGUWorbCVj'\n",
    "plain_most=top_3_char_cipher(Q1a_M_tom)\n",
    "print(plain_most)\n",
    "cipher_most=top_3_char_cipher(text)\n",
    "print(cipher_most)\n",
    "# the correct key is (51, 42) -> Q1a_K\n",
    "print(brut_force_key_to_match(cipher_most, plain_most))"
   ]
  },
  {
   "cell_type": "markdown",
   "metadata": {},
   "source": [
    "### Q1c_T, Q1c_C, Q1c_H"
   ]
  },
  {
   "cell_type": "code",
   "execution_count": 416,
   "metadata": {},
   "outputs": [],
   "source": [
    "Q1c_T_manon={' ': 0.14675767918088736, 'e': 0.09215017064846416, 'n': 0.07849829351535836}\n",
    "Q1c_C_manon=\"flxbW01KflxbW01KflxbW01KflxbWyEhIUolZEBFXAtKDWNNSmVkDEoMDXBAbEoJIltbSlQLW3BKQFZwSkVVZEBKVAsqXCEhIUo8C3NcR1xWRVZlW1xNSg0LRVQNKlVWZVtcTUpiZEVVSgtUSnFcDHFcRUBsSj1cU1xxSltUVHJkCwxKZVYqck1KC1xTXHFKYlZTXHFkCwxsSjdUDUoqVgsiRUpiZAtKVgxWZAtARUpFVWRASkZWCyJASmJkW1tsSj4NcXFcC0oKcWQMVnNcIkBKOVZGZAtWNUBWRlZKYmRbW0plXEpwVA1xSlRjY1QLXAtFbEoKXFtkXFNcSmRFbEprOVZGZAtWTUptXAsMXAtKbVRjY1ZKPg1xcVwLSiVWDFYLCzo=\"\n",
    "Q1c_H_manon=\"7fbaf93957584bf80fae8e2ca8da9ee2475da655589809abe7a9fa18417e23e7\""
   ]
  },
  {
   "cell_type": "code",
   "execution_count": null,
   "metadata": {},
   "outputs": [],
   "source": []
  }
 ],
 "metadata": {
  "interpreter": {
   "hash": "b0fa6594d8f4cbf19f97940f81e996739fb7646882a419484c72d19e05852a7e"
  },
  "kernelspec": {
   "display_name": "SageMath 9.4",
   "language": "sage",
   "name": "sagemath-9.4"
  },
  "language_info": {
   "codemirror_mode": {
    "name": "ipython",
    "version": 3
   },
   "file_extension": ".py",
   "mimetype": "text/x-python",
   "name": "python",
   "nbconvert_exporter": "python",
   "pygments_lexer": "ipython3",
   "version": "3.9.5"
  }
 },
 "nbformat": 4,
 "nbformat_minor": 4
}
