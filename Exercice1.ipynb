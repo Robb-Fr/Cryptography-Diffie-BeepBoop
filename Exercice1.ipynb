{
 "cells": [
  {
   "cell_type": "markdown",
   "metadata": {},
   "source": [
    "# Exercice 1"
   ]
  },
  {
   "cell_type": "code",
   "execution_count": 49,
   "metadata": {},
   "outputs": [],
   "source": [
    "import string\n",
    "import base64"
   ]
  },
  {
   "cell_type": "code",
   "execution_count": 3,
   "metadata": {},
   "outputs": [],
   "source": [
    "# alphabet size for the exercice\n",
    "N = 95"
   ]
  },
  {
   "cell_type": "markdown",
   "metadata": {},
   "source": [
    "## Indexation function"
   ]
  },
  {
   "cell_type": "code",
   "execution_count": 4,
   "metadata": {},
   "outputs": [],
   "source": [
    "# A = ’abcdefghijklmnopqrstuvwxyz’\n",
    "# A += ’ABCDEFGHIJKLMNOPQRSTUVWXYZ0123456789’\n",
    "# A += ’!\"#$%&\\’()*+,-./:;<=>?@[\\\\]^_‘{|}~’\n",
    "# A += ’ \\t\\n\\r\\v\\f’\n",
    "A = string.printable\n",
    "f = lambda c: A.index(c) # indexation function\n",
    "g = lambda n: A[n] # reverse indexation\n",
    "assert [g(n) for n in [f(c) for c in A]] == list(A)"
   ]
  },
  {
   "cell_type": "markdown",
   "metadata": {},
   "source": [
    "## Affine cipher encryption algorithm"
   ]
  },
  {
   "cell_type": "code",
   "execution_count": 16,
   "metadata": {},
   "outputs": [],
   "source": [
    "def affine_cipher_enc_char(c, K):\n",
    "    x=f(c)\n",
    "    y= Mod(K[0]*x+K[1],N)\n",
    "    c=g(y)\n",
    "    return c"
   ]
  },
  {
   "cell_type": "code",
   "execution_count": 17,
   "metadata": {},
   "outputs": [],
   "source": [
    "def affine_cipher_enc_string(m, K):\n",
    "    c=\"\"\n",
    "    for ch in m:\n",
    "        c+=affine_cipher_enc_char(ch, K)\n",
    "    return c"
   ]
  },
  {
   "cell_type": "code",
   "execution_count": 18,
   "metadata": {},
   "outputs": [],
   "source": [
    "'''\n",
    "Takes base64 encoded string and returns base64 encoded string\n",
    "'''\n",
    "def affine_cipher_enc_b64(b, K):\n",
    "    m=base64.b64decode(b).decode()\n",
    "    c=affine_cipher_enc_string(m, K)\n",
    "    c=base64.b64encode(c.encode()).decode()\n",
    "    return c"
   ]
  },
  {
   "cell_type": "code",
   "execution_count": 37,
   "metadata": {},
   "outputs": [],
   "source": [
    "'''\n",
    "Takes base64 encoded string and returns string\n",
    "'''\n",
    "def affine_cipher_enc_b64_tostring(b, K):\n",
    "    m=base64.b64decode(b).decode()\n",
    "    c=affine_cipher_enc_string(m, K)\n",
    "    return c"
   ]
  },
  {
   "cell_type": "markdown",
   "metadata": {},
   "source": [
    "## Affine cipher decryption algorithm "
   ]
  },
  {
   "cell_type": "code",
   "execution_count": 33,
   "metadata": {},
   "outputs": [],
   "source": [
    "def affine_cipher_dec_char(c, K):\n",
    "    y=f(c)\n",
    "    x= Mod(y-K[1], N)/K[0]\n",
    "    c=g(x)\n",
    "    return c"
   ]
  },
  {
   "cell_type": "code",
   "execution_count": 34,
   "metadata": {},
   "outputs": [],
   "source": [
    "def affine_cipher_dec_string(m, K):\n",
    "    c=\"\"\n",
    "    for ch in m:\n",
    "        c+=affine_cipher_dec_char(ch, K)\n",
    "    return c"
   ]
  },
  {
   "cell_type": "code",
   "execution_count": 35,
   "metadata": {},
   "outputs": [],
   "source": [
    "'''\n",
    "Takes base64 encoded string and returns base64 encoded string\n",
    "'''\n",
    "def affine_cipher_dec_b64(b, K):\n",
    "    m=base64.b64decode(b).decode()\n",
    "    c=affine_cipher_dec_string(m, K)\n",
    "    c=base64.b64encode(c.encode()).decode()\n",
    "    return c"
   ]
  },
  {
   "cell_type": "code",
   "execution_count": 39,
   "metadata": {},
   "outputs": [],
   "source": [
    "'''\n",
    "Takes base64 encoded string and returns string\n",
    "'''\n",
    "def affine_cipher_dec_b64_tostring(b, K):\n",
    "    m=base64.b64decode(b).decode()\n",
    "    c=affine_cipher_dec_string(m, K)\n",
    "    return c"
   ]
  },
  {
   "cell_type": "markdown",
   "metadata": {},
   "source": [
    "### Question 1"
   ]
  },
  {
   "cell_type": "code",
   "execution_count": 8,
   "metadata": {},
   "outputs": [],
   "source": [
    "Q1a_M_tom=\"SSBhbSBhIHJlbGljIHRoZXkgd2FudCB0byBnZXQgcmlkIG9mLCBzbyB3aHkgZG8gSSBleGlzdCBhbmQgbGl2ZT8gSW4gb3JkZXIgdG8gZXhpc3QgeW91IG5lZWQgYSBwdXJwb3NlLCB0byBleGlzdCBmb3Igbm8gcmVhc29uIGlzIHRoZSBzYW1lIGFzIGJlaW5nIGRlYWQuLi4gSSB3b3VsZCBsb3ZlIG9ubHkgbXlzZWxmIGFuZCBmaWdodCBmb3Igb25seSBteXNlbGYuIElmIGFsbCBvdGhlciBwZW9wbGUgZXhpc3QgdG8gbWFnbmlmeSB0aGF0IGxvdmUsIHRoZW4gdGhlcmUgaXMgbm8gbW9yZSBhIHNwbGVuZGlkIHVuaXZlcnNlIHRoYW4gdGhpcyBvbmUuLi4gKEdhYXJhLCBOYXJ1dG8p\"\n",
    "Q1a_K_tom=(51, 42)"
   ]
  },
  {
   "cell_type": "code",
   "execution_count": 9,
   "metadata": {},
   "outputs": [],
   "source": [
    "Q1a_M_manon=\"SSBoYXRlIG5pY2UgZ2lybHMuIEp1c3QgZXhjaGFuZ2luZyBncmVldGluZ3Mgd2l0aCB0aGVtIHdpbGwgZ2V0IHRoZW0gb24geW91ciBtaW5kLiBTdGFydCB0ZXh0aW5nIGVhY2ggb3RoZXIsIGFuZCB5b3VyIGhlYXJ0IHdpbGwgYmUgc2V0IGEgZmx1dHRlci4gSWYgdGhleSBjYWxsIHlvdSwgeW91J3JlIGRvbmUgZm9yLiBFbmpveSBzdGFyaW5nIGF0IHlvdXIgbG9ncyBhbmQgZ3Jpbm5pbmcgbGlrZSBhIGZvb2wuIEhvd2V2ZXIsIEkgd29uJ3QgZ2V0IGZvb2xlZCBhZ2Fpbi4gVGhhdCdzIHdoYXQgeW91ciBraW5kIGNhbGxzIGtpbmRuZXNzLiBJZiB5b3UncmUgbmljZSB0byBtZSwgeW91J3JlIG5pY2UgdG8gb3RoZXJzLiBJIGFsd2F5cyBlbmQgdXAgbmVhcmx5IGZvcmdldHRpbmcgdGhhdC4gUmVhbGl0eSBpcyBjcnVlbCwgc28gSSdtIHN1cmUgbGllcyBhcmUgYSBmb3JtIG9mIGtpbmRuZXNzLiBUaHVzLCBJIHNheSBraW5kbmVzcyBpdHNlbGYgaXMgYWxzbyBhIGxpZS4gSSBhbHdheXMgZW5kZWQgdXAgd2l0aCB0aGVzZSBleHBlY3RhdGlvbnMuIEFuZCBJIGFsd2F5cyBlbmRlZCB1cCB3aXRoIHRoZXNlIG1pc3VuZGVyc3RhbmRpbmdzLiBBbmQgYmVmb3JlIEkga25ldyBpdCwgSSBzdG9wcGVkIGhvcGluZy4gQSBoaWdobHkgdHJhaW5lZCBsb25lciBpcyBvbmNlIGJpdHRlbiwgdHdpY2Ugc2h5LiBBcyBhIHZldGVyYW4gb24gdGhpcyBiYXR0bGVmaWVsZCBvZiBsaWZlLCBJJ3ZlIGdvdHRlbiB1c2VkIHRvIGxvc2luZy4gVGhhdCdzIHdoeSBJIGFsd2F5cyBoYXRlIG5pY2UgZ2lybHMuIChIYWNoaW1hbiBIaWtpZ2F5YSwgWWFoYXJpIE9yZSBObyBTZWlzaHVuIExvdmUgQ29tZSBXYSBNYWNoaWdhdHRlaXJ1KQ==\"\n",
    "Q1a_K_manon=(49, 89)"
   ]
  },
  {
   "cell_type": "code",
   "execution_count": 10,
   "metadata": {
    "scrolled": true
   },
   "outputs": [
    {
     "data": {
      "text/plain": [
       "'Nl06b106XWB8J2FbXTFTfCVdWDouMV0xdl0zfDFdYGFFXXZMWV1Kdl1YUyVdRXZdNl18ZmFKMV06LkVdJ2E4fEldNi5ddmBFfGBdMXZdfGZhSjFdJXZRXS58fEVdOl0/UWA/dkp8WV0xdl18ZmFKMV1MdmBdLnZdYHw6SnYuXWFKXTFTfF1KOm98XTpKXXh8YS4zXUV8OkUmJiZdNl1YdlEnRV0ndjh8XXYuJyVdbyVKfCdMXTouRV1MYTNTMV1MdmBddi4nJV1vJUp8J0wmXTZMXTonJ112MVN8YF0/fHY/J3xdfGZhSjFdMXZdbzozLmFMJV0xUzoxXSd2OHxZXTFTfC5dMVN8YHxdYUpdLnZdb3ZgfF06XUo/J3wuRWFFXVEuYTh8YEp8XTFTOi5dMVNhSl12LnwmJiZdSyA6OmA6WV0qOmBRMXYy'"
      ]
     },
     "execution_count": 10,
     "metadata": {},
     "output_type": "execute_result"
    }
   ],
   "source": [
    "affine_cipher_enc_b64(Q1a_M_tom, Q1a_K_tom)"
   ]
  },
  {
   "cell_type": "code",
   "execution_count": 43,
   "metadata": {},
   "outputs": [
    {
     "data": {
      "text/plain": [
       "'WUUmOVxmRS9sY2ZFaWw/LEFYRWVEQVxFZnxjJjkvaWwvaUVpP2ZmXGwvaUFFR2xcJkVcJmZyRUdsLCxFaWZcRVwmZnJFdS9FSnVEP0VybC9aWEUuXDk/XEVcZnxcbC9pRWY5YyZFdVwmZj9VRTkvWkVKdUQ/RSZmOT9cRUdsLCxFV2ZFQWZcRTlFIyxEXFxmP1hFWSNFXCZmSkVjOSwsRUp1RFVFSnVEMT9mRVp1L2ZFI3U/WEVTLyl1SkVBXDk/bC9pRTlcRUp1RD9FLHVpQUU5L1pFaT9sLy9sL2lFLGxvZkU5RSN1dSxYRWJ1R2ZfZj9VRVlFR3UvMVxFaWZcRSN1dSxmWkU5aTlsL1hFdCY5XDFBRUcmOVxFSnVEP0VvbC9aRWM5LCxBRW9sL1ovZkFBWEVZI0VKdUQxP2ZFL2xjZkVcdUVyZlVFSnVEMT9mRS9sY2ZFXHVFdVwmZj9BWEVZRTksRzlKQUVmL1pFRDxFL2Y5PyxKRSN1P2lmXFxsL2lFXCY5XFhFcWY5LGxcSkVsQUVjP0RmLFVFQXVFWTFyRUFEP2ZFLGxmQUU5P2ZFOUUjdT9yRXUjRW9sL1ovZkFBWEV0JkRBVUVZRUE5SkVvbC9aL2ZBQUVsXEFmLCNFbEFFOSxBdUU5RSxsZlhFWUU5LEc5SkFFZi9aZlpFRDxFR2xcJkVcJmZBZkVmfDxmY1w5XGx1L0FYRU0vWkVZRTksRzlKQUVmL1pmWkVEPEVHbFwmRVwmZkFmRXJsQUQvWmY/QVw5L1psL2lBWEVNL1pFV2YjdT9mRVlFby9mR0VsXFVFWUVBXHU8PGZaRSZ1PGwvaVhFTUUmbGkmLEpFXD85bC9mWkUsdS9mP0VsQUV1L2NmRVdsXFxmL1VFXEdsY2ZFQSZKWEVNQUU5RV9mXGY/OS9FdS9FXCZsQUVXOVxcLGYjbGYsWkV1I0UsbCNmVUVZMV9mRWl1XFxmL0VEQWZaRVx1RSx1QWwvaVhFdCY5XDFBRUcmSkVZRTksRzlKQUUmOVxmRS9sY2ZFaWw/LEFYRU9iOWMmbHI5L0VibG9saTlKOVVFWzkmOT9sRSg/ZkVrdUUuZmxBJkQvRWh1X2ZFUHVyZkU+OUUlOWMmbGk5XFxmbD9ENA=='"
      ]
     },
     "execution_count": 43,
     "metadata": {},
     "output_type": "execute_result"
    }
   ],
   "source": [
    "affine_cipher_enc_b64(Q1a_M_manon, Q1a_K_manon)"
   ]
  },
  {
   "cell_type": "code",
   "execution_count": 12,
   "metadata": {},
   "outputs": [
    {
     "data": {
      "text/plain": [
       "\"I hate nice girls. Just exchanging greetings with them will get them on your mind. Start texting each other, and your heart will be set a flutter. If they call you, you're done for. Enjoy staring at your logs and grinning like a fool. However, I won't get fooled again. That's what your kind calls kindness. If you're nice to me, you're nice to others. I always end up nearly forgetting that. Reality is cruel, so I'm sure lies are a form of kindness. Thus, I say kindness itself is also a lie. I always ended up with these expectations. And I always ended up with these misunderstandings. And before I knew it, I stopped hoping. A highly trained loner is once bitten, twice shy. As a veteran on this battlefield of life, I've gotten used to losing. That's why I always hate nice girls. (Hachiman Hikigaya, Yahari Ore No Seishun Love Come Wa Machigatteiru)\""
      ]
     },
     "execution_count": 12,
     "metadata": {},
     "output_type": "execute_result"
    }
   ],
   "source": [
    "base64.b64decode(Q1a_M_manon).decode()"
   ]
  },
  {
   "cell_type": "markdown",
   "metadata": {},
   "source": [
    "### Question 2"
   ]
  },
  {
   "cell_type": "code",
   "execution_count": 8,
   "metadata": {},
   "outputs": [],
   "source": [
    "Q1b_C_tom=\"WFRkJ3A6LGRnbFRULFRFZCdjLGRZbHhkN3AjI2RMMzosZDdjLHtkLCAsR3gnY3B7DGQ3cCMjZF1sWSxkJzNkOiw6M0dwLFQlZCs+J0VkJ2MzVCxkOnBHbEw+IzM+VGRZbHhURWQ3Yyx7ZHgzPmRse1lkImRsIzN7DGQ3cCdjZCwgLEd4M3ssZCwjVCxFZFQsbEdMYyxZZCczDCwnYyxHZF0zR2RDPlQnZDN7LGQnY3B7DCUlJWQ3cCMjZEwzeydwez4sZEcsIDMjIHB7DGRdM0csICxHJWR+MzosN2MsRyxkWSwsZ2Rwe2Q6eGRjLGxHJ2RsVGQ6eGR5cCcnLEdUNywsJ2Q6LDozR3glZF8qPj4nbGQ2bFAsOjMnM0VkTzN7LHhkbHtZZFwjMyAsRzE=\"\n",
    "Q1b_K_tom=(13, 91)"
   ]
  },
  {
   "cell_type": "code",
   "execution_count": 13,
   "metadata": {},
   "outputs": [],
   "source": [
    "Q1b_C_manon=\"QkY0NCtaYlp3dm1yL1ovJzptCVozRlpuNW1ad0ZtbFovJ0ZadzomLzptbi9aRXYmJjplOjQ6L2xaLyc1L1ovJ0ZaM3ZXNHdaM0ZaNVdGWjptWm12M1ozNSZaT1dGJic0bFpuV0Y1L0Z3K1plbFoyRlcrWjQ1Ji9abTpYJy8sWmJtWjVtbFpuNSZGK1o6L3ImWjVtWid2bXZXWi92WmRGRi9abHZcWjVtd1pMOiYmWjFcdVxkOmw1WjVYNTpte1pTNDVcWCc6bVhaJnZPLzRsU1pNRlomRkY6bVhabHZcWjVPL0ZXWm40NSYmLFpBYi8mXAk6WnR2OnVcZDorWmEnRlpMRjQ1bW4ndjRsWnZPWjI1V1wnOloxXHVcZDpsNUo=\"\n",
    "Q1b_K_manon=(9, 15)"
   ]
  },
  {
   "cell_type": "code",
   "execution_count": 48,
   "metadata": {},
   "outputs": [
    {
     "data": {
      "text/plain": [
       "'ZG9GRkM8WzxuSUh4TjxOcnNIdTwhbzxta0g8bm9IIzxOcm88bnNNTnNIbU48SklNTXNsc0ZzTiM8TnJrTjxOcm88IUlMRm48IW88a0xvPHNIPEhJITwha008cExvTXJGIzxtTG9rTm9uQzxsIzxAb0xDPEZrTU48SHNxck5oPFtIPGtIIzxta01vQzxzTnhNPGtIPHJJSElMPE5JPEdvb048I0lPPGtIbjxfc01NPDlPJE9HcyNrPGtxa3NIRTxBRmtPcXJzSHE8TUlwTkYjQTwmbzxNb29zSHE8I0lPPGtwTm9MPG1Ga01NaDx5W05NT3VzPF1JcyRPR3NDPGFybzxfb0ZrSG1ySUYjPElwPEBrTE9yczw5TyRPR3Mja3o='"
      ]
     },
     "execution_count": 48,
     "metadata": {},
     "output_type": "execute_result"
    }
   ],
   "source": [
    "affine_cipher_dec_b64(Q1b_C_manon, Q1b_K_manon)"
   ]
  },
  {
   "cell_type": "code",
   "execution_count": 47,
   "metadata": {},
   "outputs": [
    {
     "data": {
      "text/plain": [
       "\"I hate nice girls. Just exchanging greetings with them will get them on your mind. Start texting each other, and your heart will be set a flutter. If they call you, you're done for. Enjoy staring at your logs and grinning like a fool. However, I won't get fooled again. That's what your kind calls kindness. If you're nice to me, you're nice to others. I always end up nearly forgetting that. Reality is cruel, so I'm sure lies are a form of kindness. Thus, I say kindness itself is also a lie. I always ended up with these expectations. And I always ended up with these misunderstandings. And before I knew it, I stopped hoping. A highly trained loner is once bitten, twice shy. As a veteran on this battlefield of life, I've gotten used to losing. That's why I always hate nice girls. (Hachiman Hikigaya, Yahari Ore No Seishun Love Come Wa Machigatteiru)\""
      ]
     },
     "execution_count": 47,
     "metadata": {},
     "output_type": "execute_result"
    }
   ],
   "source": [
    "affine_cipher_dec_b64_tostring(affine_cipher_enc_b64(Q1a_M_manon, Q1a_K_manon), Q1a_K_manon)"
   ]
  },
  {
   "cell_type": "markdown",
   "metadata": {},
   "source": [
    "### Question 3"
   ]
  },
  {
   "cell_type": "code",
   "execution_count": 50,
   "metadata": {},
   "outputs": [],
   "source": [
    "Q1c_T_manon={' ': 0.14675767918088736, 'e': 0.09215017064846416, 'n': 0.07849829351535836}\n",
    "Q1c_C_manon=\"flxbW01KflxbW01KflxbW01KflxbWyEhIUolZEBFXAtKDWNNSmVkDEoMDXBAbEoJIltbSlQLW3BKQFZwSkVVZEBKVAsqXCEhIUo8C3NcR1xWRVZlW1xNSg0LRVQNKlVWZVtcTUpiZEVVSgtUSnFcDHFcRUBsSj1cU1xxSltUVHJkCwxKZVYqck1KC1xTXHFKYlZTXHFkCwxsSjdUDUoqVgsiRUpiZAtKVgxWZAtARUpFVWRASkZWCyJASmJkW1tsSj4NcXFcC0oKcWQMVnNcIkBKOVZGZAtWNUBWRlZKYmRbW0plXEpwVA1xSlRjY1QLXAtFbEoKXFtkXFNcSmRFbEprOVZGZAtWTUptXAsMXAtKbVRjY1ZKPg1xcVwLSiVWDFYLCzo=\"\n",
    "Q1c_H_manon=\"7fbaf93957584bf80fae8e2ca8da9ee2475da655589809abe7a9fa18417e23e7\""
   ]
  },
  {
   "cell_type": "code",
   "execution_count": null,
   "metadata": {},
   "outputs": [],
   "source": []
  }
 ],
 "metadata": {
  "interpreter": {
   "hash": "b0fa6594d8f4cbf19f97940f81e996739fb7646882a419484c72d19e05852a7e"
  },
  "kernelspec": {
   "display_name": "SageMath 9.4",
   "language": "sage",
   "name": "sagemath-9.4"
  },
  "language_info": {
   "codemirror_mode": {
    "name": "ipython",
    "version": 3
   },
   "file_extension": ".py",
   "mimetype": "text/x-python",
   "name": "python",
   "nbconvert_exporter": "python",
   "pygments_lexer": "ipython3",
   "version": "3.9.5"
  }
 },
 "nbformat": 4,
 "nbformat_minor": 4
}
