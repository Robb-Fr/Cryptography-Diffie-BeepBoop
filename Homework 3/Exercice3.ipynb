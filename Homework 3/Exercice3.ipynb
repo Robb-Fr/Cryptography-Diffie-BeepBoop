{
 "cells": [
  {
   "cell_type": "markdown",
   "metadata": {},
   "source": [
    "# Exercice 3"
   ]
  },
  {
   "cell_type": "code",
   "execution_count": 95,
   "metadata": {},
   "outputs": [],
   "source": [
    "import socket\n",
    "from itertools import permutations\n",
    "import base64"
   ]
  },
  {
   "cell_type": "markdown",
   "metadata": {},
   "source": [
    "## Parameters"
   ]
  },
  {
   "cell_type": "code",
   "execution_count": 96,
   "metadata": {},
   "outputs": [],
   "source": [
    "# used to avoid that commented lines print out in cells\n",
    "dummy_variable=1"
   ]
  },
  {
   "cell_type": "markdown",
   "metadata": {},
   "source": [
    "### Tom"
   ]
  },
  {
   "cell_type": "code",
   "execution_count": 97,
   "metadata": {},
   "outputs": [],
   "source": [
    "\n",
    "Q3a_a=10205520215211794787\n",
    "Q3a_m=14702000983551246473\n",
    "Q3a_l=64\n",
    "Q3a_N=22225732975555254133001575111729562738855817147952613194761939455442020101790347293228833206047422152184810640268543136788079608551341401290386739818811669872515192495533708452854374679467886579531786840062469698057252937018128082816638847049098950619377586565828909027431152009231208431841124946447400936484417075191573511689271110915460499309368673228415803415771364546669909613105526761403978499845345894802361400457140552633746659186749279144827484383260323210369553407190019789586513708460654850295169373975616722188973638933334418909422490571542197010900268595323505058906349793152778009907228052035938845703533\n",
    "Q3b_e=65537\n",
    "Q3b_N=268562672735111733661297309411828849949112058642233464543469093347207307415217527948410963859485241546872627990791580355316516131719684146280205829237788012385082401537849897663995382366425995388166396832239188493231611020723348881992108066988377801121149073561213593396290870967293911929368894357471854812451\n",
    "Q3b_C=235585891474937622788238846731855849337912581877964317682088164169289927013937958960186363891871149184629935989066954907729328624038090383384072288360611844359970845211934031337537440050223451236772185625177249534274841589239955493148436687096518751923153575575510102298392133377048790825368790138181030752951\n",
    "Q3c_e=65537\n",
    "Q3c_N=326849603782960159265795035481840975972269063901936650854643076923454929279441063866214583113207967918733517452907721715337627533821412097099565010248230852757744676691686511459349638474616758583223597798248074162636016226512663625650571431290064421296013650354865983232204652160446383183362623143473313031393\n",
    "Q3c_C=230148845850060338861959911234312962737093380680335681520640497294935967080271982995728851121959397747570771182809718641930867080214930803648643239516429196008630518243751624606274369260221389307413144350355705881162100132485543400985708628783601476976959376061853306878184857736702366073820243863872860212614\n",
    "Q3c_l=37\n",
    "SCIPER=299879\n",
    "\n",
    "dummy_variable=1"
   ]
  },
  {
   "cell_type": "markdown",
   "metadata": {},
   "source": [
    "### Manon"
   ]
  },
  {
   "cell_type": "code",
   "execution_count": 98,
   "metadata": {},
   "outputs": [],
   "source": [
    "'''\n",
    "Q3a_a=7240959507192038331\n",
    "Q3a_m=14990231360777486593\n",
    "Q3a_l=64\n",
    "Q3a_N=26235044939951285770812336766053122149621870206935670617728600001446448307757524475889441852807703168611278892502565503137664515998326371520579545359127269127267621602014156404854849136734829179165205814319399567157170826598607565118437971496097265316080630637296273814287405191895611307631640140705321473251544086982591943978418879243584553096093747034335509300330328594777289518416095714571524752532578254293137714218409946388554525224628494815156195408023663618384119052483747029472239520726719750250795403119407370237754818828920672883511229620297462307233466258058336269136843845758484773194479318325318621688927\n",
    "Q3b_e=65537\n",
    "Q3b_N=431058246635551418521448795664975438912326674727594851943696773588730116853706515580136392923015915592824367088626841120718797386851415287743561904149141902868124604115848700559473581881132163505636341015932390219425774081171088161355980907321333433274752317087593124047132978229321916790680880727189176384399\n",
    "Q3b_C=12074685569219944681717294441061535714321507990720535781396807149037846725018938695544243658970875167291482106329849845128167255795917969659366144147876517223374798912460043691209660345363788520427119026403582888658724157036449220011404982796412021857311509530410486344347675369524874889514879787634887450544\n",
    "Q3c_e=65537\n",
    "Q3c_N=260929967969203667369668114651616652263424656462341645332757350257774087599877969226988676940933621350589039338073985454338119478134914734500224072867138752480058318580040180084879973499329264517357199114882136755074631760867035916564416732329010938355417129620543837678926885457648701751808050363859233028493\n",
    "Q3c_C=257346191480082998751923137755682671636301706279760130934459447928256442641462904773163877104872827175278167330184555882422454622448523650508662688245821988751877382522126932109048613571794335839944183279428268855635707658224483866042692979213257431351921546077873862131334834155746749017057299706940525443558\n",
    "Q3c_l=37\n",
    "SCIPER=288305\n",
    "'''\n",
    "dummy_variable=1"
   ]
  },
  {
   "cell_type": "markdown",
   "metadata": {},
   "source": [
    "## Q3a - Factorize N"
   ]
  },
  {
   "cell_type": "markdown",
   "metadata": {},
   "source": [
    "### N generation parameters\n",
    "⚠️ should run the notebook in the right order to avoid inconsistancies"
   ]
  },
  {
   "cell_type": "code",
   "execution_count": 99,
   "metadata": {},
   "outputs": [],
   "source": [
    "# shorter notations for this exercice\n",
    "a = Q3a_a\n",
    "mu = Q3a_m\n",
    "l = Q3a_l\n",
    "N = Q3a_N\n",
    "# the security parameter is the length in bits of the primes generated\n",
    "lam = 1024\n",
    "# with t defined as in the hint\n",
    "t = lam//l - 1"
   ]
  },
  {
   "cell_type": "markdown",
   "metadata": {},
   "source": [
    "### Theoretical weakness"
   ]
  },
  {
   "cell_type": "markdown",
   "metadata": {},
   "source": [
    "We'll first find the theoretical weakness in this prime generation.\n",
    "\n",
    "Let us write the value of $s$ at step $i$ as $s^{(i)}=\\alpha^is^{(0)}$. Now if we write the prime generated $p$ (identical demonstration holds for $q$), we get: $p=\\sum_{i=0}^t\\alpha^{t-i}s_p^{(0)}2^{l*i}=\\alpha^ts_p^{(0)}\\sum_{i=0}^t(2^l\\alpha^{-1})^i$ from the analysis of the `Algorithm 1`. Note that $\\alpha^{-1}$ is inversed modulo $2^l$ as being an $l$ bit number.\n",
    "\n",
    "The developped value yields $p=s_p^{(t)}(1-(2^{l}\\alpha^{-1})^{t+1})(1-2^{l}\\alpha^{-1})^{-1}$ (Using the [sum of powers formula](https://en.wikipedia.org/wiki/Sums_of_powers) and $\\alpha^ts^{(0)}=s^{(t)}$)."
   ]
  },
  {
   "cell_type": "markdown",
   "metadata": {},
   "source": [
    "For the next part, we want to make sure that $1-2^{l}\\alpha$ is invertible $mod\\ 2^{2l}$:"
   ]
  },
  {
   "cell_type": "code",
   "execution_count": 100,
   "metadata": {},
   "outputs": [],
   "source": [
    "alpha_min_1 = inverse_mod(a,pow(2,l))\n",
    "assert gcd(1-2^l*alpha_min_1,2*l) == 1"
   ]
  },
  {
   "cell_type": "markdown",
   "metadata": {},
   "source": [
    "Now, we use the previous formula to write \n",
    "$$N=pq=s_p^{(t)}s_q^{(t)}(1-(2^{l}\\alpha^{-1})^{t+1})^2(1-2^{l}\\alpha^{-1})^{-2}$$\n",
    "$$N(1-(2^{l}\\alpha^{-1})^{t+1})^{-2}(1-2^{l}\\alpha^{-1})^{2}=s_p^{(t)}s_q^{(t)}$$\n",
    "We now can check that $2^{2l}|2^{l(t+1)}\\Rightarrow2^{l(t+1)}=0\\ mod\\ 2^{2l}$"
   ]
  },
  {
   "cell_type": "code",
   "execution_count": 101,
   "metadata": {},
   "outputs": [],
   "source": [
    "two_two_l=pow(2,2*l)\n",
    "assert power_mod(2,l*(t+1),two_two_l)==0 and power_mod(2,l*2*(t+1),two_two_l)==0"
   ]
  },
  {
   "cell_type": "markdown",
   "metadata": {},
   "source": [
    "This transform the above in:\n",
    "$$N(1-\\alpha^{-1}2^{l})^{2}\\ mod\\ 2^{2l}=s_p^{(t)}s_q^{(t)}\\ mod\\ 2^{2l}$$\n",
    "\n",
    "Note that here, we must invert $\\alpha$ modulo $2^{l}$ as it is originally, in the $p$ generation, an $l$ bits number.\n",
    "\n",
    "This is the weakness of this prime number generation. Indeed, $N$ can really be considered $mod\\ 2^{2l}$ as the generated number is said to be a 2048 bits prime number.\n",
    "\n",
    "This calculation gives access to a multiple of the seed used to generate the prime numbers."
   ]
  },
  {
   "cell_type": "markdown",
   "metadata": {},
   "source": [
    "### $(s_p^{(t)},s_q^{(t)})$ calculation"
   ]
  },
  {
   "cell_type": "markdown",
   "metadata": {},
   "source": [
    "#### $s_p^{(t)}s_q^{(t)}$ calculation\n",
    "From $s_p^{(t)}s_q^{(t)}$, we know both those numbers are numbers of at most $l$ bits. As $s_p^{(t)}s_q^{(t)}$ is only a $2l$ bits number, we can easily find its prime decomposition and doing so, combine its prime factors to **identify a pair of 64 bits numbers which must be $(s_p^{(t)},s_q^{(t)})$**.\n",
    "$$N(1-\\alpha^{-1}2^{l})^{2}\\ mod\\ 2^{2l}=s_p^{(t)}s_q^{(t)}\\ mod\\ 2^{2l}$$"
   ]
  },
  {
   "cell_type": "code",
   "execution_count": 102,
   "metadata": {},
   "outputs": [],
   "source": [
    "two_two_l = pow(2,2*l)\n",
    "alpha_min_1 = inverse_mod(a,pow(2,l))\n",
    "one_min_alpha_min_1_two_to_l_squared = power_mod(1-alpha_min_1*pow(2,l),2,two_two_l)"
   ]
  },
  {
   "cell_type": "code",
   "execution_count": 103,
   "metadata": {},
   "outputs": [],
   "source": [
    "s_p_t_s_q_t = Mod(N*one_min_alpha_min_1_two_to_l_squared,two_two_l).lift()"
   ]
  },
  {
   "cell_type": "markdown",
   "metadata": {},
   "source": [
    "#### From $s_p^{(t)}s_q^{(t)}$ to $s_p^{(t)}$ and $s_q^{(t)}$\n",
    "From the prime factorisation of $s_p^{(t)}s_q^{(t)}$, we try to find a product of 2 numbers that are less than 64 bits longs as we know $s_p^{(t)}$ and $s_q^{(t)}$ are created as $l$ bits numbers.\n",
    "\n",
    "This is easy as $s_p^{(t)}s_q^{(t)}$ is a 128 bits numbers which is easy to factor."
   ]
  },
  {
   "cell_type": "code",
   "execution_count": 104,
   "metadata": {
    "scrolled": false
   },
   "outputs": [
    {
     "data": {
      "text/plain": [
       "3^2 * 1039 * 157013 * 32328553 * 132858359 * 991796516497"
      ]
     },
     "execution_count": 104,
     "metadata": {},
     "output_type": "execute_result"
    }
   ],
   "source": [
    "s_p_t_s_q_t.factor()"
   ]
  },
  {
   "cell_type": "code",
   "execution_count": 105,
   "metadata": {},
   "outputs": [],
   "source": [
    "primes_list = [] # the flattened list of the prime factorisation, to ease calculations \n",
    "for prim in list(s_p_t_s_q_t.factor()):\n",
    "    for j in range(prim[1]):\n",
    "        primes_list.append(prim[0])"
   ]
  },
  {
   "cell_type": "code",
   "execution_count": 106,
   "metadata": {},
   "outputs": [],
   "source": [
    "def decompose_s_p_t_s_q_t():\n",
    "    potential = set()\n",
    "    for comb in permutations(primes_list): # we try all possible orders of the primes factors\n",
    "        s_p_test = 1\n",
    "        for p in comb: # we iteratively make the product of those numbers as long as we do not exceed 64 bits\n",
    "            if len(bin(s_p_test*p)[2:])<=l:\n",
    "                s_p_test *= p\n",
    "        if len(bin(s_p_test)[2:])<=l and len(bin(s_p_t_s_q_t//s_p_test)[2:])<=l: # if this yielded 2 numbers of less than 64 bits\n",
    "            potential.add((s_p_test,s_p_t_s_q_t//s_p_test))\n",
    "    return potential"
   ]
  },
  {
   "cell_type": "markdown",
   "metadata": {},
   "source": [
    "The potential candidates for $s_p^{(t)}s_q^{(t)}$ are:"
   ]
  },
  {
   "cell_type": "code",
   "execution_count": 107,
   "metadata": {
    "scrolled": false
   },
   "outputs": [
    {
     "data": {
      "text/plain": [
       "{(1401524518002691149, 4462628121941083553),\n",
       " (13387884365823250659, 467174839334230383)}"
      ]
     },
     "execution_count": 107,
     "metadata": {},
     "output_type": "execute_result"
    }
   ],
   "source": [
    "candidates = decompose_s_p_t_s_q_t(); candidates"
   ]
  },
  {
   "cell_type": "markdown",
   "metadata": {},
   "source": [
    "### `get_prime`$(1^\\lambda)$\n",
    "We implement the function as described in problem statement"
   ]
  },
  {
   "cell_type": "code",
   "execution_count": 108,
   "metadata": {},
   "outputs": [],
   "source": [
    "# implements the get_prime function for a certain seed s\n",
    "def get_prime(s):\n",
    "    p = 0\n",
    "    s = Mod(s,pow(2,l)) # we make sure s is of the right type\n",
    "    # we don't need to xor with mu as the seed we'll use already is xored as retrieved from formula\n",
    "    for i in range(0,t+1):\n",
    "        p = (p<<l) + s.lift() # we lift s to make sure we do not have p mod 2^l\n",
    "        s = Mod(a*s,pow(2,l))\n",
    "    return p"
   ]
  },
  {
   "cell_type": "markdown",
   "metadata": {},
   "source": [
    "### From $s_p^{(t)}$ and $s_q^{(t)}$ to $p$ and $q$\n",
    "\n",
    "Using the formula $\\alpha^ts^{(0)}=s^{(t)}$, we can get $s_p^{(0)}$ from $s_p^{(t)}$"
   ]
  },
  {
   "cell_type": "code",
   "execution_count": 109,
   "metadata": {},
   "outputs": [],
   "source": [
    "def s_p_t_to_s_p_0(s_p_t):\n",
    "    a_min_1 = inverse_mod(a,pow(2,l))\n",
    "    a_min_t = power_mod(a_min_1,t,pow(2,l))\n",
    "    return Mod(s_p_t*a_min_t, pow(2,l)).lift()"
   ]
  },
  {
   "cell_type": "markdown",
   "metadata": {},
   "source": [
    "We can then try over all our $s_p^{(t)}$ candidates to see which ones yields a $s_p^{(0)}$ that is a seed that generates a prime number $p$ such that $q=N/p$ also is a prime number and $N=pq$."
   ]
  },
  {
   "cell_type": "code",
   "execution_count": 110,
   "metadata": {
    "scrolled": false
   },
   "outputs": [
    {
     "name": "stdout",
     "output_type": "stream",
     "text": [
      "Found N's factors !\n",
      "\n",
      "p = 154917840673818039068856791346962435367666988963723601666038442495257817750536496278067627359297502926200988010223082350833657266100023752027170270720620184779641428950785907100783837408878552936237934719903769688007848990272818039213579736312941508205723514276001503511079186626724820881398171105691766788323\n",
      "\n",
      "q = 143467872253344184129290393055667479851597703933445864037322275887514457673951832275994213294243833957227494517983507977288235043941615556886817108382026511641159363705719537446897279075679034227742314588150158498478113676100989895454522801915822426422258990780409569765755522784188307266971282328038232316271\n"
     ]
    }
   ],
   "source": [
    "p=0\n",
    "q=0\n",
    "for c in candidates:\n",
    "    s_p_0=s_p_t_to_s_p_0(c[0])\n",
    "    prim_cand = get_prime(s_p_0)\n",
    "    if is_prime(prim_cand) and is_prime(N//prim_cand):\n",
    "        assert get_prime(s_p_t_to_s_p_0(c[1]))==N//prim_cand # we makes sure both our seeds work\n",
    "        if prim_cand > N//prim_cand: # we order p and q accordingly to the problem requirements\n",
    "            p = prim_cand\n",
    "            q = N//prim_cand\n",
    "        else:\n",
    "            q = prim_cand\n",
    "            p = N//prim_cand\n",
    "        print(\"Found N's factors !\\n\\np = \"+str(p)+\"\\n\\nq = \"+str(q))\n",
    "if p==0 or q==0:\n",
    "    print(\"Error, prime factors not found ...\")"
   ]
  },
  {
   "cell_type": "markdown",
   "metadata": {},
   "source": [
    "## Q3b - Oracle 1 Break Plaintext"
   ]
  },
  {
   "cell_type": "markdown",
   "metadata": {},
   "source": [
    "### Parameters"
   ]
  },
  {
   "cell_type": "code",
   "execution_count": 111,
   "metadata": {},
   "outputs": [],
   "source": [
    "# shorter notations for this exercice\n",
    "e = Q3b_e\n",
    "N = Q3b_N\n",
    "C = Q3b_C "
   ]
  },
  {
   "cell_type": "markdown",
   "metadata": {},
   "source": [
    "### Theoretical Weakness\n",
    "To exploit the oracle here, we'll use the following fact: as $p$ and $q$ are prime and greater than 2, we can assert that $N=pq$ is the product of 2 odd numbers and is therfore odd.\n",
    "\n",
    "$O(C)$ leaks $LSB(m)$ where $Enc_e(m)=C$. Once this is done, we use the homomorphic property $Enc_e(m)*Enc_e(2)=C=Enc_e(2*m)$. The oracle gives therfore $LSB(2*m)$. There are 2 cases:\n",
    "* $LSB(2*m)=0$\n",
    "* $LSB(2*m)=1$\n",
    "\n",
    "$2m$ is an even number in an integer Ring, however, we must consider the plaintext elements to still be in $Z_N$. \n",
    "\n",
    "If $2m<N$, $2m$ is an element of $Z_N$ and is therefore still even. However, if $2m>N$, therefore it's $2m-N$ that belongs to $Z_N$. As $2m$ is even and $N$ odd, the leaked LSB by the oracle is therefore $1$.\n",
    "\n",
    "We can then use the LSB to know whether $2^km\\gtreqless N$ and dicotomically classify $m$ as a fraction of $N$."
   ]
  },
  {
   "cell_type": "markdown",
   "metadata": {},
   "source": [
    "### Oracle Communication"
   ]
  },
  {
   "cell_type": "code",
   "execution_count": 112,
   "metadata": {},
   "outputs": [],
   "source": [
    "def get_parity(c, csock):\n",
    "    b=\"\"\n",
    "    data = str(SCIPER) + \" \" + hex(c)[2:] + \"\\n\"\n",
    "    csock.send(data.encode()) # call the oracle\n",
    "    b = str(csock.recv(1).decode()) # read the result\n",
    "    assert b in [\"0\",\"1\"] # check we returned a bit\n",
    "    return b"
   ]
  },
  {
   "cell_type": "code",
   "execution_count": 113,
   "metadata": {},
   "outputs": [],
   "source": [
    "with socket.socket(socket.AF_INET, socket.SOCK_STREAM) as csock:\n",
    "    csock.connect(('lasecpi1.epfl.ch', 8888)) # connect to the oracle\n",
    "    assert get_parity(power_mod(2,e,N),csock)==\"0\"\n",
    "    assert get_parity(power_mod(2763478291,e,N),csock)==\"1\"\n",
    "    assert get_parity(power_mod(987281909,e,N),csock)==\"1\"\n",
    "    assert get_parity(power_mod(7843921837346732943587218223,e,N),csock)==\"1\"\n",
    "    assert get_parity(power_mod(9283716738940219890,e,N),csock)==\"0\""
   ]
  },
  {
   "cell_type": "markdown",
   "metadata": {},
   "source": [
    "### Dicotomic Search"
   ]
  },
  {
   "cell_type": "markdown",
   "metadata": {},
   "source": [
    "Regarding the previou argument, we can therefore successively classify $C$ as being:\n",
    "* $0<m<N/2$\n",
    "  * After that, by knowing the LSB of $2^2m$, we can know if $m\\gtreqless N/4$ and classify again $m$:\n",
    "  * $0<m<N/4$\n",
    "  * $N/4<m<N/2$\n",
    "* $N/2<m<N$\n",
    "  * After that, by knowing the LSB of $2^2m$, we can know if $m\\gtreqless 3N/4$ and classify again $m$:\n",
    "  * $N/2<m<3N/4$\n",
    "  * $3N/4<m<N$\n",
    "  \n",
    "This successive binary classification leads us to search the value of $m$ in smaller and smaller intervals. Theoretically, we should be able to perform this binary search until $m$ can only take one single value possible. However, it happens empirically that the correct plaintext is not found doing so, this is why we perform the search only on the first $1018$ bits of $m$ (indeed the plaintext is not found in the bounds after the 1019's iteration). After that, we have only a few remaining plaintexts values to bruteforce and can easily verify our answer as encryption in textbook RSA is deterministic."
   ]
  },
  {
   "cell_type": "code",
   "execution_count": 114,
   "metadata": {},
   "outputs": [],
   "source": [
    "def break_plaintext():\n",
    "    k = 1\n",
    "    lower = 0\n",
    "    upper = N-1\n",
    "    with socket.socket(socket.AF_INET, socket.SOCK_STREAM) as csock:\n",
    "        csock.connect(('lasecpi1.epfl.ch', 8888)) # connect to the oracle\n",
    "        while k < 1018: # N is said to be a 1024 bit number, 1018 is found empirically as explained above\n",
    "            enc_two_to_k_m = Mod(C*power_mod(2^k,e,N),N).lift() # Enc_e(2^k*m) using homomorphic property\n",
    "            middle = (lower+upper)//2\n",
    "            if get_parity(enc_two_to_k_m, csock)==\"1\":\n",
    "                lower = middle-1 # we make a slightly greater bound to avoid missing the value\n",
    "            else:\n",
    "                upper = middle+1 # we make a slightly greater bound to avoid missing the value\n",
    "            k+=1\n",
    "    print(\"--Bound search finished--\")\n",
    "    for i in range(lower,upper+1):\n",
    "        if power_mod(i,e,N)==C:\n",
    "            print(\"Found a corresponding plaintext!\\nm = \"+str(i))\n",
    "            return i"
   ]
  },
  {
   "cell_type": "code",
   "execution_count": 115,
   "metadata": {
    "scrolled": true
   },
   "outputs": [
    {
     "name": "stdout",
     "output_type": "stream",
     "text": [
      "--Bound search finished--\n",
      "Found a corresponding plaintext!\n",
      "m = 180379766714911300467707518203459002227307708738475490797929366137252976230368580875386655513992050590459661838744706179450722268714919456978353596409717257752814587827080402427070699065334735113761828258622916020679494264658933463014550966317939865653390146006781228329\n"
     ]
    }
   ],
   "source": [
    "ptext = break_plaintext()"
   ]
  },
  {
   "cell_type": "code",
   "execution_count": 116,
   "metadata": {
    "scrolled": true
   },
   "outputs": [
    {
     "data": {
      "text/plain": [
       "\"Why are you looking for something when you can't even remember what it is? (Takashi Natsume, Natsume Yuujinchou)\""
      ]
     },
     "execution_count": 116,
     "metadata": {},
     "output_type": "execute_result"
    }
   ],
   "source": [
    "string_ptext = int(ptext).to_bytes((int(ptext).bit_length() + 7) // 8,\"big\").decode(); string_ptext"
   ]
  },
  {
   "cell_type": "code",
   "execution_count": 117,
   "metadata": {
    "scrolled": false
   },
   "outputs": [
    {
     "data": {
      "text/plain": [
       "'V2h5IGFyZSB5b3UgbG9va2luZyBmb3Igc29tZXRoaW5nIHdoZW4geW91IGNhbid0IGV2ZW4gcmVtZW1iZXIgd2hhdCBpdCBpcz8gKFRha2FzaGkgTmF0c3VtZSwgTmF0c3VtZSBZdXVqaW5jaG91KQ=='"
      ]
     },
     "execution_count": 117,
     "metadata": {},
     "output_type": "execute_result"
    }
   ],
   "source": [
    "base64.b64encode(string_ptext.encode()).decode()"
   ]
  },
  {
   "cell_type": "markdown",
   "metadata": {},
   "source": [
    "## Q3c - Oracle 2 Break Plaintext"
   ]
  },
  {
   "cell_type": "code",
   "execution_count": null,
   "metadata": {},
   "outputs": [],
   "source": []
  }
 ],
 "metadata": {
  "kernelspec": {
   "display_name": "SageMath 9.4",
   "language": "sage",
   "name": "sagemath-9.4"
  },
  "language_info": {
   "codemirror_mode": {
    "name": "ipython",
    "version": 3
   },
   "file_extension": ".py",
   "mimetype": "text/x-python",
   "name": "python",
   "nbconvert_exporter": "python",
   "pygments_lexer": "ipython3",
   "version": "3.9.5"
  },
  "toc": {
   "base_numbering": 1,
   "nav_menu": {},
   "number_sections": true,
   "sideBar": true,
   "skip_h1_title": false,
   "title_cell": "Table of Contents",
   "title_sidebar": "Contents",
   "toc_cell": false,
   "toc_position": {},
   "toc_section_display": true,
   "toc_window_display": false
  }
 },
 "nbformat": 4,
 "nbformat_minor": 4
}
