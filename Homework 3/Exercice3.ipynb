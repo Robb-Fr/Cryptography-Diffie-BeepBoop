{
 "cells": [
  {
   "cell_type": "markdown",
   "metadata": {},
   "source": [
    "# Exercice 3"
   ]
  },
  {
   "cell_type": "code",
   "execution_count": 1,
   "metadata": {},
   "outputs": [],
   "source": [
    "import socket"
   ]
  },
  {
   "cell_type": "markdown",
   "metadata": {},
   "source": [
    "## Parameters"
   ]
  },
  {
   "cell_type": "code",
   "execution_count": 2,
   "metadata": {},
   "outputs": [],
   "source": [
    "# used to avoid that commented lines print out in cells\n",
    "dummy_variable=1"
   ]
  },
  {
   "cell_type": "markdown",
   "metadata": {},
   "source": [
    "### Tom"
   ]
  },
  {
   "cell_type": "code",
   "execution_count": 3,
   "metadata": {},
   "outputs": [],
   "source": [
    "\n",
    "Q3a_a=10205520215211794787\n",
    "Q3a_m=14702000983551246473\n",
    "Q3a_l=64\n",
    "Q3a_N=22225732975555254133001575111729562738855817147952613194761939455442020101790347293228833206047422152184810640268543136788079608551341401290386739818811669872515192495533708452854374679467886579531786840062469698057252937018128082816638847049098950619377586565828909027431152009231208431841124946447400936484417075191573511689271110915460499309368673228415803415771364546669909613105526761403978499845345894802361400457140552633746659186749279144827484383260323210369553407190019789586513708460654850295169373975616722188973638933334418909422490571542197010900268595323505058906349793152778009907228052035938845703533\n",
    "Q3b_e=65537\n",
    "Q3b_N=268562672735111733661297309411828849949112058642233464543469093347207307415217527948410963859485241546872627990791580355316516131719684146280205829237788012385082401537849897663995382366425995388166396832239188493231611020723348881992108066988377801121149073561213593396290870967293911929368894357471854812451\n",
    "Q3b_C=235585891474937622788238846731855849337912581877964317682088164169289927013937958960186363891871149184629935989066954907729328624038090383384072288360611844359970845211934031337537440050223451236772185625177249534274841589239955493148436687096518751923153575575510102298392133377048790825368790138181030752951\n",
    "Q3c_e=65537\n",
    "Q3c_N=326849603782960159265795035481840975972269063901936650854643076923454929279441063866214583113207967918733517452907721715337627533821412097099565010248230852757744676691686511459349638474616758583223597798248074162636016226512663625650571431290064421296013650354865983232204652160446383183362623143473313031393\n",
    "Q3c_C=230148845850060338861959911234312962737093380680335681520640497294935967080271982995728851121959397747570771182809718641930867080214930803648643239516429196008630518243751624606274369260221389307413144350355705881162100132485543400985708628783601476976959376061853306878184857736702366073820243863872860212614\n",
    "Q3c_l=37\n",
    "\n",
    "dummy_variable=1"
   ]
  },
  {
   "cell_type": "markdown",
   "metadata": {},
   "source": [
    "### Manon"
   ]
  },
  {
   "cell_type": "code",
   "execution_count": 4,
   "metadata": {},
   "outputs": [],
   "source": [
    "'''\n",
    "Q3a_a=7240959507192038331\n",
    "Q3a_m=14990231360777486593\n",
    "Q3a_l=64\n",
    "Q3a_N=26235044939951285770812336766053122149621870206935670617728600001446448307757524475889441852807703168611278892502565503137664515998326371520579545359127269127267621602014156404854849136734829179165205814319399567157170826598607565118437971496097265316080630637296273814287405191895611307631640140705321473251544086982591943978418879243584553096093747034335509300330328594777289518416095714571524752532578254293137714218409946388554525224628494815156195408023663618384119052483747029472239520726719750250795403119407370237754818828920672883511229620297462307233466258058336269136843845758484773194479318325318621688927\n",
    "Q3b_e=65537\n",
    "Q3b_N=431058246635551418521448795664975438912326674727594851943696773588730116853706515580136392923015915592824367088626841120718797386851415287743561904149141902868124604115848700559473581881132163505636341015932390219425774081171088161355980907321333433274752317087593124047132978229321916790680880727189176384399\n",
    "Q3b_C=12074685569219944681717294441061535714321507990720535781396807149037846725018938695544243658970875167291482106329849845128167255795917969659366144147876517223374798912460043691209660345363788520427119026403582888658724157036449220011404982796412021857311509530410486344347675369524874889514879787634887450544\n",
    "Q3c_e=65537\n",
    "Q3c_N=260929967969203667369668114651616652263424656462341645332757350257774087599877969226988676940933621350589039338073985454338119478134914734500224072867138752480058318580040180084879973499329264517357199114882136755074631760867035916564416732329010938355417129620543837678926885457648701751808050363859233028493\n",
    "Q3c_C=257346191480082998751923137755682671636301706279760130934459447928256442641462904773163877104872827175278167330184555882422454622448523650508662688245821988751877382522126932109048613571794335839944183279428268855635707658224483866042692979213257431351921546077873862131334834155746749017057299706940525443558\n",
    "Q3c_l=37\n",
    "'''\n",
    "dummy_variable=1"
   ]
  },
  {
   "cell_type": "markdown",
   "metadata": {},
   "source": [
    "## Q3a - Factorize N"
   ]
  },
  {
   "cell_type": "markdown",
   "metadata": {},
   "source": [
    "### N generation parameters\n",
    "⚠️ should run the notebook in the right order to avoid inconsistancies"
   ]
  },
  {
   "cell_type": "code",
   "execution_count": 5,
   "metadata": {},
   "outputs": [],
   "source": [
    "# shorter notations for this exercice\n",
    "a = Q3a_a\n",
    "mu = Q3a_m\n",
    "l = Q3a_l\n",
    "N = Q3a_N\n",
    "# the security parameter is the length in bits of the primes generated\n",
    "lam = 1024\n",
    "# with t defined as in the hint\n",
    "t = lam//l - 1"
   ]
  },
  {
   "cell_type": "markdown",
   "metadata": {},
   "source": [
    "### Theoretical weakness"
   ]
  },
  {
   "cell_type": "markdown",
   "metadata": {},
   "source": [
    "We'll first find the theoretical weakness in this prime generation.\n",
    "\n",
    "Let us write the value of $s$ at step $i$ as $s^{(i)}=\\alpha^is^{(0)}$. Now if we write the prime generated $p$ (identical demonstration holds for $q$), we get: $p=\\sum_{i=0}^t\\alpha^{t-i}s_p^{(0)}2^{l*i}$ from the analysis of the `Algorithm 1`.\n",
    "\n",
    "The developped value yields $p=\\alpha s_p^{(t)}\\frac{1-(2^{l}\\alpha^{-1})^{t+1}}{\\alpha-2^{l}}$ (Using the [sum of powers formula](https://en.wikipedia.org/wiki/Sums_of_powers) and $\\alpha^ts^{(0)}=s^{(t)}$).\n",
    "\n",
    "For the next part, we want to make sure that $\\alpha-2^{l}$ is invertible $mod\\ 2^{2l}$:"
   ]
  },
  {
   "cell_type": "code",
   "execution_count": 6,
   "metadata": {},
   "outputs": [],
   "source": [
    "assert gcd(a-2^l,2*l) == 1 and gcd((a-2^l)^2,2*l) == 1"
   ]
  },
  {
   "cell_type": "markdown",
   "metadata": {},
   "source": [
    "Now, we use this to write \n",
    "$$N=pq=\\alpha^2s_p^{(t)}s_q^{(t)}(\\frac{1-(2^{l}\\alpha^{-1})^{t+1}}{\\alpha-2^{l}})^2$$\n",
    "$$=\\alpha^2s_p^{(t)}s_q^{(t)}\\frac{1-2(2^{l}\\alpha^{-1})^{t+1}+(2^{l}\\alpha^{-1})^{2(t+1)}}{(\\alpha-2^{l})^2}$$\n",
    "We now can check that $2^{2l}|2^{l(t+1)}\\Rightarrow2^{l(t+1)}=0\\ mod\\ 2^{2l}$"
   ]
  },
  {
   "cell_type": "code",
   "execution_count": 7,
   "metadata": {},
   "outputs": [],
   "source": [
    "two_to_two_l=pow(2,2*l)\n",
    "assert power_mod(2,l*(t+1),two_to_two_l)==0 and power_mod(2,l*2*(t+1),two_to_two_l)==0"
   ]
  },
  {
   "cell_type": "markdown",
   "metadata": {},
   "source": [
    "This transform the above in:\n",
    "$$N\\ mod\\ 2^{2l}=\\alpha^2s_p^{(t)}s_q^{(t)}\\frac{1}{(\\alpha-2^{l})^2}\\ mod\\ 2^{2l}$$\n",
    "Giving:\n",
    "$$s_p^{(t)}s_q^{(t)}=N(\\frac{(\\alpha-2^{l})}{\\alpha})^2\\ mod\\ 2^{2l}$$\n",
    "This is the weakness of this prime number generation. Indeed, $N$ can really be considered $mod\\ 2^{2l}$ as the generated number is said to be a 2048 bits prime number.\n",
    "\n",
    "This calculation gives access to a multiple of the seed used to generate the prime numbers."
   ]
  },
  {
   "cell_type": "markdown",
   "metadata": {},
   "source": [
    "Using the generation algorithm `Algorithm 1` we can then reconstruct $$\\sum_{i=0}^t\\alpha^{t-i}s_p^{(0)}s_q^{(0)}2^{64*i}=s_q^{(0)}p=s_p^{(0)}q$$\n",
    "Noting that $s_q^{(0)}$ is a number of at most 64 bits, then very easy to factor which allows us to both isolate $p$ and $s_q^{(0)}$ to therefore, in the same way, crack $q$."
   ]
  },
  {
   "cell_type": "markdown",
   "metadata": {},
   "source": [
    "### `get_prime`$(1^\\lambda)$"
   ]
  },
  {
   "cell_type": "code",
   "execution_count": 8,
   "metadata": {},
   "outputs": [],
   "source": [
    "# implements the get_prime function for a certain seed s\n",
    "def get_prime(s):\n",
    "    p = 0\n",
    "    s = Mod(s,pow(2,l)) # we make sure s is of the right type\n",
    "    for i in range(0,t+1):\n",
    "        p = (p<<l) + s.lift() # we lift s to make sure we do not have p mod 2^l\n",
    "        s = Mod(a*s,pow(2,l))\n",
    "    return p"
   ]
  },
  {
   "cell_type": "markdown",
   "metadata": {},
   "source": [
    "### $s_p^{(0)}s_q^{(0)}$ calculation\n",
    "$$N(\\alpha-2^{l})^2\\alpha^{-2}\\ mod\\ 2^{2l}=s_p^{(t)}s_q^{(t)}$$"
   ]
  },
  {
   "cell_type": "code",
   "execution_count": 9,
   "metadata": {},
   "outputs": [],
   "source": [
    "two_two_l = pow(2,2*l)\n",
    "alpha__2_to_l_square = power_mod(a-pow(2,l),2,two_two_l)\n",
    "alpha_min_2 = power_mod(inverse_mod(a,two_two_l),2,two_two_l)"
   ]
  },
  {
   "cell_type": "code",
   "execution_count": 10,
   "metadata": {},
   "outputs": [],
   "source": [
    "s_p_t_s_q_t = Mod(N*alpha__2_to_l_square*alpha_min_2,two_two_l)"
   ]
  },
  {
   "cell_type": "code",
   "execution_count": 11,
   "metadata": {
    "scrolled": true
   },
   "outputs": [
    {
     "data": {
      "text/plain": [
       "[(991796516497, 1),\n",
       " (132858359, 1),\n",
       " (32328553, 1),\n",
       " (157013, 1),\n",
       " (1039, 1),\n",
       " (3, 2)]"
      ]
     },
     "execution_count": 11,
     "metadata": {},
     "output_type": "execute_result"
    }
   ],
   "source": [
    "list(reversed(s_p_t_s_q_t.lift().factor()))"
   ]
  },
  {
   "cell_type": "code",
   "execution_count": 12,
   "metadata": {},
   "outputs": [],
   "source": [
    "def decompose_s_p_t_s_q_t(s_p_s_q):\n",
    "    fac = list(reversed(s_p_s_q.lift().factor()))\n",
    "    s_p_t = 1\n",
    "    i = 0 # the index of the exploration of the prime factorisation\n",
    "    while len(bin(s_p_s_q//s_p_t)[2:])>=l and i<len(fac): # we iterate as long as we have numbers of more than l bits\n",
    "        for j in range(0,fac[i][1]): # j is the number of times the prime fac[i][0] appears in prime decomposition\n",
    "            if len(bin(s_p_t*fac[i][0])[2:])<l: # we can increase the potential s_p_t if it does not make it more than l bits\n",
    "                s_p_t *= fac[i][0]\n",
    "        i += 1\n",
    "    return (s_p_t, s_p_s_q//s_p_t)"
   ]
  },
  {
   "cell_type": "code",
   "execution_count": 13,
   "metadata": {
    "scrolled": false
   },
   "outputs": [
    {
     "data": {
      "text/plain": [
       "(1401524518002691149, 4462628121941083553)"
      ]
     },
     "execution_count": 13,
     "metadata": {},
     "output_type": "execute_result"
    }
   ],
   "source": [
    "decompose_s_p_t_s_q_t(s_p_t_s_q_t)"
   ]
  },
  {
   "cell_type": "code",
   "execution_count": 19,
   "metadata": {},
   "outputs": [
    {
     "data": {
      "text/plain": [
       "3^2 * 157013 * 991796516497"
      ]
     },
     "execution_count": 19,
     "metadata": {},
     "output_type": "execute_result"
    }
   ],
   "source": [
    "1401524518002691149.factor()"
   ]
  },
  {
   "cell_type": "code",
   "execution_count": 14,
   "metadata": {},
   "outputs": [],
   "source": [
    "a_min_1 = inverse_mod(a,pow(2,l))\n",
    "a_min_t = power_mod(a_min_1,t,pow(2,l))\n",
    "s_p_0 = Mod(1401524518002691149*a_min_t, pow(2,l))"
   ]
  },
  {
   "cell_type": "code",
   "execution_count": 15,
   "metadata": {
    "scrolled": false
   },
   "outputs": [
    {
     "data": {
      "text/plain": [
       "7271698962667802119"
      ]
     },
     "execution_count": 15,
     "metadata": {},
     "output_type": "execute_result"
    }
   ],
   "source": [
    "s_p_0"
   ]
  },
  {
   "cell_type": "markdown",
   "metadata": {},
   "source": [
    "### $p,q$ cracking"
   ]
  },
  {
   "cell_type": "code",
   "execution_count": 16,
   "metadata": {},
   "outputs": [],
   "source": [
    "p = get_prime(7271698962667802119)"
   ]
  },
  {
   "cell_type": "code",
   "execution_count": 17,
   "metadata": {
    "scrolled": false
   },
   "outputs": [
    {
     "data": {
      "text/plain": [
       "70864989787569370832264826997797493750844333624001089254230438489483013883984111587260435838214770585313753451794354215466577899294816652686024599162955755422447459315433352864375267714564918726784822646434707532699528137095311859262221983098574737356551846189921843400603423911843020996512364824599810870349"
      ]
     },
     "execution_count": 17,
     "metadata": {},
     "output_type": "execute_result"
    }
   ],
   "source": [
    "p"
   ]
  },
  {
   "cell_type": "code",
   "execution_count": 18,
   "metadata": {
    "scrolled": true
   },
   "outputs": [
    {
     "data": {
      "text/plain": [
       "False"
      ]
     },
     "execution_count": 18,
     "metadata": {},
     "output_type": "execute_result"
    }
   ],
   "source": [
    "is_prime(N//p)"
   ]
  },
  {
   "cell_type": "markdown",
   "metadata": {},
   "source": [
    "## Q3b - Oracle 1 Break Plaintext"
   ]
  },
  {
   "cell_type": "code",
   "execution_count": null,
   "metadata": {},
   "outputs": [],
   "source": []
  },
  {
   "cell_type": "markdown",
   "metadata": {},
   "source": [
    "## Q3c - Oracle 2 Break Plaintext"
   ]
  },
  {
   "cell_type": "code",
   "execution_count": null,
   "metadata": {},
   "outputs": [],
   "source": []
  }
 ],
 "metadata": {
  "kernelspec": {
   "display_name": "SageMath 9.4",
   "language": "sage",
   "name": "sagemath-9.4"
  },
  "language_info": {
   "codemirror_mode": {
    "name": "ipython",
    "version": 3
   },
   "file_extension": ".py",
   "mimetype": "text/x-python",
   "name": "python",
   "nbconvert_exporter": "python",
   "pygments_lexer": "ipython3",
   "version": "3.9.5"
  }
 },
 "nbformat": 4,
 "nbformat_minor": 4
}
